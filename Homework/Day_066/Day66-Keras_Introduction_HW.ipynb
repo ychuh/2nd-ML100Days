{
 "cells": [
  {
   "cell_type": "markdown",
   "metadata": {},
   "source": [
    "# DAY_066"
   ]
  },
  {
   "cell_type": "markdown",
   "metadata": {},
   "source": [
    "***\n",
    "### [作業目標]\n",
    "- 檢查 backend\n",
    "- 檢查 fuzz factor\n",
    "- 設定 Keras 浮點運算為float16\n",
    "\n",
    "### [參考資料]\n",
    "- [延伸閱讀: Keras文檔](https://github.com/keras-team/keras/tree/master/docs)\n",
    "  - Keras文檔的來源位於此目錄中。我們的文檔使用由MkDocs實現的擴展Markdown 。 \n",
    "  - 構建文檔 安裝MkDocs： pip install mkdocs \n",
    "  - pip install -e . 確保Python將導入您修改後的Keras版本。 \n",
    "  - 從根目錄cd進入docs/文件夾並運行： \n",
    "  - KERAS_BACKEND=tensorflow python autogen.py\n",
    "  - mkdocs serve ＃啟動本地Web服務器： localhost：8000 \n",
    "  - mkdocs build ＃在site/目錄中構建靜態站點 \n",
    "  \n",
    "- [Keras: 中文文檔](https://keras.io/zh/#keras_1)\n"
   ]
  },
  {
   "cell_type": "code",
   "execution_count": 6,
   "metadata": {},
   "outputs": [],
   "source": [
    "import keras\n",
    "from keras import backend as K\n",
    "import warnings\n",
    "warnings.filterwarnings('ignore')"
   ]
  },
  {
   "cell_type": "markdown",
   "metadata": {},
   "source": [
    "# fuzz factor\n",
    "\n",
    "數值表達式中使用的模糊因子。\n",
    "此功能是一組Keras後端功能的一部分，可以對後端張量引擎（例如TensorFlow，CNTK，Theano等）的核心操作進行更低級別的訪問。"
   ]
  },
  {
   "cell_type": "code",
   "execution_count": 7,
   "metadata": {},
   "outputs": [
    {
     "name": "stdout",
     "output_type": "stream",
     "text": [
      "2.2.4\n"
     ]
    }
   ],
   "source": [
    "print(keras.__version__)"
   ]
  },
  {
   "cell_type": "code",
   "execution_count": 8,
   "metadata": {},
   "outputs": [
    {
     "data": {
      "text/plain": [
       "True"
      ]
     },
     "execution_count": 8,
     "metadata": {},
     "output_type": "execute_result"
    }
   ],
   "source": [
    "#  GPU加速测试, True - Windows用戶得到True也沒有關係，因為Anaconda中已經內置了MKL加速庫\n",
    "import numpy \n",
    "id(numpy.dot) == id(numpy.core.multiarray.dot) "
   ]
  },
  {
   "cell_type": "code",
   "execution_count": 9,
   "metadata": {},
   "outputs": [
    {
     "data": {
      "text/plain": [
       "'float32'"
      ]
     },
     "execution_count": 9,
     "metadata": {},
     "output_type": "execute_result"
    }
   ],
   "source": [
    "#檢查Keras float \n",
    "K.floatx()\n"
   ]
  },
  {
   "cell_type": "code",
   "execution_count": 11,
   "metadata": {},
   "outputs": [
    {
     "data": {
      "text/plain": [
       "'float16'"
      ]
     },
     "execution_count": 11,
     "metadata": {},
     "output_type": "execute_result"
    }
   ],
   "source": [
    "K.set_floatx('float16')\n",
    "K.floatx()"
   ]
  }
 ],
 "metadata": {
  "kernelspec": {
   "display_name": "Python 3",
   "language": "python",
   "name": "python3"
  },
  "language_info": {
   "codemirror_mode": {
    "name": "ipython",
    "version": 3
   },
   "file_extension": ".py",
   "mimetype": "text/x-python",
   "name": "python",
   "nbconvert_exporter": "python",
   "pygments_lexer": "ipython3",
   "version": "3.7.3"
  }
 },
 "nbformat": 4,
 "nbformat_minor": 2
}
