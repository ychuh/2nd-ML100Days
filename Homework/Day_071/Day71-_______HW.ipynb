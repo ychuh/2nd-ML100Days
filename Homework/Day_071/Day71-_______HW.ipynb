{
 "cells": [
  {
   "cell_type": "markdown",
   "metadata": {},
   "source": [
    "# DAY_071"
   ]
  },
  {
   "cell_type": "markdown",
   "metadata": {
    "colab_type": "text",
    "id": "cj4tE8e8iUtO"
   },
   "source": [
    "***\n",
    "### [作業目標]\n",
    "   1. 藉由固定的 dataset, 來驗證不同loss function\n",
    "   2. Dataset 的特性跟我們選用的loss function 對accrancy 的影響\n",
    "    \n",
    "### [作業重點]\n",
    "- 請分別選用 \"MSE\", \"binary _crossentropy\"\n",
    "- 查看Train/test accurancy and loss rate\n",
    "\n",
    "### [參考資料]\n",
    "\n",
    "- [學習使用Keras建立卷積神經網路](https://chtseng.wordpress.com/2017/09/23/%E5%AD%B8%E7%BF%92%E4%BD%BF%E7%94%A8keras%E5%BB%BA%E7%AB%8B%E5%8D%B7%E7%A9%8D%E7%A5%9E%E7%B6%93%E7%B6%B2%E8%B7%AF/)\n",
    "\n",
    "- [TensorFlow筆記-06-神經網絡優化-​​損失函數，自定義損失函數，交叉熵](https://blog.csdn.net/qq_40147863/article/details/82015360)\n",
    "\n",
    "- [使用損失函數](https://keras.io/losses/)\n",
    "\n",
    "- [[實戰系列] 使用 Keras 搭建一個 CNN 魔法陣（模型）](https://ithelp.ithome.com.tw/articles/10205389)\n",
    "\n",
    "### [延伸閱讀]\n",
    "\n",
    "**自訂損失函數 1/2**\n",
    "\n",
    "- 對於預測優酪乳日銷量問題，如果預測銷量大於實際銷量則會損失成本；如果預測銷量小於實際銷量則會損失利潤。\n",
    "在實際生活中，往往製造一盒優酪乳的成本和銷售一盒優酪乳的利潤不是等價的。因此，需要使用符合該問題的自訂損失函數\n",
    "\n",
    "自訂損失函數為：\n",
    "loss = Σnf(y_, y)\n",
    "\n",
    "- 其中，損失函數成分段函數：損失函數表示若預測結果y小於標準答案y_，損失函數為利潤乘以預測結果y與標準答案之差若預測結果y大於標準答案y_，\n",
    "損失函數為成本乘以預測結果y與標準答案之差用Tensorflow函數表示為：\n",
    "loss = tf.reduce_sum(tf.where(tf.greater(y, y_), COST*(y-y_), PROFIT*(y_-y))) \n",
    "\n",
    "- 第1種情況：若優酪乳成本為1元，優酪乳銷售利潤為9元，則製造成本小於優酪乳利潤，因此希望預測結果y多一些\n",
    "\n",
    "> 定義損失函數使得預測少了的損失大，於是模型應該偏向多的放心預測\n",
    "\n",
    "loss = tf.reduce_sum(tf.where(tf.greater(y, y_), COST*(y-y_), PROFIT*(y_-y)))\n",
    "train_step = tf.train.GradientDescentOptimizer(0.001).minimize(loss)\n",
    "\n",
    "- 第2種情況：若優酪乳成本為9元，優酪乳銷售利潤為1元，則製造利潤小於優酪乳成本，因此希望預# 重新定義損失函數使得預測多了的損失大，於是模型應該偏向少的方向預測 \n",
    "\n",
    "loss = tf.reduce_sum(tf.where(tf.greater(y, y_), COST*(y-y_), PROFIT*(y_-y)))\n",
    "train_step = tf.train.GradientDescentOptimizer(0.001).minimize(loss)\n",
    "\n",
    "    # 其他優化方法     \n",
    "\n",
    "        # train_step = tf.train.GMomentumOptimizer(0.001, 0.9).minimize(loss)    \n",
    "\n",
    "        # train_step = tf.train.AdamOptimizer(0.001).minimize(loss)"
   ]
  },
  {
   "cell_type": "markdown",
   "metadata": {
    "colab_type": "text",
    "id": "R51J4KyyiUsL"
   },
   "source": [
    "# 導入必要的函數"
   ]
  },
  {
   "cell_type": "code",
   "execution_count": 1,
   "metadata": {
    "colab": {},
    "colab_type": "code",
    "id": "Qd68OQjciUsM"
   },
   "outputs": [
    {
     "name": "stderr",
     "output_type": "stream",
     "text": [
      "Using TensorFlow backend.\n"
     ]
    }
   ],
   "source": [
    "from keras.datasets import cifar10\n",
    "import numpy as np\n",
    "np.random.seed(10)"
   ]
  },
  {
   "cell_type": "markdown",
   "metadata": {
    "colab_type": "text",
    "id": "GxKuzQLQiUsP"
   },
   "source": [
    "# 資料準備"
   ]
  },
  {
   "cell_type": "code",
   "execution_count": 2,
   "metadata": {
    "colab": {},
    "colab_type": "code",
    "id": "MIbFZdTCiUsQ"
   },
   "outputs": [],
   "source": [
    "#取得Keras Dataset\n",
    "(x_train, y_train), (x_test, y_test) = cifar10.load_data()"
   ]
  },
  {
   "cell_type": "code",
   "execution_count": 3,
   "metadata": {
    "colab": {},
    "colab_type": "code",
    "id": "J8CJVjNOiUsS"
   },
   "outputs": [
    {
     "name": "stdout",
     "output_type": "stream",
     "text": [
      "x_train shape = (50000, 32, 32, 3); y_train shape = (50000, 1)\n",
      "x_test shape = (10000, 1); y_test shape = (10000, 1)\n"
     ]
    }
   ],
   "source": [
    "#確認 CIFAR10 Dataset 資料維度\n",
    "print(\"x_train shape = {}; y_train shape = {}\".format(x_train.shape, y_train.shape))\n",
    "print(\"x_test shape = {}; y_test shape = {}\".format(y_test.shape, y_test.shape))"
   ]
  },
  {
   "cell_type": "code",
   "execution_count": 4,
   "metadata": {
    "colab": {},
    "colab_type": "code",
    "id": "V3P6P4DXiUsV"
   },
   "outputs": [],
   "source": [
    "#資料正規化\n",
    "x_train = x_train.astype('float32') / 255.0\n",
    "x_test = x_test.astype('float32') / 255.0"
   ]
  },
  {
   "cell_type": "code",
   "execution_count": 5,
   "metadata": {
    "colab": {},
    "colab_type": "code",
    "id": "vsDyjKYliUsX"
   },
   "outputs": [],
   "source": [
    "#針對Label 做 ONE HOT ENCODE\n",
    "from keras.utils import np_utils\n",
    "y_train = np_utils.to_categorical(y_train)\n",
    "y_test = np_utils.to_categorical(y_test)"
   ]
  },
  {
   "cell_type": "markdown",
   "metadata": {
    "colab_type": "text",
    "id": "RutW2OtgiUsZ"
   },
   "source": [
    "# 建立模型"
   ]
  },
  {
   "cell_type": "code",
   "execution_count": 6,
   "metadata": {
    "colab": {},
    "colab_type": "code",
    "id": "aHz592aXiUsa"
   },
   "outputs": [],
   "source": [
    "from keras.models import Sequential\n",
    "from keras.layers import Dense, Dropout, Activation, Flatten\n",
    "from keras.layers import Conv2D, MaxPooling2D, ZeroPadding2D"
   ]
  },
  {
   "cell_type": "code",
   "execution_count": 7,
   "metadata": {
    "colab": {},
    "colab_type": "code",
    "id": "hslqrIp0iUse"
   },
   "outputs": [
    {
     "name": "stderr",
     "output_type": "stream",
     "text": [
      "WARNING: Logging before flag parsing goes to stderr.\n",
      "W0713 21:08:34.409989  7180 deprecation_wrapper.py:119] From C:\\Users\\Ychu\\Anaconda3\\lib\\site-packages\\keras\\backend\\tensorflow_backend.py:74: The name tf.get_default_graph is deprecated. Please use tf.compat.v1.get_default_graph instead.\n",
      "\n",
      "W0713 21:08:34.434992  7180 deprecation_wrapper.py:119] From C:\\Users\\Ychu\\Anaconda3\\lib\\site-packages\\keras\\backend\\tensorflow_backend.py:517: The name tf.placeholder is deprecated. Please use tf.compat.v1.placeholder instead.\n",
      "\n",
      "W0713 21:08:34.438992  7180 deprecation_wrapper.py:119] From C:\\Users\\Ychu\\Anaconda3\\lib\\site-packages\\keras\\backend\\tensorflow_backend.py:4138: The name tf.random_uniform is deprecated. Please use tf.random.uniform instead.\n",
      "\n",
      "W0713 21:08:34.461993  7180 deprecation_wrapper.py:119] From C:\\Users\\Ychu\\Anaconda3\\lib\\site-packages\\keras\\backend\\tensorflow_backend.py:3976: The name tf.nn.max_pool is deprecated. Please use tf.nn.max_pool2d instead.\n",
      "\n"
     ]
    }
   ],
   "source": [
    "# initializing CNN\n",
    "model = Sequential()\n",
    "\n",
    "# 卷積層1與池化層1\n",
    "model.add(Conv2D(filters=32,kernel_size=(3, 3), input_shape=(32, 32, 3), activation='relu', padding='same')) # 32張 32*32 圖像\n",
    "# model.add(Dropout(rate=0.25)) # dropout 最大的功用是減少過度擬合。\n",
    "model.add(MaxPooling2D(pool_size=(2, 2))) # 僅剩 32 張 16*16 輸出影像\n",
    "\n",
    "#卷積層2與池化層2\n",
    "model.add(Conv2D(filters=64, kernel_size=(3, 3), activation='relu', padding='same')) # 接收 64張影像\n",
    "model.add(MaxPooling2D(pool_size=(2, 2))) # 輸出 64張 8*8 影像 (16*16 / 2*2)\n",
    "\n",
    "#卷積層3與池化層3\n",
    "model.add(Conv2D(filters=128, kernel_size=(3, 3), activation='relu', padding='same')) # 接收 64張影像\n",
    "model.add(MaxPooling2D(pool_size=(2, 2))) # 輸出 128張 4*4 影像\n",
    "\n",
    "#卷積層4與池化層4\n",
    "model.add(Conv2D(filters=256, kernel_size=(3, 3), activation='relu', padding='same')) # 接收 64張影像\n",
    "model.add(MaxPooling2D(pool_size=(2, 2))) # 輸出 256張 2*2 影像\n",
    "\n",
    "#建立神經網路(平坦層、隱藏層、輸出層)\n",
    "model.add(Flatten()) # 將 256 * 2 * 2 轉成 一維 1024\n",
    "model.add(Dense(1024, activation='relu'))\n",
    "model.add(Dense(1024, activation='relu'))\n",
    "model.add(Dense(10, activation='softmax')) # 本模型的最後一層是輸出層，也就是要輸出十種0~9的分類值。"
   ]
  },
  {
   "cell_type": "code",
   "execution_count": 8,
   "metadata": {
    "colab": {},
    "colab_type": "code",
    "id": "ZxzRIjR0iUtH"
   },
   "outputs": [
    {
     "name": "stdout",
     "output_type": "stream",
     "text": [
      "_________________________________________________________________\n",
      "Layer (type)                 Output Shape              Param #   \n",
      "=================================================================\n",
      "conv2d_1 (Conv2D)            (None, 32, 32, 32)        896       \n",
      "_________________________________________________________________\n",
      "max_pooling2d_1 (MaxPooling2 (None, 16, 16, 32)        0         \n",
      "_________________________________________________________________\n",
      "conv2d_2 (Conv2D)            (None, 16, 16, 64)        18496     \n",
      "_________________________________________________________________\n",
      "max_pooling2d_2 (MaxPooling2 (None, 8, 8, 64)          0         \n",
      "_________________________________________________________________\n",
      "conv2d_3 (Conv2D)            (None, 8, 8, 128)         73856     \n",
      "_________________________________________________________________\n",
      "max_pooling2d_3 (MaxPooling2 (None, 4, 4, 128)         0         \n",
      "_________________________________________________________________\n",
      "conv2d_4 (Conv2D)            (None, 4, 4, 256)         295168    \n",
      "_________________________________________________________________\n",
      "max_pooling2d_4 (MaxPooling2 (None, 2, 2, 256)         0         \n",
      "_________________________________________________________________\n",
      "flatten_1 (Flatten)          (None, 1024)              0         \n",
      "_________________________________________________________________\n",
      "dense_1 (Dense)              (None, 1024)              1049600   \n",
      "_________________________________________________________________\n",
      "dense_2 (Dense)              (None, 1024)              1049600   \n",
      "_________________________________________________________________\n",
      "dense_3 (Dense)              (None, 10)                10250     \n",
      "=================================================================\n",
      "Total params: 2,497,866\n",
      "Trainable params: 2,497,866\n",
      "Non-trainable params: 0\n",
      "_________________________________________________________________\n",
      "None\n"
     ]
    }
   ],
   "source": [
    "#檢查model 的STACK\n",
    "print(model.summary())"
   ]
  },
  {
   "cell_type": "markdown",
   "metadata": {
    "colab_type": "text",
    "id": "QJCtpJM0iUtJ"
   },
   "source": [
    "# 載入之前訓練的模型"
   ]
  },
  {
   "cell_type": "code",
   "execution_count": 9,
   "metadata": {
    "colab": {},
    "colab_type": "code",
    "id": "JU3A6NzQiUtK",
    "scrolled": true
   },
   "outputs": [
    {
     "name": "stdout",
     "output_type": "stream",
     "text": [
      "載入模型失敗!開始訓練一個新模型\n"
     ]
    }
   ],
   "source": [
    "try:\n",
    "    model.load_weights(\"SaveModel/cifarCnnModel.h5\")\n",
    "    print(\"載入模型成功!繼續訓練模型\")\n",
    "except :    \n",
    "    print(\"載入模型失敗!開始訓練一個新模型\")"
   ]
  },
  {
   "cell_type": "markdown",
   "metadata": {
    "colab_type": "text",
    "id": "qBbCuziziUtM"
   },
   "source": [
    "# 訓練模型"
   ]
  },
  {
   "cell_type": "code",
   "execution_count": 10,
   "metadata": {
    "colab": {},
    "colab_type": "code",
    "id": "Q6BiBcseiUtP"
   },
   "outputs": [
    {
     "name": "stderr",
     "output_type": "stream",
     "text": [
      "W0713 21:08:34.601006  7180 deprecation_wrapper.py:119] From C:\\Users\\Ychu\\Anaconda3\\lib\\site-packages\\keras\\optimizers.py:790: The name tf.train.Optimizer is deprecated. Please use tf.compat.v1.train.Optimizer instead.\n",
      "\n",
      "W0713 21:08:34.819023  7180 deprecation_wrapper.py:119] From C:\\Users\\Ychu\\Anaconda3\\lib\\site-packages\\keras\\backend\\tensorflow_backend.py:986: The name tf.assign_add is deprecated. Please use tf.compat.v1.assign_add instead.\n",
      "\n",
      "W0713 21:08:34.886027  7180 deprecation_wrapper.py:119] From C:\\Users\\Ychu\\Anaconda3\\lib\\site-packages\\keras\\backend\\tensorflow_backend.py:973: The name tf.assign is deprecated. Please use tf.compat.v1.assign instead.\n",
      "\n"
     ]
    },
    {
     "name": "stdout",
     "output_type": "stream",
     "text": [
      "Train on 40000 samples, validate on 10000 samples\n",
      "Epoch 1/10\n",
      "40000/40000 [==============================] - 60s 2ms/step - loss: 0.0900 - acc: 0.1094 - val_loss: 0.0900 - val_acc: 0.1118\n",
      "Epoch 2/10\n",
      "40000/40000 [==============================] - 61s 2ms/step - loss: 0.0900 - acc: 0.1110 - val_loss: 0.0900 - val_acc: 0.1134\n",
      "Epoch 3/10\n",
      "40000/40000 [==============================] - 61s 2ms/step - loss: 0.0900 - acc: 0.1111 - val_loss: 0.0900 - val_acc: 0.1127\n",
      "Epoch 4/10\n",
      "40000/40000 [==============================] - 61s 2ms/step - loss: 0.0900 - acc: 0.1119 - val_loss: 0.0900 - val_acc: 0.1132\n",
      "Epoch 5/10\n",
      "40000/40000 [==============================] - 61s 2ms/step - loss: 0.0900 - acc: 0.1116 - val_loss: 0.0900 - val_acc: 0.1148\n",
      "Epoch 6/10\n",
      "40000/40000 [==============================] - 61s 2ms/step - loss: 0.0900 - acc: 0.1144 - val_loss: 0.0900 - val_acc: 0.1206\n",
      "Epoch 7/10\n",
      "40000/40000 [==============================] - 61s 2ms/step - loss: 0.0899 - acc: 0.1235 - val_loss: 0.0899 - val_acc: 0.1299\n",
      "Epoch 8/10\n",
      "40000/40000 [==============================] - 61s 2ms/step - loss: 0.0899 - acc: 0.1305 - val_loss: 0.0899 - val_acc: 0.1371\n",
      "Epoch 9/10\n",
      "40000/40000 [==============================] - 61s 2ms/step - loss: 0.0899 - acc: 0.1373 - val_loss: 0.0899 - val_acc: 0.1401\n",
      "Epoch 10/10\n",
      "40000/40000 [==============================] - 62s 2ms/step - loss: 0.0899 - acc: 0.1401 - val_loss: 0.0899 - val_acc: 0.1412s: 0.0899 - acc: 0.1 - ETA: 5s - loss: 0.0899 - acc: 0. - ETA: 4s -\n"
     ]
    }
   ],
   "source": [
    "model.compile(loss='mean_squared_error', optimizer='sgd', metrics=['accuracy'])\n",
    "\n",
    "train_history = model.fit(x_train, y_train, validation_split=0.20, epochs=10, batch_size=128)"
   ]
  },
  {
   "cell_type": "code",
   "execution_count": 11,
   "metadata": {},
   "outputs": [],
   "source": [
    "import matplotlib.pyplot as plt\n",
    "\n",
    "def show_train_history(train_history, train_acc, test_acc):\n",
    "    plt.plot(train_history.history[train_acc])\n",
    "    plt.plot(train_history.history[test_acc])\n",
    "    \n",
    "    plt.title('Train History')\n",
    "    plt.ylabel('Accuracy')\n",
    "    plt.xlabel('Epoch')\n",
    "    plt.legend(['train', 'test'], loc = 'upper left')\n",
    "    plt.show()"
   ]
  },
  {
   "cell_type": "code",
   "execution_count": 12,
   "metadata": {
    "colab": {},
    "colab_type": "code",
    "id": "4-GdDgmQiUtS"
   },
   "outputs": [
    {
     "data": {
      "image/png": "[encoded data removed]",
      "text/plain": [
       "<Figure size 432x288 with 1 Axes>"
      ]
     },
     "metadata": {
      "needs_background": "light"
     },
     "output_type": "display_data"
    }
   ],
   "source": [
    "show_train_history(train_history, 'acc', 'val_acc')"
   ]
  },
  {
   "cell_type": "code",
   "execution_count": 13,
   "metadata": {
    "scrolled": true
   },
   "outputs": [
    {
     "name": "stdout",
     "output_type": "stream",
     "text": [
      "10000/10000 [==============================] - 6s 572us/step\n",
      "Accuracy : 0.1449\n"
     ]
    }
   ],
   "source": [
    "scores = model.evaluate(x_test, y_test)\n",
    "print(f'Accuracy : {scores[1]}')"
   ]
  },
  {
   "cell_type": "code",
   "execution_count": 14,
   "metadata": {},
   "outputs": [
    {
     "name": "stderr",
     "output_type": "stream",
     "text": [
      "W0713 21:18:51.597778  7180 deprecation.py:323] From C:\\Users\\Ychu\\Anaconda3\\lib\\site-packages\\tensorflow\\python\\ops\\math_grad.py:1250: add_dispatch_support.<locals>.wrapper (from tensorflow.python.ops.array_ops) is deprecated and will be removed in a future version.\n",
      "Instructions for updating:\n",
      "Use tf.where in 2.0, which has the same broadcast rule as np.where\n"
     ]
    },
    {
     "name": "stdout",
     "output_type": "stream",
     "text": [
      "Train on 40000 samples, validate on 10000 samples\n",
      "Epoch 1/10\n",
      "40000/40000 [==============================] - 60s 2ms/step - loss: 2.2834 - acc: 0.1465 - val_loss: 2.2556 - val_acc: 0.2040\n",
      "Epoch 2/10\n",
      "40000/40000 [==============================] - 60s 1ms/step - loss: 2.1582 - acc: 0.2314 - val_loss: 2.0540 - val_acc: 0.2629\n",
      "Epoch 3/10\n",
      "40000/40000 [==============================] - 59s 1ms/step - loss: 2.0099 - acc: 0.2723 - val_loss: 1.9980 - val_acc: 0.2671\n",
      "Epoch 4/10\n",
      "40000/40000 [==============================] - 59s 1ms/step - loss: 1.9263 - acc: 0.3056 - val_loss: 1.9814 - val_acc: 0.2901\n",
      "Epoch 5/10\n",
      "40000/40000 [==============================] - 59s 1ms/step - loss: 1.8412 - acc: 0.3397 - val_loss: 1.7735 - val_acc: 0.3617\n",
      "Epoch 6/10\n",
      "40000/40000 [==============================] - 59s 1ms/step - loss: 1.7578 - acc: 0.3704 - val_loss: 1.8064 - val_acc: 0.3611\n",
      "Epoch 7/10\n",
      "40000/40000 [==============================] - 60s 2ms/step - loss: 1.6778 - acc: 0.4003 - val_loss: 1.6821 - val_acc: 0.4020\n",
      "Epoch 8/10\n",
      "40000/40000 [==============================] - 61s 2ms/step - loss: 1.6139 - acc: 0.4245 - val_loss: 1.5967 - val_acc: 0.4193\n",
      "Epoch 9/10\n",
      "40000/40000 [==============================] - 61s 2ms/step - loss: 1.5556 - acc: 0.4450 - val_loss: 1.7359 - val_acc: 0.3815\n",
      "Epoch 10/10\n",
      "40000/40000 [==============================] - 61s 2ms/step - loss: 1.4974 - acc: 0.4677 - val_loss: 1.6240 - val_acc: 0.4120\n"
     ]
    }
   ],
   "source": [
    "model.compile(loss='categorical_crossentropy', optimizer='sgd', metrics=['accuracy'])\n",
    "\n",
    "train_history = model.fit(x_train, y_train, validation_split=0.20, epochs=10, batch_size=128)"
   ]
  },
  {
   "cell_type": "code",
   "execution_count": 15,
   "metadata": {},
   "outputs": [
    {
     "data": {
      "image/png": "[encoded data removed]",
      "text/plain": [
       "<Figure size 432x288 with 1 Axes>"
      ]
     },
     "metadata": {
      "needs_background": "light"
     },
     "output_type": "display_data"
    }
   ],
   "source": [
    "show_train_history(train_history, 'acc', 'val_acc')"
   ]
  },
  {
   "cell_type": "code",
   "execution_count": 16,
   "metadata": {},
   "outputs": [
    {
     "name": "stdout",
     "output_type": "stream",
     "text": [
      "10000/10000 [==============================] - 6s 578us/step\n",
      "Accuracy : 0.4159\n"
     ]
    }
   ],
   "source": [
    "scores = model.evaluate(x_test, y_test)\n",
    "print(f'Accuracy : {scores[1]}')"
   ]
  },
  {
   "cell_type": "code",
   "execution_count": 17,
   "metadata": {},
   "outputs": [
    {
     "name": "stdout",
     "output_type": "stream",
     "text": [
      "Train on 40000 samples, validate on 10000 samples\n",
      "Epoch 1/10\n",
      "40000/40000 [==============================] - 64s 2ms/step - loss: 1.5612 - acc: 0.4401 - val_loss: 1.3283 - val_acc: 0.5197\n",
      "Epoch 2/10\n",
      "40000/40000 [==============================] - 65s 2ms/step - loss: 1.1869 - acc: 0.5715 - val_loss: 1.0611 - val_acc: 0.6271\n",
      "Epoch 3/10\n",
      "40000/40000 [==============================] - 63s 2ms/step - loss: 0.9699 - acc: 0.6550 - val_loss: 1.0300 - val_acc: 0.6393\n",
      "Epoch 4/10\n",
      "40000/40000 [==============================] - 63s 2ms/step - loss: 0.8184 - acc: 0.7117 - val_loss: 0.9317 - val_acc: 0.6812\n",
      "Epoch 5/10\n",
      "40000/40000 [==============================] - 64s 2ms/step - loss: 0.6735 - acc: 0.7649 - val_loss: 0.9105 - val_acc: 0.6952\n",
      "Epoch 6/10\n",
      "40000/40000 [==============================] - 66s 2ms/step - loss: 0.5656 - acc: 0.8025 - val_loss: 0.9116 - val_acc: 0.7041\n",
      "Epoch 7/10\n",
      "40000/40000 [==============================] - 67s 2ms/step - loss: 0.4583 - acc: 0.8371 - val_loss: 0.9390 - val_acc: 0.7106\n",
      "Epoch 8/10\n",
      "40000/40000 [==============================] - 67s 2ms/step - loss: 0.3656 - acc: 0.8704 - val_loss: 0.9995 - val_acc: 0.7090\n",
      "Epoch 9/10\n",
      "40000/40000 [==============================] - 69s 2ms/step - loss: 0.2820 - acc: 0.8996 - val_loss: 1.1555 - val_acc: 0.6962\n",
      "Epoch 10/10\n",
      "40000/40000 [==============================] - 69s 2ms/step - loss: 0.2287 - acc: 0.9192 - val_loss: 1.1557 - val_acc: 0.7130\n"
     ]
    },
    {
     "data": {
      "image/png": "[encoded data removed]",
      "text/plain": [
       "<Figure size 432x288 with 1 Axes>"
      ]
     },
     "metadata": {
      "needs_background": "light"
     },
     "output_type": "display_data"
    },
    {
     "name": "stdout",
     "output_type": "stream",
     "text": [
      "10000/10000 [==============================] - 6s 629us/step\n",
      "Accuracy : 0.7038\n"
     ]
    }
   ],
   "source": [
    "model.compile(loss='categorical_crossentropy', optimizer='adam', metrics=['accuracy'])\n",
    "\n",
    "train_history = model.fit(x_train, y_train, validation_split=0.20, epochs=10, batch_size=128)\n",
    "\n",
    "show_train_history(train_history, 'acc', 'val_acc')\n",
    "\n",
    "scores = model.evaluate(x_test, y_test)\n",
    "print(f'Accuracy : {scores[1]}')"
   ]
  },
  {
   "cell_type": "code",
   "execution_count": null,
   "metadata": {},
   "outputs": [],
   "source": []
  }
 ],
 "metadata": {
  "colab": {
   "name": "Day71-使用損失函數_HW.ipynb",
   "provenance": [],
   "version": "0.3.2"
  },
  "kernelspec": {
   "display_name": "Python 3",
   "language": "python",
   "name": "python3"
  },
  "language_info": {
   "codemirror_mode": {
    "name": "ipython",
    "version": 3
   },
   "file_extension": ".py",
   "mimetype": "text/x-python",
   "name": "python",
   "nbconvert_exporter": "python",
   "pygments_lexer": "ipython3",
   "version": "3.7.3"
  }
 },
 "nbformat": 4,
 "nbformat_minor": 1
}
