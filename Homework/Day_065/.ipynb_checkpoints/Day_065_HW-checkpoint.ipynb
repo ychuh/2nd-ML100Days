{
 "cells": [
  {
   "cell_type": "markdown",
   "metadata": {},
   "source": [
    "# DAY_065"
   ]
  },
  {
   "cell_type": "markdown",
   "metadata": {},
   "source": [
    "***\n",
    "### [作業]\n",
    "- 選擇分類資料集(右下)-螺旋雙臂 - 交錯六群，限定特徵只能使用前兩個，隱藏層 2 層滿 (共 8 * 2 =16 個神經元)，  \n",
    "  遞迴次數只允許跑到500次，但可以自由調整 批次大小、學習速率、啟動函數、正規化選項與參數\n",
    "- 在上述限制下，挑戰看看測試誤差 (Test Loss) 最低能到多少? 請回答你的上述幾項參數與 Test Loss 數\n",
    "\n",
    "### [參考資料]\n",
    "- [Understanding neural networks with TensorFlow Playground ",
    "Google Cloud](https://cloud.google.com/blog/products/gcp/understanding-neural-networks-with-tensorflow-playground)\n",
    "\n",
    "  - 這是 Google 官方出的 PlayGround 教學，除了與作業類似的跑參圖(但是沒有限制 epoch 500)，還有 Google 認為類神經網路初學者需要學習的內容，如果覺得我們的課程有不完整的地方，建議可以直接參考上面的說明\n",
    "\n",
    "  - 但還是老話一句 : 不要強迫自己現在就全部都看懂，細節的部分後面還有其他的課程會說明，先專注享受你最有興趣的部分吧。\n",
    "  \n",
    "  \n",
    "- [深度深度學習網路調參技巧 with TensorFlow Playground 知乎  作者：煉丹實驗室](https://zhuanlan.zhihu.com/p/24720954)\n",
    "\n",
    "  - 如果你對於深度學習的參數調整有更多興趣，那麼建議你可以讀一讀這篇的內容\n",
    "  \n",
    "  - 提到這篇，主要是讓大家看到「自動調參」的章節 (倒數第二段，總結之前)，可以知道深度學習的調參也不外乎是 GridSearch 與 RandomSearch，但是也與機器學習一樣，調整這些參數前最好能先了解它"
   ]
  },
  {
   "cell_type": "markdown",
   "metadata": {
    "collapsed": true
   },
   "source": []
  },
  {
   "cell_type": "markdown",
   "metadata": {},
   "source": [
    "**Case 1**\n",
    "- Features: X1, X2\n",
    "- Batch size: 18\n",
    "- Learning rate: 0.3\n",
    "- Activation: ReLU\n",
    "- Regularization: None\n",
    "- Regularization rate: 0.01\n",
    "- Test loss: 0.008"
   ]
  },
  {
   "cell_type": "code",
   "execution_count": null,
   "metadata": {},
   "outputs": [],
   "source": []
  }
 ],
 "metadata": {
  "kernelspec": {
   "display_name": "Python 3",
   "language": "python",
   "name": "python3"
  },
  "language_info": {
   "codemirror_mode": {
    "name": "ipython",
    "version": 3
   },
   "file_extension": ".py",
   "mimetype": "text/x-python",
   "name": "python",
   "nbconvert_exporter": "python",
   "pygments_lexer": "ipython3",
   "version": "3.7.3"
  }
 },
 "nbformat": 4,
 "nbformat_minor": 2
}
