{
 "cells": [
  {
   "cell_type": "markdown",
   "metadata": {},
   "source": [
    "# DAY_073"
   ]
  },
  {
   "cell_type": "markdown",
   "metadata": {},
   "source": [
    "***\n",
    "### [作業重點]\n",
    "- 使用function y=(x+5)² 來練習學習率( leanrning rate ) 調整所造成的影響\n",
    "\n",
    "### [作業目標]\n",
    "- 請嘗試使用不同的組合驗證 learning rate 對所需 iteration 的影響\n",
    "  - lr = [0.1, 0.0001]\n",
    "  - 主要驗證 Lr 對於grandient 收斂的速度\n",
    "\n",
    "### [參考資料]\n",
    "- [知乎 - Tensorflow中learning rate decay的技巧](https://zhuanlan.zhihu.com/p/32923584)\n",
    "\n",
    "- [機器/深度學習-基礎數學(二):梯度下降法(gradient descent)](https://medium.com/@chih.sheng.huang821/%E6%A9%9F%E5%99%A8%E5%AD%B8%E7%BF%92-%E5%9F%BA%E7%A4%8E%E6%95%B8%E5%AD%B8-%E4%BA%8C-%E6%A2%AF%E5%BA%A6%E4%B8%8B%E9%99%8D%E6%B3%95-gradient-descent-406e1fd001f)\n",
    "\n",
    "### [補充說明]\n",
    "**exponential_decay :指數衰減**\n",
    "  - decayed_learning_rate = learning_rate * decay_rate ^ (global_step / decay_steps)   \n",
    "\n",
    "\n",
    "**natural_exp_decay :自然指數衰減**\n",
    "  - decayed_learning_rate = learning_rate * exp(-decay_rate * global_step)   \n",
    "\n",
    "\n",
    "**inverse_time_decay :逆時間衰減**\n",
    "  - decayed_learning_rate = learning_rate / (1 + decay_rate * global_step / decay_step)   \n",
    "\n",
    "\n",
    "**polynomial_decay :多項式衰減**   \n",
    "  - global_step = min(global_step, decay_steps) decayed_learning_rate \n",
    "                = (learning_rate - end_learning_rate) *(1 - global_step / decay_steps) ^ (power) + end_learning_rate"
   ]
  },
  {
   "cell_type": "code",
   "execution_count": 1,
   "metadata": {},
   "outputs": [],
   "source": [
    "lr = [0.1, 0.0001]\n",
    "precision = 0.000001 #This tells us when to stop the algorithm\n",
    "max_iters = 10000 # maximum number of iterations\n",
    "df = lambda x: 2*(x+5) #Gradient of our function "
   ]
  },
  {
   "cell_type": "code",
   "execution_count": 2,
   "metadata": {
    "scrolled": false
   },
   "outputs": [
    {
     "name": "stdout",
     "output_type": "stream",
     "text": [
      "i = 0.1\n",
      "Totally iteations:  66\n",
      "The local minimum occurs at -4.999996786123911\n"
     ]
    },
    {
     "data": {
      "image/png": "[encoded data removed]",
      "text/plain": [
       "<Figure size 432x288 with 1 Axes>"
      ]
     },
     "metadata": {
      "needs_background": "light"
     },
     "output_type": "display_data"
    },
    {
     "name": "stdout",
     "output_type": "stream",
     "text": [
      "i = 0.0001\n",
      "Totally iteations:  36887\n",
      "The local minimum occurs at -4.995001894291844\n"
     ]
    },
    {
     "data": {
      "image/png": "[encoded data removed]",
      "text/plain": [
       "<Figure size 432x288 with 1 Axes>"
      ]
     },
     "metadata": {
      "needs_background": "light"
     },
     "output_type": "display_data"
    }
   ],
   "source": [
    "import matplotlib.pyplot as plt\n",
    "%matplotlib inline \n",
    "#適用於 Jupyter Notebook, 宣告直接在cell 內印出執行結果\n",
    "\n",
    "for i in lr:\n",
    "          \n",
    "    # initialize\n",
    "    cur_x = 3\n",
    "    iters = 0\n",
    "    previous_step_size = 1\n",
    "    iters_history = [iters]\n",
    "    x_history = [cur_x]\n",
    "        \n",
    "    print(\"i = {}\".format(i))\n",
    "    \n",
    "    while previous_step_size > precision:\n",
    "        prev_x = cur_x\n",
    "        cur_x = cur_x - i*df(prev_x)\n",
    "        previous_step_size = abs(cur_x - prev_x)\n",
    "        iters = iters+1\n",
    "        iters_history.append(iters)\n",
    "        x_history.append(cur_x)\n",
    "\n",
    "    print(\"Totally iteations: \", iters)\n",
    "    print(\"The local minimum occurs at\", cur_x)\n",
    "    \n",
    "    plt.plot(iters_history, x_history, 'o-', ms=3, lw=1.5, color='black')\n",
    "    plt.xlabel(r'$iters$', fontsize=16)\n",
    "    plt.ylabel(r'$x$', fontsize=16)\n",
    "    plt.show()"
   ]
  },
  {
   "cell_type": "markdown",
   "metadata": {},
   "source": [
    "It took **66 times** of iteration to converge while learning rate is **0.1**. And it took over 600 times to converge than previous reulst while learning rate is 0.0001 (iterations: 36887)"
   ]
  }
 ],
 "metadata": {
  "kernelspec": {
   "display_name": "Python 3",
   "language": "python",
   "name": "python3"
  },
  "language_info": {
   "codemirror_mode": {
    "name": "ipython",
    "version": 3
   },
   "file_extension": ".py",
   "mimetype": "text/x-python",
   "name": "python",
   "nbconvert_exporter": "python",
   "pygments_lexer": "ipython3",
   "version": "3.7.3"
  }
 },
 "nbformat": 4,
 "nbformat_minor": 2
}
