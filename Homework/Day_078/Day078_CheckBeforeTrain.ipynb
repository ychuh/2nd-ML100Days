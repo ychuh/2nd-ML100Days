{
 "cells": [
  {
   "cell_type": "markdown",
   "metadata": {},
   "source": [
    "## 範例重點\n",
    "### 學習在模型開始前檢查各個環節\n",
    "1. 是否有 GPU 資源\n",
    "2. 將前處理轉為函式，統一處理訓練、驗證與測試集\n",
    "3. 將超參數變數化，易於重複使用函式、模型等"
   ]
  },
  {
   "cell_type": "code",
   "execution_count": 1,
   "metadata": {},
   "outputs": [
    {
     "name": "stderr",
     "output_type": "stream",
     "text": [
      "'nvidia-smi' 不是內部或外部命令、可執行的程式或批次檔。\n"
     ]
    }
   ],
   "source": [
    "## 確認硬體資源 (如果你是在 Linux, 若是在 Windows, 請參考 https://blog.csdn.net/idwtwt/article/details/78017565)\n",
    "!nvidia-smi"
   ]
  },
  {
   "cell_type": "code",
   "execution_count": 2,
   "metadata": {},
   "outputs": [
    {
     "name": "stderr",
     "output_type": "stream",
     "text": [
      "Using TensorFlow backend.\n"
     ]
    }
   ],
   "source": [
    "import os\n",
    "import keras\n",
    "\n",
    "# 本範例不需使用 GPU, 將 GPU 設定為 \"無\"\n",
    "os.environ[\"CUDA_VISIBLE_DEVICES\"] = \"\""
   ]
  },
  {
   "cell_type": "code",
   "execution_count": 3,
   "metadata": {},
   "outputs": [],
   "source": [
    "# 從 Keras 的內建功能中，取得 train 與 test 資料集\n",
    "train, test = keras.datasets.cifar10.load_data()"
   ]
  },
  {
   "cell_type": "code",
   "execution_count": 4,
   "metadata": {},
   "outputs": [],
   "source": [
    "## 資料前處理\n",
    "def preproc_x(x, flatten=True):\n",
    "    x = x / 255.\n",
    "    if flatten:\n",
    "        x = x.reshape((len(x), -1))\n",
    "    return x\n",
    "\n",
    "def preproc_y(y, num_classes=10):\n",
    "    if y.shape[-1] == 1:\n",
    "        y = keras.utils.to_categorical(y, num_classes)\n",
    "    return y    "
   ]
  },
  {
   "cell_type": "code",
   "execution_count": 5,
   "metadata": {},
   "outputs": [],
   "source": [
    "x_train, y_train = train\n",
    "x_test, y_test = test\n",
    "\n",
    "# 資料前處理 - X 標準化\n",
    "x_train = preproc_x(x_train)\n",
    "x_test = preproc_x(x_test)\n",
    "\n",
    "# 資料前處理 -Y 轉成 onehot\n",
    "y_train = preproc_y(y_train)\n",
    "y_test = preproc_y(y_test)"
   ]
  },
  {
   "cell_type": "code",
   "execution_count": 6,
   "metadata": {},
   "outputs": [],
   "source": [
    "def build_mlp(input_shape, output_units=10, num_neurons=[512, 256, 128]):\n",
    "    input_layer = keras.layers.Input(input_shape)\n",
    "    \n",
    "    for i, n_units in enumerate(num_neurons):\n",
    "        if i == 0:\n",
    "            x = keras.layers.Dense(units=n_units, activation=\"relu\", name=\"hidden_layer\"+str(i+1))(input_layer)\n",
    "        else:\n",
    "            x = keras.layers.Dense(units=n_units, activation=\"relu\", name=\"hidden_layer\"+str(i+1))(x)\n",
    "    \n",
    "    out = keras.layers.Dense(units=output_units, activation=\"softmax\", name=\"output\")(x)\n",
    "    \n",
    "    model = keras.models.Model(inputs=[input_layer], outputs=[out])\n",
    "    return model"
   ]
  },
  {
   "cell_type": "code",
   "execution_count": 7,
   "metadata": {},
   "outputs": [
    {
     "name": "stderr",
     "output_type": "stream",
     "text": [
      "WARNING: Logging before flag parsing goes to stderr.\n",
      "W0721 10:38:48.558156  9424 deprecation_wrapper.py:119] From C:\\Users\\Ychu\\Anaconda3\\lib\\site-packages\\keras\\backend\\tensorflow_backend.py:74: The name tf.get_default_graph is deprecated. Please use tf.compat.v1.get_default_graph instead.\n",
      "\n",
      "W0721 10:38:48.580154  9424 deprecation_wrapper.py:119] From C:\\Users\\Ychu\\Anaconda3\\lib\\site-packages\\keras\\backend\\tensorflow_backend.py:517: The name tf.placeholder is deprecated. Please use tf.compat.v1.placeholder instead.\n",
      "\n",
      "W0721 10:38:48.583156  9424 deprecation_wrapper.py:119] From C:\\Users\\Ychu\\Anaconda3\\lib\\site-packages\\keras\\backend\\tensorflow_backend.py:4138: The name tf.random_uniform is deprecated. Please use tf.random.uniform instead.\n",
      "\n"
     ]
    },
    {
     "name": "stdout",
     "output_type": "stream",
     "text": [
      "_________________________________________________________________\n",
      "Layer (type)                 Output Shape              Param #   \n",
      "=================================================================\n",
      "input_1 (InputLayer)         (None, 3072)              0         \n",
      "_________________________________________________________________\n",
      "hidden_layer1 (Dense)        (None, 512)               1573376   \n",
      "_________________________________________________________________\n",
      "hidden_layer2 (Dense)        (None, 256)               131328    \n",
      "_________________________________________________________________\n",
      "hidden_layer3 (Dense)        (None, 128)               32896     \n",
      "_________________________________________________________________\n",
      "output (Dense)               (None, 10)                1290      \n",
      "=================================================================\n",
      "Total params: 1,738,890\n",
      "Trainable params: 1,738,890\n",
      "Non-trainable params: 0\n",
      "_________________________________________________________________\n"
     ]
    }
   ],
   "source": [
    "model = build_mlp(input_shape=x_train.shape[1:])\n",
    "model.summary()"
   ]
  },
  {
   "cell_type": "code",
   "execution_count": 8,
   "metadata": {},
   "outputs": [],
   "source": [
    "## 超參數設定\n",
    "LEARNING_RATE = 0.001\n",
    "EPOCHS = 100\n",
    "BATCH_SIZE = 256"
   ]
  },
  {
   "cell_type": "code",
   "execution_count": 9,
   "metadata": {},
   "outputs": [
    {
     "name": "stderr",
     "output_type": "stream",
     "text": [
      "W0721 10:38:48.687164  9424 deprecation_wrapper.py:119] From C:\\Users\\Ychu\\Anaconda3\\lib\\site-packages\\keras\\optimizers.py:790: The name tf.train.Optimizer is deprecated. Please use tf.compat.v1.train.Optimizer instead.\n",
      "\n",
      "W0721 10:38:48.699166  9424 deprecation_wrapper.py:119] From C:\\Users\\Ychu\\Anaconda3\\lib\\site-packages\\keras\\backend\\tensorflow_backend.py:3295: The name tf.log is deprecated. Please use tf.math.log instead.\n",
      "\n"
     ]
    }
   ],
   "source": [
    "optimizer = keras.optimizers.Adam(lr=LEARNING_RATE)\n",
    "model.compile(loss=\"categorical_crossentropy\", metrics=[\"accuracy\"], optimizer=optimizer)"
   ]
  },
  {
   "cell_type": "code",
   "execution_count": 10,
   "metadata": {},
   "outputs": [
    {
     "name": "stderr",
     "output_type": "stream",
     "text": [
      "W0721 10:38:48.791173  9424 deprecation.py:323] From C:\\Users\\Ychu\\Anaconda3\\lib\\site-packages\\tensorflow\\python\\ops\\math_grad.py:1250: add_dispatch_support.<locals>.wrapper (from tensorflow.python.ops.array_ops) is deprecated and will be removed in a future version.\n",
      "Instructions for updating:\n",
      "Use tf.where in 2.0, which has the same broadcast rule as np.where\n",
      "W0721 10:38:48.844177  9424 deprecation_wrapper.py:119] From C:\\Users\\Ychu\\Anaconda3\\lib\\site-packages\\keras\\backend\\tensorflow_backend.py:986: The name tf.assign_add is deprecated. Please use tf.compat.v1.assign_add instead.\n",
      "\n"
     ]
    },
    {
     "name": "stdout",
     "output_type": "stream",
     "text": [
      "Train on 50000 samples, validate on 10000 samples\n",
      "Epoch 1/100\n",
      "50000/50000 [==============================] - 9s 183us/step - loss: 1.9631 - acc: 0.2962 - val_loss: 1.7673 - val_acc: 0.3613\n",
      "Epoch 2/100\n",
      "50000/50000 [==============================] - 9s 174us/step - loss: 1.7163 - acc: 0.3843 - val_loss: 1.6345 - val_acc: 0.4132\n",
      "Epoch 3/100\n",
      "50000/50000 [==============================] - 9s 172us/step - loss: 1.6199 - acc: 0.4203 - val_loss: 1.6335 - val_acc: 0.4138\n",
      "Epoch 4/100\n",
      "50000/50000 [==============================] - 9s 172us/step - loss: 1.5628 - acc: 0.4419 - val_loss: 1.5533 - val_acc: 0.4439\n",
      "Epoch 5/100\n",
      "50000/50000 [==============================] - 9s 173us/step - loss: 1.5104 - acc: 0.4620 - val_loss: 1.5146 - val_acc: 0.4618\n",
      "Epoch 6/100\n",
      "50000/50000 [==============================] - 9s 173us/step - loss: 1.4825 - acc: 0.4695 - val_loss: 1.5134 - val_acc: 0.4605\n",
      "Epoch 7/100\n",
      "50000/50000 [==============================] - 9s 174us/step - loss: 1.4437 - acc: 0.4877 - val_loss: 1.4548 - val_acc: 0.4830\n",
      "Epoch 8/100\n",
      "50000/50000 [==============================] - 9s 173us/step - loss: 1.4216 - acc: 0.4949 - val_loss: 1.4487 - val_acc: 0.4820\n",
      "Epoch 9/100\n",
      "50000/50000 [==============================] - 9s 174us/step - loss: 1.3846 - acc: 0.5081 - val_loss: 1.4811 - val_acc: 0.4734\n",
      "Epoch 10/100\n",
      "50000/50000 [==============================] - 9s 173us/step - loss: 1.3613 - acc: 0.5146 - val_loss: 1.5114 - val_acc: 0.4638\n",
      "Epoch 11/100\n",
      "50000/50000 [==============================] - 9s 175us/step - loss: 1.3303 - acc: 0.5276 - val_loss: 1.4189 - val_acc: 0.4930\n",
      "Epoch 12/100\n",
      "50000/50000 [==============================] - 9s 176us/step - loss: 1.3170 - acc: 0.5294 - val_loss: 1.4303 - val_acc: 0.4924\n",
      "Epoch 13/100\n",
      "50000/50000 [==============================] - 9s 175us/step - loss: 1.2923 - acc: 0.5395 - val_loss: 1.3936 - val_acc: 0.5118\n",
      "Epoch 14/100\n",
      "50000/50000 [==============================] - 9s 175us/step - loss: 1.2720 - acc: 0.5469 - val_loss: 1.4083 - val_acc: 0.4978\n",
      "Epoch 15/100\n",
      "50000/50000 [==============================] - 9s 176us/step - loss: 1.2400 - acc: 0.5594 - val_loss: 1.4043 - val_acc: 0.5037\n",
      "Epoch 16/100\n",
      "50000/50000 [==============================] - 9s 180us/step - loss: 1.2169 - acc: 0.5633 - val_loss: 1.3667 - val_acc: 0.5161\n",
      "Epoch 17/100\n",
      "50000/50000 [==============================] - 9s 180us/step - loss: 1.1938 - acc: 0.5731 - val_loss: 1.3673 - val_acc: 0.5201\n",
      "Epoch 18/100\n",
      "50000/50000 [==============================] - 9s 179us/step - loss: 1.1757 - acc: 0.5826 - val_loss: 1.4025 - val_acc: 0.5083\n",
      "Epoch 19/100\n",
      "50000/50000 [==============================] - 9s 180us/step - loss: 1.1545 - acc: 0.5863 - val_loss: 1.3820 - val_acc: 0.5115\n",
      "Epoch 20/100\n",
      "50000/50000 [==============================] - 9s 180us/step - loss: 1.1431 - acc: 0.5907 - val_loss: 1.3568 - val_acc: 0.5261\n",
      "Epoch 21/100\n",
      "50000/50000 [==============================] - 9s 185us/step - loss: 1.1205 - acc: 0.5988 - val_loss: 1.4026 - val_acc: 0.5170 ac\n",
      "Epoch 22/100\n",
      "50000/50000 [==============================] - 9s 178us/step - loss: 1.1028 - acc: 0.6056 - val_loss: 1.3823 - val_acc: 0.5246\n",
      "Epoch 23/100\n",
      "50000/50000 [==============================] - 10s 194us/step - loss: 1.0758 - acc: 0.6153 - val_loss: 1.3811 - val_acc: 0.5226\n",
      "Epoch 24/100\n",
      "50000/50000 [==============================] - 9s 181us/step - loss: 1.0574 - acc: 0.6220 - val_loss: 1.3690 - val_acc: 0.5313\n",
      "Epoch 25/100\n",
      "50000/50000 [==============================] - 9s 179us/step - loss: 1.0421 - acc: 0.6258 - val_loss: 1.3977 - val_acc: 0.5245\n",
      "Epoch 26/100\n",
      "50000/50000 [==============================] - 9s 178us/step - loss: 1.0239 - acc: 0.6336 - val_loss: 1.3909 - val_acc: 0.5286\n",
      "Epoch 27/100\n",
      "50000/50000 [==============================] - 9s 177us/step - loss: 1.0065 - acc: 0.6430 - val_loss: 1.3717 - val_acc: 0.5299\n",
      "Epoch 28/100\n",
      "50000/50000 [==============================] - 9s 174us/step - loss: 0.9843 - acc: 0.6481 - val_loss: 1.4557 - val_acc: 0.5120\n",
      "Epoch 29/100\n",
      "50000/50000 [==============================] - 9s 173us/step - loss: 0.9616 - acc: 0.6564 - val_loss: 1.4520 - val_acc: 0.5120\n",
      "Epoch 30/100\n",
      "50000/50000 [==============================] - 9s 173us/step - loss: 0.9513 - acc: 0.6593 - val_loss: 1.4228 - val_acc: 0.5312\n",
      "Epoch 31/100\n",
      "50000/50000 [==============================] - 9s 178us/step - loss: 0.9272 - acc: 0.6702 - val_loss: 1.4572 - val_acc: 0.5223\n",
      "Epoch 32/100\n",
      "50000/50000 [==============================] - 9s 178us/step - loss: 0.9164 - acc: 0.6734 - val_loss: 1.4675 - val_acc: 0.5284\n",
      "Epoch 33/100\n",
      "50000/50000 [==============================] - 9s 181us/step - loss: 0.9024 - acc: 0.6779 - val_loss: 1.4518 - val_acc: 0.5230\n",
      "Epoch 34/100\n",
      "50000/50000 [==============================] - 9s 183us/step - loss: 0.8845 - acc: 0.6836 - val_loss: 1.4975 - val_acc: 0.5174\n",
      "Epoch 35/100\n",
      "50000/50000 [==============================] - 9s 177us/step - loss: 0.8724 - acc: 0.6895 - val_loss: 1.4642 - val_acc: 0.5266\n",
      "Epoch 36/100\n",
      "50000/50000 [==============================] - 9s 182us/step - loss: 0.8514 - acc: 0.6956 - val_loss: 1.5268 - val_acc: 0.5139\n",
      "Epoch 37/100\n",
      "50000/50000 [==============================] - 9s 185us/step - loss: 0.8331 - acc: 0.7026 - val_loss: 1.5391 - val_acc: 0.5168\n",
      "Epoch 38/100\n",
      "50000/50000 [==============================] - 9s 178us/step - loss: 0.8130 - acc: 0.7095 - val_loss: 1.5163 - val_acc: 0.5176\n",
      "Epoch 39/100\n",
      "50000/50000 [==============================] - 9s 171us/step - loss: 0.8030 - acc: 0.7136 - val_loss: 1.5632 - val_acc: 0.5230\n",
      "Epoch 40/100\n",
      "50000/50000 [==============================] - 9s 171us/step - loss: 0.7789 - acc: 0.7203 - val_loss: 1.6010 - val_acc: 0.5105\n",
      "Epoch 41/100\n",
      "50000/50000 [==============================] - 9s 171us/step - loss: 0.7696 - acc: 0.7262 - val_loss: 1.6382 - val_acc: 0.5165\n",
      "Epoch 42/100\n",
      "50000/50000 [==============================] - 9s 178us/step - loss: 0.7585 - acc: 0.7275 - val_loss: 1.6433 - val_acc: 0.5174\n",
      "Epoch 43/100\n",
      "50000/50000 [==============================] - 9s 175us/step - loss: 0.7467 - acc: 0.7328 - val_loss: 1.6457 - val_acc: 0.5212\n",
      "Epoch 44/100\n",
      "50000/50000 [==============================] - 9s 173us/step - loss: 0.7325 - acc: 0.7374 - val_loss: 1.6227 - val_acc: 0.5212\n",
      "Epoch 45/100\n",
      "50000/50000 [==============================] - 9s 171us/step - loss: 0.7240 - acc: 0.7411 - val_loss: 1.6574 - val_acc: 0.5176\n",
      "Epoch 46/100\n",
      "50000/50000 [==============================] - 9s 171us/step - loss: 0.6986 - acc: 0.7501 - val_loss: 1.7198 - val_acc: 0.5147\n",
      "Epoch 47/100\n",
      "50000/50000 [==============================] - 9s 174us/step - loss: 0.6785 - acc: 0.7577 - val_loss: 1.7145 - val_acc: 0.5201\n",
      "Epoch 48/100\n",
      "50000/50000 [==============================] - 9s 173us/step - loss: 0.6714 - acc: 0.7584 - val_loss: 1.7436 - val_acc: 0.5109\n",
      "Epoch 49/100\n",
      "50000/50000 [==============================] - 8s 170us/step - loss: 0.6629 - acc: 0.7627 - val_loss: 1.7772 - val_acc: 0.5158\n",
      "Epoch 50/100\n",
      "50000/50000 [==============================] - 8s 169us/step - loss: 0.6518 - acc: 0.7686 - val_loss: 1.7878 - val_acc: 0.5155\n",
      "Epoch 51/100\n",
      "50000/50000 [==============================] - 9s 171us/step - loss: 0.6370 - acc: 0.7724 - val_loss: 1.8052 - val_acc: 0.5182\n",
      "Epoch 52/100\n",
      "50000/50000 [==============================] - 9s 174us/step - loss: 0.6155 - acc: 0.7798 - val_loss: 1.8236 - val_acc: 0.5171\n",
      "Epoch 53/100\n",
      "50000/50000 [==============================] - 9s 174us/step - loss: 0.6106 - acc: 0.7836 - val_loss: 1.8269 - val_acc: 0.5072\n",
      "Epoch 54/100\n",
      "50000/50000 [==============================] - 9s 171us/step - loss: 0.5932 - acc: 0.7901 - val_loss: 1.9133 - val_acc: 0.5064\n",
      "Epoch 55/100\n",
      "50000/50000 [==============================] - 9s 173us/step - loss: 0.5833 - acc: 0.7921 - val_loss: 1.9037 - val_acc: 0.5123\n",
      "Epoch 56/100\n",
      "50000/50000 [==============================] - 9s 187us/step - loss: 0.5848 - acc: 0.7915 - val_loss: 1.9499 - val_acc: 0.5122\n",
      "Epoch 57/100\n",
      "50000/50000 [==============================] - 9s 188us/step - loss: 0.5579 - acc: 0.8030 - val_loss: 1.9428 - val_acc: 0.5085\n",
      "Epoch 58/100\n",
      "50000/50000 [==============================] - 9s 188us/step - loss: 0.5621 - acc: 0.8010 - val_loss: 1.9508 - val_acc: 0.5094\n",
      "Epoch 59/100\n"
     ]
    },
    {
     "name": "stdout",
     "output_type": "stream",
     "text": [
      "50000/50000 [==============================] - 9s 182us/step - loss: 0.5603 - acc: 0.7991 - val_loss: 1.9499 - val_acc: 0.5149\n",
      "Epoch 60/100\n",
      "50000/50000 [==============================] - 9s 174us/step - loss: 0.5297 - acc: 0.8120 - val_loss: 2.1114 - val_acc: 0.4955\n",
      "Epoch 61/100\n",
      "50000/50000 [==============================] - 9s 184us/step - loss: 0.5156 - acc: 0.8163 - val_loss: 2.0495 - val_acc: 0.5028\n",
      "Epoch 62/100\n",
      "50000/50000 [==============================] - 9s 189us/step - loss: 0.5266 - acc: 0.8108 - val_loss: 2.1199 - val_acc: 0.5040\n",
      "Epoch 63/100\n",
      "50000/50000 [==============================] - 9s 178us/step - loss: 0.5119 - acc: 0.8168 - val_loss: 2.1163 - val_acc: 0.5045\n",
      "Epoch 64/100\n",
      "50000/50000 [==============================] - 9s 173us/step - loss: 0.5023 - acc: 0.8214 - val_loss: 2.2911 - val_acc: 0.4973\n",
      "Epoch 65/100\n",
      "50000/50000 [==============================] - 9s 174us/step - loss: 0.4993 - acc: 0.8230 - val_loss: 2.2187 - val_acc: 0.5065\n",
      "Epoch 66/100\n",
      "50000/50000 [==============================] - 9s 173us/step - loss: 0.4745 - acc: 0.8323 - val_loss: 2.2628 - val_acc: 0.5014\n",
      "Epoch 67/100\n",
      "50000/50000 [==============================] - 9s 171us/step - loss: 0.4840 - acc: 0.8282 - val_loss: 2.2173 - val_acc: 0.5097\n",
      "Epoch 68/100\n",
      "50000/50000 [==============================] - 8s 170us/step - loss: 0.4515 - acc: 0.8392 - val_loss: 2.2532 - val_acc: 0.5053\n",
      "Epoch 69/100\n",
      "50000/50000 [==============================] - 9s 171us/step - loss: 0.4492 - acc: 0.8423 - val_loss: 2.2441 - val_acc: 0.5063\n",
      "Epoch 70/100\n",
      "50000/50000 [==============================] - 9s 172us/step - loss: 0.4340 - acc: 0.8446 - val_loss: 2.2959 - val_acc: 0.5084\n",
      "Epoch 71/100\n",
      "50000/50000 [==============================] - 9s 175us/step - loss: 0.4535 - acc: 0.8365 - val_loss: 2.3798 - val_acc: 0.5050\n",
      "Epoch 72/100\n",
      "50000/50000 [==============================] - 9s 176us/step - loss: 0.4335 - acc: 0.8447 - val_loss: 2.3308 - val_acc: 0.5085\n",
      "Epoch 73/100\n",
      "50000/50000 [==============================] - 9s 173us/step - loss: 0.4283 - acc: 0.8472 - val_loss: 2.3752 - val_acc: 0.5091\n",
      "Epoch 74/100\n",
      "50000/50000 [==============================] - 9s 172us/step - loss: 0.4360 - acc: 0.8433 - val_loss: 2.4275 - val_acc: 0.5039\n",
      "Epoch 75/100\n",
      "50000/50000 [==============================] - 9s 173us/step - loss: 0.4201 - acc: 0.8495 - val_loss: 2.4310 - val_acc: 0.4928\n",
      "Epoch 76/100\n",
      "50000/50000 [==============================] - 9s 170us/step - loss: 0.4085 - acc: 0.8539 - val_loss: 2.4695 - val_acc: 0.5060\n",
      "Epoch 77/100\n",
      "50000/50000 [==============================] - 9s 174us/step - loss: 0.3888 - acc: 0.8614 - val_loss: 2.5650 - val_acc: 0.5033\n",
      "Epoch 78/100\n",
      "50000/50000 [==============================] - 9s 176us/step - loss: 0.3964 - acc: 0.8586 - val_loss: 2.4767 - val_acc: 0.5066\n",
      "Epoch 79/100\n",
      "50000/50000 [==============================] - 10s 192us/step - loss: 0.4025 - acc: 0.8547 - val_loss: 2.5491 - val_acc: 0.5033\n",
      "Epoch 80/100\n",
      "50000/50000 [==============================] - 9s 181us/step - loss: 0.3801 - acc: 0.8641 - val_loss: 2.5452 - val_acc: 0.5088\n",
      "Epoch 81/100\n",
      "50000/50000 [==============================] - 9s 173us/step - loss: 0.3781 - acc: 0.8658 - val_loss: 2.5534 - val_acc: 0.4966\n",
      "Epoch 82/100\n",
      "50000/50000 [==============================] - 9s 172us/step - loss: 0.3631 - acc: 0.8715 - val_loss: 2.6763 - val_acc: 0.5012\n",
      "Epoch 83/100\n",
      "50000/50000 [==============================] - 9s 184us/step - loss: 0.3794 - acc: 0.8643 - val_loss: 2.6935 - val_acc: 0.4947\n",
      "Epoch 84/100\n",
      "50000/50000 [==============================] - 9s 182us/step - loss: 0.3679 - acc: 0.8691 - val_loss: 2.6520 - val_acc: 0.4992\n",
      "Epoch 85/100\n",
      "50000/50000 [==============================] - 9s 185us/step - loss: 0.3532 - acc: 0.8732 - val_loss: 2.6931 - val_acc: 0.5092\n",
      "Epoch 86/100\n",
      "50000/50000 [==============================] - 9s 178us/step - loss: 0.3601 - acc: 0.8689 - val_loss: 2.7162 - val_acc: 0.4949\n",
      "Epoch 87/100\n",
      "50000/50000 [==============================] - 9s 173us/step - loss: 0.3616 - acc: 0.8689 - val_loss: 2.7051 - val_acc: 0.5040\n",
      "Epoch 88/100\n",
      "50000/50000 [==============================] - 9s 173us/step - loss: 0.3457 - acc: 0.8745 - val_loss: 2.7234 - val_acc: 0.5007\n",
      "Epoch 89/100\n",
      "50000/50000 [==============================] - 9s 174us/step - loss: 0.3400 - acc: 0.8778 - val_loss: 2.8703 - val_acc: 0.5032\n",
      "Epoch 90/100\n",
      "50000/50000 [==============================] - 9s 171us/step - loss: 0.3303 - acc: 0.8817 - val_loss: 2.8171 - val_acc: 0.4957\n",
      "Epoch 91/100\n",
      "50000/50000 [==============================] - 9s 173us/step - loss: 0.3184 - acc: 0.8861 - val_loss: 2.8549 - val_acc: 0.5013\n",
      "Epoch 92/100\n",
      "50000/50000 [==============================] - 9s 188us/step - loss: 0.3258 - acc: 0.8852 - val_loss: 2.8221 - val_acc: 0.4965\n",
      "Epoch 93/100\n",
      "50000/50000 [==============================] - 9s 172us/step - loss: 0.3167 - acc: 0.8879 - val_loss: 3.0232 - val_acc: 0.4825\n",
      "Epoch 94/100\n",
      "50000/50000 [==============================] - 9s 178us/step - loss: 0.3216 - acc: 0.8842 - val_loss: 2.9177 - val_acc: 0.5021\n",
      "Epoch 95/100\n",
      "50000/50000 [==============================] - 9s 172us/step - loss: 0.2934 - acc: 0.8947 - val_loss: 2.9743 - val_acc: 0.4943\n",
      "Epoch 96/100\n",
      "50000/50000 [==============================] - 9s 173us/step - loss: 0.3006 - acc: 0.8918 - val_loss: 2.9923 - val_acc: 0.4888\n",
      "Epoch 97/100\n",
      "50000/50000 [==============================] - 9s 175us/step - loss: 0.3082 - acc: 0.8898 - val_loss: 2.9279 - val_acc: 0.4992\n",
      "Epoch 98/100\n",
      "50000/50000 [==============================] - 9s 170us/step - loss: 0.2979 - acc: 0.8933 - val_loss: 2.9610 - val_acc: 0.4928\n",
      "Epoch 99/100\n",
      "50000/50000 [==============================] - 9s 171us/step - loss: 0.2892 - acc: 0.8978 - val_loss: 3.0194 - val_acc: 0.5064\n",
      "Epoch 100/100\n",
      "50000/50000 [==============================] - 9s 173us/step - loss: 0.3095 - acc: 0.8898 - val_loss: 3.0645 - val_acc: 0.4888\n"
     ]
    },
    {
     "data": {
      "text/plain": [
       "<keras.callbacks.History at 0x25c3ecc0860>"
      ]
     },
     "execution_count": 10,
     "metadata": {},
     "output_type": "execute_result"
    }
   ],
   "source": [
    "model.fit(x_train, y_train, \n",
    "          epochs=EPOCHS, \n",
    "          batch_size=BATCH_SIZE, \n",
    "          validation_data=(x_test, y_test), \n",
    "          shuffle=True)"
   ]
  },
  {
   "cell_type": "code",
   "execution_count": 12,
   "metadata": {},
   "outputs": [
    {
     "data": {
      "image/png": "[encoded data removed]",
      "text/plain": [
       "<Figure size 432x288 with 1 Axes>"
      ]
     },
     "metadata": {
      "needs_background": "light"
     },
     "output_type": "display_data"
    },
    {
     "data": {
      "image/png": "[encoded data removed]",
      "text/plain": [
       "<Figure size 432x288 with 1 Axes>"
      ]
     },
     "metadata": {
      "needs_background": "light"
     },
     "output_type": "display_data"
    }
   ],
   "source": [
    "# 訓練模型並檢視驗證集的結果\n",
    "import matplotlib.pyplot as plt\n",
    "\n",
    "train_loss = model.history.history[\"loss\"]\n",
    "valid_loss = model.history.history[\"val_loss\"]\n",
    "\n",
    "train_acc = model.history.history[\"acc\"]\n",
    "valid_acc = model.history.history[\"val_acc\"]\n",
    "\n",
    "plt.plot(range(len(train_loss)), train_loss, label=\"train loss\")\n",
    "plt.plot(range(len(valid_loss)), valid_loss, label=\"valid loss\")\n",
    "plt.legend()\n",
    "plt.title(\"Loss\")\n",
    "plt.show()\n",
    "\n",
    "plt.plot(range(len(train_acc)), train_acc, label=\"train accuracy\")\n",
    "plt.plot(range(len(valid_acc)), valid_acc, label=\"valid accuracy\")\n",
    "plt.legend()\n",
    "plt.title(\"Accuracy\")\n",
    "plt.show()"
   ]
  },
  {
   "cell_type": "code",
   "execution_count": 17,
   "metadata": {},
   "outputs": [
    {
     "name": "stdout",
     "output_type": "stream",
     "text": [
      "Accuracy: 0.4888\n",
      "Loss: 3.0644646144866945\n"
     ]
    }
   ],
   "source": [
    "loss, acc = model.evaluate(x_test, y_test, verbose=0)\n",
    "print(f'Accuracy: {acc}')\n",
    "print(f'Loss: {loss}')"
   ]
  },
  {
   "cell_type": "markdown",
   "metadata": {},
   "source": [
    "## Work\n",
    "1. 請嘗試將 preproc_x 替換成以每筆資料的 min/max 進行標準化至 -1 ~ 1 間，再進行訓練\n",
    "2. 請嘗試將 mlp 疊更深 (e.g 5~10 層)，進行訓練後觀察 learning curve 的走勢\n",
    "3. (optional) 請改用 GPU 進行訓練 (如果你有 GPU 的話)，比較使用 CPU 與 GPU 的訓練速度"
   ]
  }
 ],
 "metadata": {
  "kernelspec": {
   "display_name": "Python 3",
   "language": "python",
   "name": "python3"
  },
  "language_info": {
   "codemirror_mode": {
    "name": "ipython",
    "version": 3
   },
   "file_extension": ".py",
   "mimetype": "text/x-python",
   "name": "python",
   "nbconvert_exporter": "python",
   "pygments_lexer": "ipython3",
   "version": "3.7.3"
  }
 },
 "nbformat": 4,
 "nbformat_minor": 2
}
