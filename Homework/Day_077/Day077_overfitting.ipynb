{
 "cells": [
  {
   "cell_type": "markdown",
   "metadata": {},
   "source": [
    "## 範例重點\n",
    "* 學會從 Keras 內建函式取得資料\n",
    "* 能夠建立簡易的深度學習模型\n",
    "* 觀察並了解 Overfit 現象"
   ]
  },
  {
   "cell_type": "code",
   "execution_count": 1,
   "metadata": {},
   "outputs": [
    {
     "name": "stderr",
     "output_type": "stream",
     "text": [
      "Using TensorFlow backend.\n"
     ]
    }
   ],
   "source": [
    "import os\n",
    "import keras\n",
    "\n",
    "# 本範例不需使用 GPU, 將 GPU 設定為 \"無\"\n",
    "os.environ[\"CUDA_VISIBLE_DEVICES\"] = \"\""
   ]
  },
  {
   "cell_type": "code",
   "execution_count": 2,
   "metadata": {},
   "outputs": [],
   "source": [
    "# 從 Keras 的內建功能中，取得 train 與 test 資料集\n",
    "train, test = keras.datasets.cifar10.load_data()"
   ]
  },
  {
   "cell_type": "code",
   "execution_count": 3,
   "metadata": {},
   "outputs": [],
   "source": [
    "# 將 X 與 Y 獨立放進變數\n",
    "x_train, y_train = train\n",
    "x_test, y_test = test\n",
    "# 資料前處理 - 標準化\n",
    "x_train = x_train / 255.\n",
    "x_test = x_test / 255.\n",
    "\n",
    "# 將資料從圖形 (RGB) 轉為向量 (Single Vector)\n",
    "x_train = x_train.reshape((len(x_train), -1))\n",
    "x_test = x_test.reshape((len(x_test), -1))\n",
    "\n",
    "# 將目標轉為 one-hot encoding\n",
    "y_train = keras.utils.to_categorical(y_train, num_classes=10)\n",
    "y_test = keras.utils.to_categorical(y_test, num_classes=10)"
   ]
  },
  {
   "cell_type": "code",
   "execution_count": 4,
   "metadata": {},
   "outputs": [],
   "source": [
    "# 建立一個有三層隱藏層之神經網路\n",
    "def build_mlp():\n",
    "    input_layer = keras.layers.Input([x_train.shape[-1]])\n",
    "    x = keras.layers.Dense(units=512, activation=\"relu\")(input_layer)\n",
    "    x = keras.layers.Dense(units=256, activation=\"relu\")(x)\n",
    "    x = keras.layers.Dense(units=128, activation=\"relu\")(x)\n",
    "    out = keras.layers.Dense(units=10, activation=\"softmax\")(x)\n",
    "    \n",
    "    model = keras.models.Model(inputs=[input_layer], outputs=[out])\n",
    "    return model"
   ]
  },
  {
   "cell_type": "code",
   "execution_count": 5,
   "metadata": {},
   "outputs": [
    {
     "name": "stderr",
     "output_type": "stream",
     "text": [
      "WARNING: Logging before flag parsing goes to stderr.\n",
      "W0720 22:39:24.009568 13396 deprecation_wrapper.py:119] From C:\\Users\\Ychu\\Anaconda3\\lib\\site-packages\\keras\\backend\\tensorflow_backend.py:74: The name tf.get_default_graph is deprecated. Please use tf.compat.v1.get_default_graph instead.\n",
      "\n",
      "W0720 22:39:24.031569 13396 deprecation_wrapper.py:119] From C:\\Users\\Ychu\\Anaconda3\\lib\\site-packages\\keras\\backend\\tensorflow_backend.py:517: The name tf.placeholder is deprecated. Please use tf.compat.v1.placeholder instead.\n",
      "\n",
      "W0720 22:39:24.035572 13396 deprecation_wrapper.py:119] From C:\\Users\\Ychu\\Anaconda3\\lib\\site-packages\\keras\\backend\\tensorflow_backend.py:4138: The name tf.random_uniform is deprecated. Please use tf.random.uniform instead.\n",
      "\n",
      "W0720 22:39:24.098576 13396 deprecation_wrapper.py:119] From C:\\Users\\Ychu\\Anaconda3\\lib\\site-packages\\keras\\optimizers.py:790: The name tf.train.Optimizer is deprecated. Please use tf.compat.v1.train.Optimizer instead.\n",
      "\n",
      "W0720 22:39:24.108576 13396 deprecation_wrapper.py:119] From C:\\Users\\Ychu\\Anaconda3\\lib\\site-packages\\keras\\backend\\tensorflow_backend.py:3295: The name tf.log is deprecated. Please use tf.math.log instead.\n",
      "\n"
     ]
    },
    {
     "name": "stdout",
     "output_type": "stream",
     "text": [
      "_________________________________________________________________\n",
      "Layer (type)                 Output Shape              Param #   \n",
      "=================================================================\n",
      "input_1 (InputLayer)         (None, 3072)              0         \n",
      "_________________________________________________________________\n",
      "dense_1 (Dense)              (None, 512)               1573376   \n",
      "_________________________________________________________________\n",
      "dense_2 (Dense)              (None, 256)               131328    \n",
      "_________________________________________________________________\n",
      "dense_3 (Dense)              (None, 128)               32896     \n",
      "_________________________________________________________________\n",
      "dense_4 (Dense)              (None, 10)                1290      \n",
      "=================================================================\n",
      "Total params: 1,738,890\n",
      "Trainable params: 1,738,890\n",
      "Non-trainable params: 0\n",
      "_________________________________________________________________\n"
     ]
    }
   ],
   "source": [
    "model = build_mlp()\n",
    "# 用 Keras 內建方法檢視模型各層參數量\n",
    "model.summary()\n",
    "\n",
    "optimizer = keras.optimizers.Adam(lr=0.001)\n",
    "model.compile(loss=\"categorical_crossentropy\", metrics=[\"accuracy\"], optimizer=optimizer)"
   ]
  },
  {
   "cell_type": "code",
   "execution_count": 6,
   "metadata": {},
   "outputs": [
    {
     "name": "stderr",
     "output_type": "stream",
     "text": [
      "W0720 22:39:24.202582 13396 deprecation.py:323] From C:\\Users\\Ychu\\Anaconda3\\lib\\site-packages\\tensorflow\\python\\ops\\math_grad.py:1250: add_dispatch_support.<locals>.wrapper (from tensorflow.python.ops.array_ops) is deprecated and will be removed in a future version.\n",
      "Instructions for updating:\n",
      "Use tf.where in 2.0, which has the same broadcast rule as np.where\n",
      "W0720 22:39:24.260589 13396 deprecation_wrapper.py:119] From C:\\Users\\Ychu\\Anaconda3\\lib\\site-packages\\keras\\backend\\tensorflow_backend.py:986: The name tf.assign_add is deprecated. Please use tf.compat.v1.assign_add instead.\n",
      "\n"
     ]
    },
    {
     "name": "stdout",
     "output_type": "stream",
     "text": [
      "Train on 50000 samples, validate on 10000 samples\n",
      "Epoch 1/100\n",
      "50000/50000 [==============================] - 10s 192us/step - loss: 1.9139 - acc: 0.3080 - val_loss: 1.7311 - val_acc: 0.3883\n",
      "Epoch 2/100\n",
      "50000/50000 [==============================] - 9s 178us/step - loss: 1.7000 - acc: 0.3922 - val_loss: 1.6446 - val_acc: 0.4110\n",
      "Epoch 3/100\n",
      "50000/50000 [==============================] - 9s 186us/step - loss: 1.6117 - acc: 0.4262 - val_loss: 1.6166 - val_acc: 0.4284\n",
      "Epoch 4/100\n",
      "50000/50000 [==============================] - 9s 188us/step - loss: 1.5530 - acc: 0.4467 - val_loss: 1.5552 - val_acc: 0.4435\n",
      "Epoch 5/100\n",
      "50000/50000 [==============================] - 9s 180us/step - loss: 1.5022 - acc: 0.4641 - val_loss: 1.4853 - val_acc: 0.4740\n",
      "Epoch 6/100\n",
      "50000/50000 [==============================] - 9s 174us/step - loss: 1.4650 - acc: 0.4785 - val_loss: 1.4748 - val_acc: 0.4772\n",
      "Epoch 7/100\n",
      "50000/50000 [==============================] - 9s 173us/step - loss: 1.4334 - acc: 0.4898 - val_loss: 1.4940 - val_acc: 0.4674\n",
      "Epoch 8/100\n",
      "50000/50000 [==============================] - 9s 173us/step - loss: 1.4050 - acc: 0.4996 - val_loss: 1.4957 - val_acc: 0.4637\n",
      "Epoch 9/100\n",
      "50000/50000 [==============================] - 9s 174us/step - loss: 1.3786 - acc: 0.5092 - val_loss: 1.4293 - val_acc: 0.4917\n",
      "Epoch 10/100\n",
      "50000/50000 [==============================] - 9s 173us/step - loss: 1.3521 - acc: 0.5180 - val_loss: 1.4323 - val_acc: 0.4942\n",
      "Epoch 11/100\n",
      "50000/50000 [==============================] - 9s 173us/step - loss: 1.3251 - acc: 0.5298 - val_loss: 1.4003 - val_acc: 0.5059\n",
      "Epoch 12/100\n",
      "50000/50000 [==============================] - 9s 174us/step - loss: 1.2970 - acc: 0.5409 - val_loss: 1.3860 - val_acc: 0.5079\n",
      "Epoch 13/100\n",
      "50000/50000 [==============================] - 9s 177us/step - loss: 1.2852 - acc: 0.5415 - val_loss: 1.4224 - val_acc: 0.4982\n",
      "Epoch 14/100\n",
      "50000/50000 [==============================] - 9s 180us/step - loss: 1.2569 - acc: 0.5531 - val_loss: 1.4046 - val_acc: 0.4995\n",
      "Epoch 15/100\n",
      "50000/50000 [==============================] - 9s 182us/step - loss: 1.2361 - acc: 0.5593 - val_loss: 1.3817 - val_acc: 0.5123\n",
      "Epoch 16/100\n",
      "50000/50000 [==============================] - 9s 184us/step - loss: 1.2177 - acc: 0.5651 - val_loss: 1.4329 - val_acc: 0.4931\n",
      "Epoch 17/100\n",
      "50000/50000 [==============================] - 9s 180us/step - loss: 1.2014 - acc: 0.5730 - val_loss: 1.3671 - val_acc: 0.5145\n",
      "Epoch 18/100\n",
      "50000/50000 [==============================] - 9s 188us/step - loss: 1.1627 - acc: 0.5846 - val_loss: 1.3793 - val_acc: 0.5092\n",
      "Epoch 19/100\n",
      "50000/50000 [==============================] - 9s 179us/step - loss: 1.1574 - acc: 0.5886 - val_loss: 1.3790 - val_acc: 0.5184\n",
      "Epoch 20/100\n",
      "50000/50000 [==============================] - 9s 177us/step - loss: 1.1381 - acc: 0.5964 - val_loss: 1.3729 - val_acc: 0.5215\n",
      "Epoch 21/100\n",
      "50000/50000 [==============================] - 9s 175us/step - loss: 1.1199 - acc: 0.6003 - val_loss: 1.3615 - val_acc: 0.5249\n",
      "Epoch 22/100\n",
      "50000/50000 [==============================] - 9s 175us/step - loss: 1.0924 - acc: 0.6095 - val_loss: 1.3934 - val_acc: 0.5210\n",
      "Epoch 23/100\n",
      "50000/50000 [==============================] - 9s 176us/step - loss: 1.0640 - acc: 0.6216 - val_loss: 1.3783 - val_acc: 0.5260\n",
      "Epoch 24/100\n",
      "50000/50000 [==============================] - 9s 174us/step - loss: 1.0703 - acc: 0.6197 - val_loss: 1.3685 - val_acc: 0.5292\n",
      "Epoch 25/100\n",
      "50000/50000 [==============================] - 9s 176us/step - loss: 1.0405 - acc: 0.6293 - val_loss: 1.3721 - val_acc: 0.5241\n",
      "Epoch 26/100\n",
      "50000/50000 [==============================] - 9s 182us/step - loss: 1.0178 - acc: 0.6356 - val_loss: 1.3916 - val_acc: 0.5266\n",
      "Epoch 27/100\n",
      "50000/50000 [==============================] - 10s 192us/step - loss: 1.0011 - acc: 0.6434 - val_loss: 1.4006 - val_acc: 0.5201\n",
      "Epoch 28/100\n",
      "50000/50000 [==============================] - 9s 185us/step - loss: 0.9898 - acc: 0.6449 - val_loss: 1.4269 - val_acc: 0.5240\n",
      "Epoch 29/100\n",
      "50000/50000 [==============================] - 9s 179us/step - loss: 0.9814 - acc: 0.6518 - val_loss: 1.4135 - val_acc: 0.5254\n",
      "Epoch 30/100\n",
      "50000/50000 [==============================] - 9s 182us/step - loss: 0.9550 - acc: 0.6603 - val_loss: 1.4388 - val_acc: 0.5180\n",
      "Epoch 31/100\n",
      "50000/50000 [==============================] - 10s 196us/step - loss: 0.9340 - acc: 0.6664 - val_loss: 1.4840 - val_acc: 0.5173\n",
      "Epoch 32/100\n",
      "50000/50000 [==============================] - 10s 195us/step - loss: 0.9179 - acc: 0.6720 - val_loss: 1.4603 - val_acc: 0.5165\n",
      "Epoch 33/100\n",
      "50000/50000 [==============================] - 10s 191us/step - loss: 0.9036 - acc: 0.6774 - val_loss: 1.4710 - val_acc: 0.5242\n",
      "Epoch 34/100\n",
      "50000/50000 [==============================] - 10s 192us/step - loss: 0.8786 - acc: 0.6859 - val_loss: 1.4585 - val_acc: 0.5263\n",
      "Epoch 35/100\n",
      "50000/50000 [==============================] - 9s 187us/step - loss: 0.8700 - acc: 0.6904 - val_loss: 1.4797 - val_acc: 0.5251\n",
      "Epoch 36/100\n",
      "50000/50000 [==============================] - 9s 175us/step - loss: 0.8490 - acc: 0.6956 - val_loss: 1.4817 - val_acc: 0.5210\n",
      "Epoch 37/100\n",
      "50000/50000 [==============================] - 9s 176us/step - loss: 0.8385 - acc: 0.7006 - val_loss: 1.5490 - val_acc: 0.5244\n",
      "Epoch 38/100\n",
      "50000/50000 [==============================] - 9s 178us/step - loss: 0.8323 - acc: 0.7035 - val_loss: 1.6108 - val_acc: 0.5051\n",
      "Epoch 39/100\n",
      "50000/50000 [==============================] - 9s 175us/step - loss: 0.8161 - acc: 0.7070 - val_loss: 1.5439 - val_acc: 0.5224\n",
      "Epoch 40/100\n",
      "50000/50000 [==============================] - 9s 175us/step - loss: 0.7912 - acc: 0.7169 - val_loss: 1.5446 - val_acc: 0.5242\n",
      "Epoch 41/100\n",
      "50000/50000 [==============================] - 9s 175us/step - loss: 0.7646 - acc: 0.7264 - val_loss: 1.5596 - val_acc: 0.5283\n",
      "Epoch 42/100\n",
      "50000/50000 [==============================] - 9s 175us/step - loss: 0.7583 - acc: 0.7301 - val_loss: 1.6081 - val_acc: 0.5218\n",
      "Epoch 43/100\n",
      "50000/50000 [==============================] - 9s 176us/step - loss: 0.7415 - acc: 0.7362 - val_loss: 1.6479 - val_acc: 0.5116\n",
      "Epoch 44/100\n",
      "50000/50000 [==============================] - 9s 178us/step - loss: 0.7280 - acc: 0.7397 - val_loss: 1.7037 - val_acc: 0.5086\n",
      "Epoch 45/100\n",
      "50000/50000 [==============================] - 9s 183us/step - loss: 0.7216 - acc: 0.7416 - val_loss: 1.6550 - val_acc: 0.5202\n",
      "Epoch 46/100\n",
      "50000/50000 [==============================] - 9s 180us/step - loss: 0.6974 - acc: 0.7522 - val_loss: 1.6763 - val_acc: 0.5121\n",
      "Epoch 47/100\n",
      "50000/50000 [==============================] - 9s 184us/step - loss: 0.6840 - acc: 0.7558 - val_loss: 1.7027 - val_acc: 0.5197\n",
      "Epoch 48/100\n",
      "50000/50000 [==============================] - 9s 189us/step - loss: 0.6749 - acc: 0.7601 - val_loss: 1.6976 - val_acc: 0.5223\n",
      "Epoch 49/100\n",
      "50000/50000 [==============================] - 9s 185us/step - loss: 0.6611 - acc: 0.7624 - val_loss: 1.7159 - val_acc: 0.5196\n",
      "Epoch 50/100\n",
      "50000/50000 [==============================] - 9s 185us/step - loss: 0.6454 - acc: 0.7700 - val_loss: 1.7581 - val_acc: 0.5194\n",
      "Epoch 51/100\n",
      "50000/50000 [==============================] - 9s 181us/step - loss: 0.6343 - acc: 0.7727 - val_loss: 1.7762 - val_acc: 0.5180\n",
      "Epoch 52/100\n",
      "50000/50000 [==============================] - 9s 187us/step - loss: 0.6150 - acc: 0.7798 - val_loss: 1.8339 - val_acc: 0.5135\n",
      "Epoch 53/100\n",
      "50000/50000 [==============================] - 9s 189us/step - loss: 0.6064 - acc: 0.7817 - val_loss: 1.8355 - val_acc: 0.5173\n",
      "Epoch 54/100\n",
      "50000/50000 [==============================] - 9s 188us/step - loss: 0.5986 - acc: 0.7847 - val_loss: 1.8651 - val_acc: 0.5218\n",
      "Epoch 55/100\n",
      "50000/50000 [==============================] - 9s 188us/step - loss: 0.5823 - acc: 0.7921 - val_loss: 1.9283 - val_acc: 0.5080\n",
      "Epoch 56/100\n",
      "50000/50000 [==============================] - 9s 181us/step - loss: 0.5754 - acc: 0.7935 - val_loss: 1.8809 - val_acc: 0.5161\n",
      "Epoch 57/100\n",
      "50000/50000 [==============================] - 9s 181us/step - loss: 0.5657 - acc: 0.7959 - val_loss: 1.9293 - val_acc: 0.5163\n",
      "Epoch 58/100\n",
      "50000/50000 [==============================] - 9s 185us/step - loss: 0.5475 - acc: 0.8043 - val_loss: 1.9882 - val_acc: 0.5168\n",
      "Epoch 59/100\n"
     ]
    },
    {
     "name": "stdout",
     "output_type": "stream",
     "text": [
      "50000/50000 [==============================] - 9s 185us/step - loss: 0.5357 - acc: 0.8095 - val_loss: 1.9958 - val_acc: 0.5206\n",
      "Epoch 60/100\n",
      "50000/50000 [==============================] - 9s 181us/step - loss: 0.5346 - acc: 0.8092 - val_loss: 2.0700 - val_acc: 0.5130\n",
      "Epoch 61/100\n",
      "50000/50000 [==============================] - 9s 181us/step - loss: 0.5385 - acc: 0.8063 - val_loss: 2.1667 - val_acc: 0.5083\n",
      "Epoch 62/100\n",
      "50000/50000 [==============================] - 9s 181us/step - loss: 0.5433 - acc: 0.8054 - val_loss: 2.0228 - val_acc: 0.5133\n",
      "Epoch 63/100\n",
      "50000/50000 [==============================] - 9s 185us/step - loss: 0.4927 - acc: 0.8233 - val_loss: 2.0831 - val_acc: 0.5079\n",
      "Epoch 64/100\n",
      "50000/50000 [==============================] - 9s 175us/step - loss: 0.4981 - acc: 0.8232 - val_loss: 2.1828 - val_acc: 0.5081\n",
      "Epoch 65/100\n",
      "50000/50000 [==============================] - 9s 177us/step - loss: 0.5002 - acc: 0.8204 - val_loss: 2.1070 - val_acc: 0.5066\n",
      "Epoch 66/100\n",
      "50000/50000 [==============================] - 9s 174us/step - loss: 0.4694 - acc: 0.8307 - val_loss: 2.1515 - val_acc: 0.5100\n",
      "Epoch 67/100\n",
      "50000/50000 [==============================] - 9s 176us/step - loss: 0.4607 - acc: 0.8347 - val_loss: 2.1723 - val_acc: 0.5139\n",
      "Epoch 68/100\n",
      "50000/50000 [==============================] - 9s 175us/step - loss: 0.4648 - acc: 0.8335 - val_loss: 2.2334 - val_acc: 0.5054\n",
      "Epoch 69/100\n",
      "50000/50000 [==============================] - 9s 173us/step - loss: 0.4586 - acc: 0.8377 - val_loss: 2.2697 - val_acc: 0.5060\n",
      "Epoch 70/100\n",
      "50000/50000 [==============================] - 9s 175us/step - loss: 0.4519 - acc: 0.8383 - val_loss: 2.2587 - val_acc: 0.5107\n",
      "Epoch 71/100\n",
      "50000/50000 [==============================] - 9s 184us/step - loss: 0.4330 - acc: 0.8463 - val_loss: 2.3390 - val_acc: 0.5064\n",
      "Epoch 72/100\n",
      "50000/50000 [==============================] - 9s 181us/step - loss: 0.4424 - acc: 0.8414 - val_loss: 2.3023 - val_acc: 0.5016\n",
      "Epoch 73/100\n",
      "50000/50000 [==============================] - 10s 196us/step - loss: 0.4208 - acc: 0.8495 - val_loss: 2.3757 - val_acc: 0.5141\n",
      "Epoch 74/100\n",
      "50000/50000 [==============================] - 10s 193us/step - loss: 0.4099 - acc: 0.8519 - val_loss: 2.4569 - val_acc: 0.5021\n",
      "Epoch 75/100\n",
      "50000/50000 [==============================] - 9s 185us/step - loss: 0.3989 - acc: 0.8580 - val_loss: 2.4223 - val_acc: 0.5070\n",
      "Epoch 76/100\n",
      "50000/50000 [==============================] - 9s 175us/step - loss: 0.4014 - acc: 0.8570 - val_loss: 2.4965 - val_acc: 0.5072\n",
      "Epoch 77/100\n",
      "50000/50000 [==============================] - 9s 175us/step - loss: 0.3970 - acc: 0.8584 - val_loss: 2.4131 - val_acc: 0.5049\n",
      "Epoch 78/100\n",
      "50000/50000 [==============================] - 9s 175us/step - loss: 0.4010 - acc: 0.8558 - val_loss: 2.5206 - val_acc: 0.5062\n",
      "Epoch 79/100\n",
      "50000/50000 [==============================] - 9s 177us/step - loss: 0.3857 - acc: 0.8619 - val_loss: 2.5629 - val_acc: 0.5050\n",
      "Epoch 80/100\n",
      "50000/50000 [==============================] - 9s 177us/step - loss: 0.3729 - acc: 0.8676 - val_loss: 2.6098 - val_acc: 0.5000\n",
      "Epoch 81/100\n",
      "50000/50000 [==============================] - 9s 172us/step - loss: 0.3580 - acc: 0.8708 - val_loss: 2.5537 - val_acc: 0.5098\n",
      "Epoch 82/100\n",
      "50000/50000 [==============================] - 9s 173us/step - loss: 0.3651 - acc: 0.8682 - val_loss: 2.6974 - val_acc: 0.4991\n",
      "Epoch 83/100\n",
      "50000/50000 [==============================] - 9s 174us/step - loss: 0.3574 - acc: 0.8717 - val_loss: 2.6292 - val_acc: 0.5064\n",
      "Epoch 84/100\n",
      "50000/50000 [==============================] - 9s 174us/step - loss: 0.3515 - acc: 0.8743 - val_loss: 2.7335 - val_acc: 0.5021\n",
      "Epoch 85/100\n",
      "50000/50000 [==============================] - 9s 176us/step - loss: 0.3642 - acc: 0.8691 - val_loss: 2.6263 - val_acc: 0.5049\n",
      "Epoch 86/100\n",
      "50000/50000 [==============================] - 9s 178us/step - loss: 0.3387 - acc: 0.8803 - val_loss: 2.6646 - val_acc: 0.5065\n",
      "Epoch 87/100\n",
      "50000/50000 [==============================] - 9s 180us/step - loss: 0.3452 - acc: 0.8752 - val_loss: 2.7480 - val_acc: 0.5059\n",
      "Epoch 88/100\n",
      "50000/50000 [==============================] - 9s 173us/step - loss: 0.3601 - acc: 0.8705 - val_loss: 2.7389 - val_acc: 0.5028\n",
      "Epoch 89/100\n",
      "50000/50000 [==============================] - 9s 173us/step - loss: 0.3331 - acc: 0.8812 - val_loss: 2.7175 - val_acc: 0.5088\n",
      "Epoch 90/100\n",
      "50000/50000 [==============================] - 9s 174us/step - loss: 0.3420 - acc: 0.8790 - val_loss: 2.8596 - val_acc: 0.4961\n",
      "Epoch 91/100\n",
      "50000/50000 [==============================] - 9s 183us/step - loss: 0.3151 - acc: 0.8868 - val_loss: 2.8033 - val_acc: 0.5010\n",
      "Epoch 92/100\n",
      "50000/50000 [==============================] - 9s 188us/step - loss: 0.3127 - acc: 0.8884 - val_loss: 2.8073 - val_acc: 0.5017\n",
      "Epoch 93/100\n",
      "50000/50000 [==============================] - 9s 185us/step - loss: 0.3006 - acc: 0.8917 - val_loss: 2.9196 - val_acc: 0.4937\n",
      "Epoch 94/100\n",
      "50000/50000 [==============================] - 9s 182us/step - loss: 0.3224 - acc: 0.8833 - val_loss: 2.9199 - val_acc: 0.4970\n",
      "Epoch 95/100\n",
      "50000/50000 [==============================] - 9s 185us/step - loss: 0.3139 - acc: 0.8875 - val_loss: 2.9279 - val_acc: 0.5018\n",
      "Epoch 96/100\n",
      "50000/50000 [==============================] - 9s 185us/step - loss: 0.3320 - acc: 0.8802 - val_loss: 2.8902 - val_acc: 0.4972\n",
      "Epoch 97/100\n",
      "50000/50000 [==============================] - 9s 180us/step - loss: 0.2956 - acc: 0.8936 - val_loss: 2.9142 - val_acc: 0.4968\n",
      "Epoch 98/100\n",
      "50000/50000 [==============================] - 9s 179us/step - loss: 0.2679 - acc: 0.9041 - val_loss: 2.9469 - val_acc: 0.5021\n",
      "Epoch 99/100\n",
      "50000/50000 [==============================] - 9s 182us/step - loss: 0.2887 - acc: 0.8968 - val_loss: 3.0373 - val_acc: 0.4977\n",
      "Epoch 100/100\n",
      "50000/50000 [==============================] - 9s 183us/step - loss: 0.2839 - acc: 0.8989 - val_loss: 3.0035 - val_acc: 0.4968\n"
     ]
    },
    {
     "data": {
      "text/plain": [
       "<keras.callbacks.History at 0x26295f2a3c8>"
      ]
     },
     "execution_count": 6,
     "metadata": {},
     "output_type": "execute_result"
    }
   ],
   "source": [
    "# 訓練模型並檢視驗證集的結果\n",
    "model.fit(x_train, y_train, \n",
    "          epochs=100, \n",
    "          batch_size=256, \n",
    "          validation_data=(x_test, y_test), \n",
    "          shuffle=True)"
   ]
  },
  {
   "cell_type": "code",
   "execution_count": 8,
   "metadata": {},
   "outputs": [
    {
     "data": {
      "image/png": "[encoded data removed]",
      "text/plain": [
       "<Figure size 432x288 with 1 Axes>"
      ]
     },
     "metadata": {
      "needs_background": "light"
     },
     "output_type": "display_data"
    },
    {
     "data": {
      "image/png": "[encoded data removed]",
      "text/plain": [
       "<Figure size 432x288 with 1 Axes>"
      ]
     },
     "metadata": {
      "needs_background": "light"
     },
     "output_type": "display_data"
    }
   ],
   "source": [
    "# 以視覺畫方式檢視訓練過程\n",
    "import matplotlib.pyplot as plt\n",
    "train_loss = model.history.history[\"loss\"]\n",
    "valid_loss = model.history.history[\"val_loss\"]\n",
    "\n",
    "train_acc = model.history.history[\"acc\"]\n",
    "valid_acc = model.history.history[\"val_acc\"]\n",
    "\n",
    "plt.plot(range(len(train_loss)), train_loss, label=\"train loss\")\n",
    "plt.plot(range(len(valid_loss)), valid_loss, label=\"valid loss\")\n",
    "plt.legend()\n",
    "plt.title(\"Loss\")\n",
    "plt.show()\n",
    "\n",
    "plt.plot(range(len(train_acc)), train_acc, label=\"train accuracy\")\n",
    "plt.plot(range(len(valid_acc)), valid_acc, label=\"valid accuracy\")\n",
    "plt.legend()\n",
    "plt.title(\"Accuracy\")\n",
    "plt.show()"
   ]
  },
  {
   "cell_type": "markdown",
   "metadata": {},
   "source": [
    "## 作業\n",
    "1. 請將 Epoch 加到 500 個，並觀察 learning curve 的走勢\n",
    "2. 請將 Optimizer 換成 SGD，並觀察 learning curve 的走勢"
   ]
  }
 ],
 "metadata": {
  "kernelspec": {
   "display_name": "Python 3",
   "language": "python",
   "name": "python3"
  },
  "language_info": {
   "codemirror_mode": {
    "name": "ipython",
    "version": 3
   },
   "file_extension": ".py",
   "mimetype": "text/x-python",
   "name": "python",
   "nbconvert_exporter": "python",
   "pygments_lexer": "ipython3",
   "version": "3.7.3"
  }
 },
 "nbformat": 4,
 "nbformat_minor": 2
}
