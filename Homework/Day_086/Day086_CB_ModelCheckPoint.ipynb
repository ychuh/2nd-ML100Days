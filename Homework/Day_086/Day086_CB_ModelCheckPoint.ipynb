{
 "cells": [
  {
   "cell_type": "markdown",
   "metadata": {},
   "source": [
    "## 範例重點\n",
    "* 學習如何在 keras 中加入 model checkpoint\n",
    "* 知道如何設定監控目標\n",
    "* 比較使用最佳與非最佳參數時的 performance"
   ]
  },
  {
   "cell_type": "code",
   "execution_count": 1,
   "metadata": {},
   "outputs": [
    {
     "name": "stderr",
     "output_type": "stream",
     "text": [
      "Using TensorFlow backend.\n"
     ]
    }
   ],
   "source": [
    "import os\n",
    "import keras\n",
    "\n",
    "# 本範例不需使用 GPU, 將 GPU 設定為 \"無\"\n",
    "os.environ[\"CUDA_VISIBLE_DEVICES\"] = \"\""
   ]
  },
  {
   "cell_type": "code",
   "execution_count": 2,
   "metadata": {},
   "outputs": [],
   "source": [
    "train, test = keras.datasets.cifar10.load_data()"
   ]
  },
  {
   "cell_type": "code",
   "execution_count": 3,
   "metadata": {},
   "outputs": [],
   "source": [
    "## 資料前處理\n",
    "def preproc_x(x, flatten=True):\n",
    "    x = x / 255.\n",
    "    if flatten:\n",
    "        x = x.reshape((len(x), -1))\n",
    "    return x\n",
    "\n",
    "def preproc_y(y, num_classes=10):\n",
    "    if y.shape[-1] == 1:\n",
    "        y = keras.utils.to_categorical(y, num_classes)\n",
    "    return y    "
   ]
  },
  {
   "cell_type": "code",
   "execution_count": 4,
   "metadata": {},
   "outputs": [],
   "source": [
    "x_train, y_train = train\n",
    "x_test, y_test = test\n",
    "\n",
    "# 資料前處理 - X 標準化\n",
    "x_train = preproc_x(x_train)\n",
    "x_test = preproc_x(x_test)\n",
    "\n",
    "# 資料前處理 -Y 轉成 onehot\n",
    "y_train = preproc_y(y_train)\n",
    "y_test = preproc_y(y_test)"
   ]
  },
  {
   "cell_type": "code",
   "execution_count": 5,
   "metadata": {},
   "outputs": [],
   "source": [
    "from keras.layers import BatchNormalization\n",
    "\n",
    "\"\"\"\n",
    "建立神經網路，並加入 BN layer\n",
    "\"\"\"\n",
    "def build_mlp(input_shape, output_units=10, num_neurons=[512, 256, 128]):\n",
    "    input_layer = keras.layers.Input(input_shape)\n",
    "    \n",
    "    for i, n_units in enumerate(num_neurons):\n",
    "        if i == 0:\n",
    "            x = keras.layers.Dense(units=n_units, \n",
    "                                   activation=\"relu\", \n",
    "                                   name=\"hidden_layer\"+str(i+1))(input_layer)\n",
    "            x = BatchNormalization()(x)\n",
    "        else:\n",
    "            x = keras.layers.Dense(units=n_units, \n",
    "                                   activation=\"relu\", \n",
    "                                   name=\"hidden_layer\"+str(i+1))(x)\n",
    "            x = BatchNormalization()(x)\n",
    "    \n",
    "    out = keras.layers.Dense(units=output_units, activation=\"softmax\", name=\"output\")(x)\n",
    "    \n",
    "    model = keras.models.Model(inputs=[input_layer], outputs=[out])\n",
    "    return model"
   ]
  },
  {
   "cell_type": "code",
   "execution_count": 6,
   "metadata": {},
   "outputs": [],
   "source": [
    "## 超參數設定\n",
    "LEARNING_RATE = 1e-3\n",
    "EPOCHS = 50\n",
    "BATCH_SIZE = 1024\n",
    "MOMENTUM = 0.95"
   ]
  },
  {
   "cell_type": "code",
   "execution_count": 7,
   "metadata": {},
   "outputs": [],
   "source": [
    "\"\"\"\n",
    "# 載入 Callbacks, 並將監控目標設為 validation loss, 且只存最佳參數時的模型\n",
    "\"\"\"\n",
    "from keras.callbacks import ModelCheckpoint\n",
    "\n",
    "model_ckpt = ModelCheckpoint(filepath=\"./tmp.h5\", \n",
    "                             monitor=\"val_loss\", \n",
    "                             save_best_only=True)"
   ]
  },
  {
   "cell_type": "code",
   "execution_count": 8,
   "metadata": {
    "scrolled": true
   },
   "outputs": [
    {
     "name": "stderr",
     "output_type": "stream",
     "text": [
      "WARNING: Logging before flag parsing goes to stderr.\n",
      "W0727 16:56:24.167726 13292 deprecation_wrapper.py:119] From C:\\Users\\Ychu\\Anaconda3\\lib\\site-packages\\keras\\backend\\tensorflow_backend.py:74: The name tf.get_default_graph is deprecated. Please use tf.compat.v1.get_default_graph instead.\n",
      "\n",
      "W0727 16:56:24.239732 13292 deprecation_wrapper.py:119] From C:\\Users\\Ychu\\Anaconda3\\lib\\site-packages\\keras\\backend\\tensorflow_backend.py:517: The name tf.placeholder is deprecated. Please use tf.compat.v1.placeholder instead.\n",
      "\n",
      "W0727 16:56:24.247734 13292 deprecation_wrapper.py:119] From C:\\Users\\Ychu\\Anaconda3\\lib\\site-packages\\keras\\backend\\tensorflow_backend.py:4138: The name tf.random_uniform is deprecated. Please use tf.random.uniform instead.\n",
      "\n",
      "W0727 16:56:24.410748 13292 deprecation_wrapper.py:119] From C:\\Users\\Ychu\\Anaconda3\\lib\\site-packages\\keras\\backend\\tensorflow_backend.py:133: The name tf.placeholder_with_default is deprecated. Please use tf.compat.v1.placeholder_with_default instead.\n",
      "\n",
      "W0727 16:56:25.064800 13292 deprecation_wrapper.py:119] From C:\\Users\\Ychu\\Anaconda3\\lib\\site-packages\\keras\\optimizers.py:790: The name tf.train.Optimizer is deprecated. Please use tf.compat.v1.train.Optimizer instead.\n",
      "\n",
      "W0727 16:56:25.133806 13292 deprecation_wrapper.py:119] From C:\\Users\\Ychu\\Anaconda3\\lib\\site-packages\\keras\\backend\\tensorflow_backend.py:3295: The name tf.log is deprecated. Please use tf.math.log instead.\n",
      "\n"
     ]
    },
    {
     "name": "stdout",
     "output_type": "stream",
     "text": [
      "_________________________________________________________________\n",
      "Layer (type)                 Output Shape              Param #   \n",
      "=================================================================\n",
      "input_1 (InputLayer)         (None, 3072)              0         \n",
      "_________________________________________________________________\n",
      "hidden_layer1 (Dense)        (None, 512)               1573376   \n",
      "_________________________________________________________________\n",
      "batch_normalization_1 (Batch (None, 512)               2048      \n",
      "_________________________________________________________________\n",
      "hidden_layer2 (Dense)        (None, 256)               131328    \n",
      "_________________________________________________________________\n",
      "batch_normalization_2 (Batch (None, 256)               1024      \n",
      "_________________________________________________________________\n",
      "hidden_layer3 (Dense)        (None, 128)               32896     \n",
      "_________________________________________________________________\n",
      "batch_normalization_3 (Batch (None, 128)               512       \n",
      "_________________________________________________________________\n",
      "output (Dense)               (None, 10)                1290      \n",
      "=================================================================\n",
      "Total params: 1,742,474\n",
      "Trainable params: 1,740,682\n",
      "Non-trainable params: 1,792\n",
      "_________________________________________________________________\n"
     ]
    },
    {
     "name": "stderr",
     "output_type": "stream",
     "text": [
      "W0727 16:56:25.384826 13292 deprecation.py:323] From C:\\Users\\Ychu\\Anaconda3\\lib\\site-packages\\tensorflow\\python\\ops\\math_grad.py:1250: add_dispatch_support.<locals>.wrapper (from tensorflow.python.ops.array_ops) is deprecated and will be removed in a future version.\n",
      "Instructions for updating:\n",
      "Use tf.where in 2.0, which has the same broadcast rule as np.where\n"
     ]
    },
    {
     "name": "stdout",
     "output_type": "stream",
     "text": [
      "Train on 50000 samples, validate on 10000 samples\n",
      "Epoch 1/50\n",
      "50000/50000 [==============================] - 11s 227us/step - loss: 2.2310 - acc: 0.2646 - val_loss: 2.1598 - val_acc: 0.3227\n",
      "Epoch 2/50\n",
      "50000/50000 [==============================] - 9s 184us/step - loss: 1.7422 - acc: 0.3953 - val_loss: 1.8667 - val_acc: 0.3696\n",
      "Epoch 3/50\n",
      "50000/50000 [==============================] - 9s 186us/step - loss: 1.6156 - acc: 0.4381 - val_loss: 1.6825 - val_acc: 0.4108\n",
      "Epoch 4/50\n",
      "50000/50000 [==============================] - 9s 184us/step - loss: 1.5421 - acc: 0.4623 - val_loss: 1.6431 - val_acc: 0.4271\n",
      "Epoch 5/50\n",
      "50000/50000 [==============================] - 9s 187us/step - loss: 1.4896 - acc: 0.4794 - val_loss: 1.5946 - val_acc: 0.4384\n",
      "Epoch 6/50\n",
      "50000/50000 [==============================] - 9s 183us/step - loss: 1.4431 - acc: 0.4967 - val_loss: 1.5597 - val_acc: 0.4464\n",
      "Epoch 7/50\n",
      "50000/50000 [==============================] - 9s 178us/step - loss: 1.4042 - acc: 0.5106 - val_loss: 1.5369 - val_acc: 0.4576\n",
      "Epoch 8/50\n",
      "50000/50000 [==============================] - 9s 180us/step - loss: 1.3695 - acc: 0.5240 - val_loss: 1.5272 - val_acc: 0.4637\n",
      "Epoch 9/50\n",
      "50000/50000 [==============================] - 9s 189us/step - loss: 1.3376 - acc: 0.5353 - val_loss: 1.5331 - val_acc: 0.4581\n",
      "Epoch 10/50\n",
      "50000/50000 [==============================] - 9s 185us/step - loss: 1.3089 - acc: 0.5458 - val_loss: 1.5142 - val_acc: 0.4658\n",
      "Epoch 11/50\n",
      "50000/50000 [==============================] - 9s 187us/step - loss: 1.2800 - acc: 0.5571 - val_loss: 1.5044 - val_acc: 0.4674\n",
      "Epoch 12/50\n",
      "50000/50000 [==============================] - 9s 184us/step - loss: 1.2531 - acc: 0.5663 - val_loss: 1.4839 - val_acc: 0.4738\n",
      "Epoch 13/50\n",
      "50000/50000 [==============================] - 9s 180us/step - loss: 1.2257 - acc: 0.5759 - val_loss: 1.4878 - val_acc: 0.4777\n",
      "Epoch 14/50\n",
      "50000/50000 [==============================] - 6s 115us/step - loss: 1.2014 - acc: 0.5854 - val_loss: 1.4861 - val_acc: 0.4808\n",
      "Epoch 15/50\n",
      "50000/50000 [==============================] - 6s 113us/step - loss: 1.1768 - acc: 0.5937 - val_loss: 1.4756 - val_acc: 0.4810\n",
      "Epoch 16/50\n",
      "50000/50000 [==============================] - 6s 114us/step - loss: 1.1540 - acc: 0.6032 - val_loss: 1.4769 - val_acc: 0.4837\n",
      "Epoch 17/50\n",
      "50000/50000 [==============================] - 6s 113us/step - loss: 1.1310 - acc: 0.6127 - val_loss: 1.4677 - val_acc: 0.4834\n",
      "Epoch 18/50\n",
      "50000/50000 [==============================] - 6s 113us/step - loss: 1.1082 - acc: 0.6208 - val_loss: 1.4582 - val_acc: 0.4910\n",
      "Epoch 19/50\n",
      "50000/50000 [==============================] - 6s 114us/step - loss: 1.0868 - acc: 0.6288 - val_loss: 1.4733 - val_acc: 0.4861\n",
      "Epoch 20/50\n",
      "50000/50000 [==============================] - 6s 113us/step - loss: 1.0644 - acc: 0.6375 - val_loss: 1.4526 - val_acc: 0.4886\n",
      "Epoch 21/50\n",
      "50000/50000 [==============================] - 6s 113us/step - loss: 1.0407 - acc: 0.6483 - val_loss: 1.4606 - val_acc: 0.4898\n",
      "Epoch 22/50\n",
      "50000/50000 [==============================] - 6s 114us/step - loss: 1.0186 - acc: 0.6564 - val_loss: 1.4710 - val_acc: 0.4889\n",
      "Epoch 23/50\n",
      "50000/50000 [==============================] - 6s 113us/step - loss: 0.9994 - acc: 0.6639 - val_loss: 1.4663 - val_acc: 0.4911\n",
      "Epoch 24/50\n",
      "50000/50000 [==============================] - 6s 113us/step - loss: 0.9787 - acc: 0.6716 - val_loss: 1.4949 - val_acc: 0.4854\n",
      "Epoch 25/50\n",
      "50000/50000 [==============================] - 6s 115us/step - loss: 0.9571 - acc: 0.6802 - val_loss: 1.4633 - val_acc: 0.4929\n",
      "Epoch 26/50\n",
      "50000/50000 [==============================] - 6s 113us/step - loss: 0.9370 - acc: 0.6892 - val_loss: 1.4800 - val_acc: 0.4866\n",
      "Epoch 27/50\n",
      "50000/50000 [==============================] - 6s 117us/step - loss: 0.9158 - acc: 0.6962 - val_loss: 1.4937 - val_acc: 0.4916\n",
      "Epoch 28/50\n",
      "50000/50000 [==============================] - 6s 119us/step - loss: 0.8947 - acc: 0.7030 - val_loss: 1.5037 - val_acc: 0.4835\n",
      "Epoch 29/50\n",
      "50000/50000 [==============================] - 6s 114us/step - loss: 0.8778 - acc: 0.7093 - val_loss: 1.4864 - val_acc: 0.4872\n",
      "Epoch 30/50\n",
      "50000/50000 [==============================] - 6s 113us/step - loss: 0.8569 - acc: 0.7177 - val_loss: 1.5252 - val_acc: 0.4928\n",
      "Epoch 31/50\n",
      "50000/50000 [==============================] - 6s 112us/step - loss: 0.8365 - acc: 0.7260 - val_loss: 1.5207 - val_acc: 0.4939\n",
      "Epoch 32/50\n",
      "50000/50000 [==============================] - 6s 113us/step - loss: 0.8160 - acc: 0.7347 - val_loss: 1.5193 - val_acc: 0.4929\n",
      "Epoch 33/50\n",
      "50000/50000 [==============================] - 6s 113us/step - loss: 0.7990 - acc: 0.7392 - val_loss: 1.5290 - val_acc: 0.4863\n",
      "Epoch 34/50\n",
      "50000/50000 [==============================] - 6s 113us/step - loss: 0.7789 - acc: 0.7495 - val_loss: 1.5244 - val_acc: 0.4856\n",
      "Epoch 35/50\n",
      "50000/50000 [==============================] - 6s 114us/step - loss: 0.7608 - acc: 0.7565 - val_loss: 1.5682 - val_acc: 0.4800\n",
      "Epoch 36/50\n",
      "50000/50000 [==============================] - 6s 113us/step - loss: 0.7423 - acc: 0.7624 - val_loss: 1.5423 - val_acc: 0.4857\n",
      "Epoch 37/50\n",
      "50000/50000 [==============================] - 6s 113us/step - loss: 0.7220 - acc: 0.7694 - val_loss: 1.5624 - val_acc: 0.4858\n",
      "Epoch 38/50\n",
      "50000/50000 [==============================] - 6s 113us/step - loss: 0.7028 - acc: 0.7767 - val_loss: 1.5490 - val_acc: 0.4876\n",
      "Epoch 39/50\n",
      "50000/50000 [==============================] - 6s 113us/step - loss: 0.6846 - acc: 0.7849 - val_loss: 1.5605 - val_acc: 0.4871\n",
      "Epoch 40/50\n",
      "50000/50000 [==============================] - 6s 113us/step - loss: 0.6670 - acc: 0.7926 - val_loss: 1.5880 - val_acc: 0.4828\n",
      "Epoch 41/50\n",
      "50000/50000 [==============================] - 6s 113us/step - loss: 0.6481 - acc: 0.8001 - val_loss: 1.5908 - val_acc: 0.4818\n",
      "Epoch 42/50\n",
      "50000/50000 [==============================] - 6s 113us/step - loss: 0.6302 - acc: 0.8079 - val_loss: 1.6155 - val_acc: 0.4845\n",
      "Epoch 43/50\n",
      "50000/50000 [==============================] - 6s 113us/step - loss: 0.6140 - acc: 0.8150 - val_loss: 1.6185 - val_acc: 0.4804\n",
      "Epoch 44/50\n",
      "50000/50000 [==============================] - 6s 114us/step - loss: 0.5963 - acc: 0.8210 - val_loss: 1.6581 - val_acc: 0.4780\n",
      "Epoch 45/50\n",
      "50000/50000 [==============================] - 6s 113us/step - loss: 0.5811 - acc: 0.8251 - val_loss: 1.6422 - val_acc: 0.4805\n",
      "Epoch 46/50\n",
      "50000/50000 [==============================] - 6s 114us/step - loss: 0.5618 - acc: 0.8351 - val_loss: 1.6554 - val_acc: 0.4859\n",
      "Epoch 47/50\n",
      "50000/50000 [==============================] - 6s 113us/step - loss: 0.5454 - acc: 0.8414 - val_loss: 1.6620 - val_acc: 0.4736\n",
      "Epoch 48/50\n",
      "50000/50000 [==============================] - 6s 114us/step - loss: 0.5309 - acc: 0.8468 - val_loss: 1.6700 - val_acc: 0.4804\n",
      "Epoch 49/50\n",
      "50000/50000 [==============================] - 6s 115us/step - loss: 0.5149 - acc: 0.8521 - val_loss: 1.6864 - val_acc: 0.4836\n",
      "Epoch 50/50\n",
      "50000/50000 [==============================] - 6s 115us/step - loss: 0.4985 - acc: 0.8601 - val_loss: 1.6892 - val_acc: 0.4866\n",
      "10000/10000 [==============================] - 1s 103us/step\n"
     ]
    }
   ],
   "source": [
    "model = build_mlp(input_shape=x_train.shape[1:])\n",
    "model.summary()\n",
    "optimizer = keras.optimizers.SGD(lr=LEARNING_RATE, nesterov=True, momentum=MOMENTUM)\n",
    "model.compile(loss=\"categorical_crossentropy\", metrics=[\"accuracy\"], optimizer=optimizer)\n",
    "\n",
    "model.fit(x_train, y_train, \n",
    "          epochs=EPOCHS, \n",
    "          batch_size=BATCH_SIZE, \n",
    "          validation_data=(x_test, y_test), \n",
    "          shuffle=True,\n",
    "          callbacks=[model_ckpt]\n",
    "         )\n",
    "\n",
    "# Collect results\n",
    "train_loss = model.history.history[\"loss\"]\n",
    "valid_loss = model.history.history[\"val_loss\"]\n",
    "train_acc = model.history.history[\"acc\"]\n",
    "valid_acc = model.history.history[\"val_acc\"]\n",
    "\n",
    "# Load back\n",
    "model = keras.models.load_model(\"./tmp.h5\")\n",
    "loss_loadback, acc_loadback = model.evaluate(x_test, y_test)"
   ]
  },
  {
   "cell_type": "code",
   "execution_count": 9,
   "metadata": {},
   "outputs": [
    {
     "data": {
      "image/png": "[encoded data removed]",
      "text/plain": [
       "<Figure size 432x288 with 1 Axes>"
      ]
     },
     "metadata": {
      "needs_background": "light"
     },
     "output_type": "display_data"
    },
    {
     "data": {
      "image/png": "[encoded data removed]",
      "text/plain": [
       "<Figure size 432x288 with 1 Axes>"
      ]
     },
     "metadata": {
      "needs_background": "light"
     },
     "output_type": "display_data"
    }
   ],
   "source": [
    "import matplotlib.pyplot as plt\n",
    "%matplotlib inline\n",
    "\n",
    "plt.plot(range(len(train_loss)), train_loss, label=\"train loss\")\n",
    "plt.plot(range(len(valid_loss)), valid_loss, label=\"valid loss\")\n",
    "plt.hlines(y=loss_loadback, xmin=0, xmax=len(train_loss), colors='r', linestyles='--')\n",
    "plt.legend()\n",
    "plt.title(\"Loss\")\n",
    "plt.show()\n",
    "\n",
    "plt.plot(range(len(train_acc)), train_acc, label=\"train accuracy\")\n",
    "plt.plot(range(len(valid_acc)), valid_acc, label=\"valid accuracy\")\n",
    "plt.hlines(y=acc_loadback, xmin=0, xmax=len(train_loss), colors='r', linestyles='--')\n",
    "plt.legend()\n",
    "plt.title(\"Accuracy\")\n",
    "plt.show()"
   ]
  },
  {
   "cell_type": "markdown",
   "metadata": {},
   "source": [
    "## Work\n",
    "1. 試比較 save_best_only 與否的差異\n",
    "2. 請僅存入將 save_weights_only 設定為 True, 並嘗試 reset ipynb 並將模型與權重重新建回並預測 x_test"
   ]
  }
 ],
 "metadata": {
  "kernelspec": {
   "display_name": "Python 3",
   "language": "python",
   "name": "python3"
  },
  "language_info": {
   "codemirror_mode": {
    "name": "ipython",
    "version": 3
   },
   "file_extension": ".py",
   "mimetype": "text/x-python",
   "name": "python",
   "nbconvert_exporter": "python",
   "pygments_lexer": "ipython3",
   "version": "3.7.3"
  }
 },
 "nbformat": 4,
 "nbformat_minor": 2
}
