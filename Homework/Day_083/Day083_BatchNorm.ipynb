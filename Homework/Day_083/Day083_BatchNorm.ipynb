{
 "cells": [
  {
   "cell_type": "markdown",
   "metadata": {},
   "source": [
    "## 範例重點\n",
    "* 學習如何在 keras 中加入 BatchNorm\n",
    "* 知道有無 BN 對訓練的影響\n",
    "* 比較 BN 在不同 batch size 下的效果"
   ]
  },
  {
   "cell_type": "code",
   "execution_count": 1,
   "metadata": {},
   "outputs": [
    {
     "name": "stderr",
     "output_type": "stream",
     "text": [
      "Using TensorFlow backend.\n"
     ]
    }
   ],
   "source": [
    "import os\n",
    "import keras\n",
    "\n",
    "# 本範例不需使用 GPU, 將 GPU 設定為 \"無\"\n",
    "os.environ[\"CUDA_VISIBLE_DEVICES\"] = \"\""
   ]
  },
  {
   "cell_type": "code",
   "execution_count": 2,
   "metadata": {},
   "outputs": [],
   "source": [
    "train, test = keras.datasets.cifar10.load_data()"
   ]
  },
  {
   "cell_type": "code",
   "execution_count": 3,
   "metadata": {},
   "outputs": [],
   "source": [
    "## 資料前處理\n",
    "def preproc_x(x, flatten=True):\n",
    "    x = x / 255.\n",
    "    if flatten:\n",
    "        x = x.reshape((len(x), -1))\n",
    "    return x\n",
    "\n",
    "def preproc_y(y, num_classes=10):\n",
    "    if y.shape[-1] == 1:\n",
    "        y = keras.utils.to_categorical(y, num_classes)\n",
    "    return y    "
   ]
  },
  {
   "cell_type": "code",
   "execution_count": 4,
   "metadata": {},
   "outputs": [],
   "source": [
    "x_train, y_train = train\n",
    "x_test, y_test = test\n",
    "\n",
    "# 資料前處理 - X 標準化\n",
    "x_train = preproc_x(x_train)\n",
    "x_test = preproc_x(x_test)\n",
    "\n",
    "# 資料前處理 -Y 轉成 onehot\n",
    "y_train = preproc_y(y_train)\n",
    "y_test = preproc_y(y_test)"
   ]
  },
  {
   "cell_type": "code",
   "execution_count": 5,
   "metadata": {},
   "outputs": [],
   "source": [
    "from keras.layers import BatchNormalization\n",
    "\n",
    "\"\"\"\n",
    "建立神經網路，並加入 BN layer\n",
    "\"\"\"\n",
    "def build_mlp(input_shape, output_units=10, num_neurons=[512, 256, 128]):\n",
    "    input_layer = keras.layers.Input(input_shape)\n",
    "    \n",
    "    for i, n_units in enumerate(num_neurons):\n",
    "        if i == 0:\n",
    "            x = keras.layers.Dense(units=n_units, \n",
    "                                   activation=\"relu\", \n",
    "                                   name=\"hidden_layer\"+str(i+1))(input_layer)\n",
    "            x = BatchNormalization()(x)\n",
    "        else:\n",
    "            x = keras.layers.Dense(units=n_units, \n",
    "                                   activation=\"relu\", \n",
    "                                   name=\"hidden_layer\"+str(i+1))(x)\n",
    "            x = BatchNormalization()(x)\n",
    "    \n",
    "    out = keras.layers.Dense(units=output_units, activation=\"softmax\", name=\"output\")(x)\n",
    "    \n",
    "    model = keras.models.Model(inputs=[input_layer], outputs=[out])\n",
    "    return model"
   ]
  },
  {
   "cell_type": "code",
   "execution_count": 6,
   "metadata": {},
   "outputs": [],
   "source": [
    "## 超參數設定\n",
    "LEARNING_RATE = 1e-3\n",
    "EPOCHS = 50\n",
    "BATCH_SIZE = 1024\n",
    "MOMENTUM = 0.95"
   ]
  },
  {
   "cell_type": "code",
   "execution_count": 7,
   "metadata": {
    "scrolled": true
   },
   "outputs": [
    {
     "name": "stderr",
     "output_type": "stream",
     "text": [
      "WARNING: Logging before flag parsing goes to stderr.\n",
      "W0724 20:22:07.564212  1212 deprecation_wrapper.py:119] From C:\\Users\\Ychu\\Anaconda3\\lib\\site-packages\\keras\\backend\\tensorflow_backend.py:74: The name tf.get_default_graph is deprecated. Please use tf.compat.v1.get_default_graph instead.\n",
      "\n",
      "W0724 20:22:07.591214  1212 deprecation_wrapper.py:119] From C:\\Users\\Ychu\\Anaconda3\\lib\\site-packages\\keras\\backend\\tensorflow_backend.py:517: The name tf.placeholder is deprecated. Please use tf.compat.v1.placeholder instead.\n",
      "\n",
      "W0724 20:22:07.606214  1212 deprecation_wrapper.py:119] From C:\\Users\\Ychu\\Anaconda3\\lib\\site-packages\\keras\\backend\\tensorflow_backend.py:4138: The name tf.random_uniform is deprecated. Please use tf.random.uniform instead.\n",
      "\n",
      "W0724 20:22:07.734225  1212 deprecation_wrapper.py:119] From C:\\Users\\Ychu\\Anaconda3\\lib\\site-packages\\keras\\backend\\tensorflow_backend.py:133: The name tf.placeholder_with_default is deprecated. Please use tf.compat.v1.placeholder_with_default instead.\n",
      "\n",
      "W0724 20:22:07.988245  1212 deprecation_wrapper.py:119] From C:\\Users\\Ychu\\Anaconda3\\lib\\site-packages\\keras\\optimizers.py:790: The name tf.train.Optimizer is deprecated. Please use tf.compat.v1.train.Optimizer instead.\n",
      "\n",
      "W0724 20:22:07.995248  1212 deprecation_wrapper.py:119] From C:\\Users\\Ychu\\Anaconda3\\lib\\site-packages\\keras\\backend\\tensorflow_backend.py:3295: The name tf.log is deprecated. Please use tf.math.log instead.\n",
      "\n",
      "W0724 20:22:08.077253  1212 deprecation.py:323] From C:\\Users\\Ychu\\Anaconda3\\lib\\site-packages\\tensorflow\\python\\ops\\math_grad.py:1250: add_dispatch_support.<locals>.wrapper (from tensorflow.python.ops.array_ops) is deprecated and will be removed in a future version.\n",
      "Instructions for updating:\n",
      "Use tf.where in 2.0, which has the same broadcast rule as np.where\n"
     ]
    },
    {
     "name": "stdout",
     "output_type": "stream",
     "text": [
      "_________________________________________________________________\n",
      "Layer (type)                 Output Shape              Param #   \n",
      "=================================================================\n",
      "input_1 (InputLayer)         (None, 3072)              0         \n",
      "_________________________________________________________________\n",
      "hidden_layer1 (Dense)        (None, 512)               1573376   \n",
      "_________________________________________________________________\n",
      "batch_normalization_1 (Batch (None, 512)               2048      \n",
      "_________________________________________________________________\n",
      "hidden_layer2 (Dense)        (None, 256)               131328    \n",
      "_________________________________________________________________\n",
      "batch_normalization_2 (Batch (None, 256)               1024      \n",
      "_________________________________________________________________\n",
      "hidden_layer3 (Dense)        (None, 128)               32896     \n",
      "_________________________________________________________________\n",
      "batch_normalization_3 (Batch (None, 128)               512       \n",
      "_________________________________________________________________\n",
      "output (Dense)               (None, 10)                1290      \n",
      "=================================================================\n",
      "Total params: 1,742,474\n",
      "Trainable params: 1,740,682\n",
      "Non-trainable params: 1,792\n",
      "_________________________________________________________________\n",
      "Train on 50000 samples, validate on 10000 samples\n",
      "Epoch 1/50\n",
      "50000/50000 [==============================] - 7s 141us/step - loss: 2.2150 - acc: 0.2696 - val_loss: 2.0905 - val_acc: 0.3295\n",
      "Epoch 2/50\n",
      "50000/50000 [==============================] - 6s 122us/step - loss: 1.7267 - acc: 0.3997 - val_loss: 1.8084 - val_acc: 0.3739\n",
      "Epoch 3/50\n",
      "50000/50000 [==============================] - 6s 116us/step - loss: 1.6051 - acc: 0.4389 - val_loss: 1.6780 - val_acc: 0.4114\n",
      "Epoch 4/50\n",
      "50000/50000 [==============================] - 6s 115us/step - loss: 1.5360 - acc: 0.4620 - val_loss: 1.6139 - val_acc: 0.4324\n",
      "Epoch 5/50\n",
      "50000/50000 [==============================] - 6s 115us/step - loss: 1.4825 - acc: 0.4801 - val_loss: 1.5828 - val_acc: 0.4370\n",
      "Epoch 6/50\n",
      "50000/50000 [==============================] - 6s 115us/step - loss: 1.4383 - acc: 0.4957 - val_loss: 1.5713 - val_acc: 0.4442\n",
      "Epoch 7/50\n",
      "50000/50000 [==============================] - 6s 114us/step - loss: 1.3985 - acc: 0.5120 - val_loss: 1.5312 - val_acc: 0.4565\n",
      "Epoch 8/50\n",
      "50000/50000 [==============================] - 6s 114us/step - loss: 1.3635 - acc: 0.5225 - val_loss: 1.5291 - val_acc: 0.4606\n",
      "Epoch 9/50\n",
      "50000/50000 [==============================] - 6s 116us/step - loss: 1.3325 - acc: 0.5358 - val_loss: 1.5077 - val_acc: 0.4665\n",
      "Epoch 10/50\n",
      "50000/50000 [==============================] - 6s 114us/step - loss: 1.3021 - acc: 0.5462 - val_loss: 1.5007 - val_acc: 0.4678\n",
      "Epoch 11/50\n",
      "50000/50000 [==============================] - 6s 114us/step - loss: 1.2745 - acc: 0.5550 - val_loss: 1.4906 - val_acc: 0.4713\n",
      "Epoch 12/50\n",
      "50000/50000 [==============================] - 6s 115us/step - loss: 1.2465 - acc: 0.5647 - val_loss: 1.4785 - val_acc: 0.4766\n",
      "Epoch 13/50\n",
      "50000/50000 [==============================] - 6s 116us/step - loss: 1.2204 - acc: 0.5762 - val_loss: 1.4738 - val_acc: 0.4763\n",
      "Epoch 14/50\n",
      "50000/50000 [==============================] - 6s 125us/step - loss: 1.1955 - acc: 0.5873 - val_loss: 1.4701 - val_acc: 0.4801\n",
      "Epoch 15/50\n",
      "50000/50000 [==============================] - 6s 117us/step - loss: 1.1716 - acc: 0.5959 - val_loss: 1.4752 - val_acc: 0.4728\n",
      "Epoch 16/50\n",
      "50000/50000 [==============================] - 6s 113us/step - loss: 1.1470 - acc: 0.6044 - val_loss: 1.4595 - val_acc: 0.4791\n",
      "Epoch 17/50\n",
      "50000/50000 [==============================] - 6s 112us/step - loss: 1.1254 - acc: 0.6119 - val_loss: 1.4511 - val_acc: 0.4860\n",
      "Epoch 18/50\n",
      "50000/50000 [==============================] - 6s 113us/step - loss: 1.1029 - acc: 0.6193 - val_loss: 1.4629 - val_acc: 0.4856\n",
      "Epoch 19/50\n",
      "50000/50000 [==============================] - 6s 114us/step - loss: 1.0792 - acc: 0.6295 - val_loss: 1.4605 - val_acc: 0.4836\n",
      "Epoch 20/50\n",
      "50000/50000 [==============================] - 6s 123us/step - loss: 1.0576 - acc: 0.6379 - val_loss: 1.4586 - val_acc: 0.4915\n",
      "Epoch 21/50\n",
      "50000/50000 [==============================] - 6s 114us/step - loss: 1.0367 - acc: 0.6450 - val_loss: 1.4478 - val_acc: 0.4940\n",
      "Epoch 22/50\n",
      "50000/50000 [==============================] - 6s 111us/step - loss: 1.0140 - acc: 0.6549 - val_loss: 1.4474 - val_acc: 0.4983\n",
      "Epoch 23/50\n",
      "50000/50000 [==============================] - 6s 114us/step - loss: 0.9951 - acc: 0.6612 - val_loss: 1.4569 - val_acc: 0.4911\n",
      "Epoch 24/50\n",
      "50000/50000 [==============================] - 6s 114us/step - loss: 0.9728 - acc: 0.6693 - val_loss: 1.4626 - val_acc: 0.4858\n",
      "Epoch 25/50\n",
      "50000/50000 [==============================] - 6s 112us/step - loss: 0.9505 - acc: 0.6777 - val_loss: 1.4563 - val_acc: 0.4937\n",
      "Epoch 26/50\n",
      "50000/50000 [==============================] - 6s 116us/step - loss: 0.9316 - acc: 0.6858 - val_loss: 1.4632 - val_acc: 0.4914\n",
      "Epoch 27/50\n",
      "50000/50000 [==============================] - 6s 126us/step - loss: 0.9125 - acc: 0.6918 - val_loss: 1.4680 - val_acc: 0.4929\n",
      "Epoch 28/50\n",
      "50000/50000 [==============================] - 6s 120us/step - loss: 0.8918 - acc: 0.7011 - val_loss: 1.4800 - val_acc: 0.4923\n",
      "Epoch 29/50\n",
      "50000/50000 [==============================] - 6s 117us/step - loss: 0.8714 - acc: 0.7088 - val_loss: 1.4722 - val_acc: 0.4981\n",
      "Epoch 30/50\n",
      "50000/50000 [==============================] - 6s 115us/step - loss: 0.8511 - acc: 0.7179 - val_loss: 1.4829 - val_acc: 0.4909\n",
      "Epoch 31/50\n",
      "50000/50000 [==============================] - 6s 121us/step - loss: 0.8326 - acc: 0.7244 - val_loss: 1.4927 - val_acc: 0.4969\n",
      "Epoch 32/50\n",
      "50000/50000 [==============================] - 6s 116us/step - loss: 0.8119 - acc: 0.7331 - val_loss: 1.4875 - val_acc: 0.4937\n",
      "Epoch 33/50\n",
      "50000/50000 [==============================] - 6s 116us/step - loss: 0.7936 - acc: 0.7424 - val_loss: 1.4982 - val_acc: 0.4930\n",
      "Epoch 34/50\n",
      "50000/50000 [==============================] - 6s 118us/step - loss: 0.7734 - acc: 0.7479 - val_loss: 1.5055 - val_acc: 0.4862\n",
      "Epoch 35/50\n",
      "50000/50000 [==============================] - 6s 116us/step - loss: 0.7547 - acc: 0.7554 - val_loss: 1.4988 - val_acc: 0.4956\n",
      "Epoch 36/50\n",
      "50000/50000 [==============================] - 6s 114us/step - loss: 0.7366 - acc: 0.7634 - val_loss: 1.5091 - val_acc: 0.4956\n",
      "Epoch 37/50\n",
      "50000/50000 [==============================] - 6s 119us/step - loss: 0.7162 - acc: 0.7708 - val_loss: 1.5264 - val_acc: 0.4886\n",
      "Epoch 38/50\n",
      "50000/50000 [==============================] - 6s 118us/step - loss: 0.6988 - acc: 0.7789 - val_loss: 1.5396 - val_acc: 0.4917\n",
      "Epoch 39/50\n",
      "50000/50000 [==============================] - 6s 124us/step - loss: 0.6811 - acc: 0.7868 - val_loss: 1.5566 - val_acc: 0.4945\n",
      "Epoch 40/50\n",
      "50000/50000 [==============================] - 6s 119us/step - loss: 0.6623 - acc: 0.7945 - val_loss: 1.5641 - val_acc: 0.4963\n",
      "Epoch 41/50\n",
      "50000/50000 [==============================] - 6s 117us/step - loss: 0.6425 - acc: 0.8018 - val_loss: 1.5654 - val_acc: 0.4928\n",
      "Epoch 42/50\n",
      "50000/50000 [==============================] - 6s 119us/step - loss: 0.6275 - acc: 0.8075 - val_loss: 1.5710 - val_acc: 0.4925\n",
      "Epoch 43/50\n",
      "50000/50000 [==============================] - 6s 116us/step - loss: 0.6087 - acc: 0.8142 - val_loss: 1.5894 - val_acc: 0.4963\n",
      "Epoch 44/50\n",
      "50000/50000 [==============================] - 6s 120us/step - loss: 0.5926 - acc: 0.8223 - val_loss: 1.5984 - val_acc: 0.4902\n",
      "Epoch 45/50\n",
      "50000/50000 [==============================] - 6s 120us/step - loss: 0.5737 - acc: 0.8298 - val_loss: 1.6117 - val_acc: 0.4917\n",
      "Epoch 46/50\n",
      "50000/50000 [==============================] - 6s 116us/step - loss: 0.5576 - acc: 0.8339 - val_loss: 1.6643 - val_acc: 0.4769\n",
      "Epoch 47/50\n",
      "50000/50000 [==============================] - 6s 117us/step - loss: 0.5431 - acc: 0.8419 - val_loss: 1.6394 - val_acc: 0.4953\n",
      "Epoch 48/50\n",
      "50000/50000 [==============================] - 6s 119us/step - loss: 0.5250 - acc: 0.8480 - val_loss: 1.6489 - val_acc: 0.4888\n",
      "Epoch 49/50\n"
     ]
    },
    {
     "name": "stdout",
     "output_type": "stream",
     "text": [
      "50000/50000 [==============================] - 6s 116us/step - loss: 0.5097 - acc: 0.8535 - val_loss: 1.6632 - val_acc: 0.4928\n",
      "Epoch 50/50\n",
      "50000/50000 [==============================] - 6s 120us/step - loss: 0.4927 - acc: 0.8616 - val_loss: 1.6550 - val_acc: 0.4938\n"
     ]
    }
   ],
   "source": [
    "model = build_mlp(input_shape=x_train.shape[1:])\n",
    "model.summary()\n",
    "optimizer = keras.optimizers.SGD(lr=LEARNING_RATE, nesterov=True, momentum=MOMENTUM)\n",
    "model.compile(loss=\"categorical_crossentropy\", metrics=[\"accuracy\"], optimizer=optimizer)\n",
    "\n",
    "model.fit(x_train, y_train, \n",
    "          epochs=EPOCHS, \n",
    "          batch_size=BATCH_SIZE, \n",
    "          validation_data=(x_test, y_test), \n",
    "          shuffle=True)\n",
    "\n",
    "# Collect results\n",
    "train_loss = model.history.history[\"loss\"]\n",
    "valid_loss = model.history.history[\"val_loss\"]\n",
    "train_acc = model.history.history[\"acc\"]\n",
    "valid_acc = model.history.history[\"val_acc\"]"
   ]
  },
  {
   "cell_type": "code",
   "execution_count": 8,
   "metadata": {},
   "outputs": [
    {
     "data": {
      "image/png": "[encoded data removed]",
      "text/plain": [
       "<Figure size 432x288 with 1 Axes>"
      ]
     },
     "metadata": {
      "needs_background": "light"
     },
     "output_type": "display_data"
    },
    {
     "data": {
      "image/png": "[encoded data removed]",
      "text/plain": [
       "<Figure size 432x288 with 1 Axes>"
      ]
     },
     "metadata": {
      "needs_background": "light"
     },
     "output_type": "display_data"
    }
   ],
   "source": [
    "import matplotlib.pyplot as plt\n",
    "%matplotlib inline\n",
    "\n",
    "plt.plot(range(len(train_loss)), train_loss, label=\"train loss\")\n",
    "plt.plot(range(len(valid_loss)), valid_loss, label=\"valid loss\")\n",
    "plt.legend()\n",
    "plt.title(\"Loss\")\n",
    "plt.show()\n",
    "\n",
    "plt.plot(range(len(train_acc)), train_acc, label=\"train accuracy\")\n",
    "plt.plot(range(len(valid_acc)), valid_acc, label=\"valid accuracy\")\n",
    "plt.legend()\n",
    "plt.title(\"Accuracy\")\n",
    "plt.show()"
   ]
  },
  {
   "cell_type": "markdown",
   "metadata": {},
   "source": [
    "## Work\n",
    "1. 試比較有 BN 在 Batch_size = 2, 16, 32, 128, 256 下的差異\n",
    "2. 請嘗試將 BN 放在 Activation 之前，並比較訓練結果\n",
    "3. 請於 BN 放在 Input Layer 後，並比較結果"
   ]
  }
 ],
 "metadata": {
  "kernelspec": {
   "display_name": "Python 3",
   "language": "python",
   "name": "python3"
  },
  "language_info": {
   "codemirror_mode": {
    "name": "ipython",
    "version": 3
   },
   "file_extension": ".py",
   "mimetype": "text/x-python",
   "name": "python",
   "nbconvert_exporter": "python",
   "pygments_lexer": "ipython3",
   "version": "3.7.3"
  }
 },
 "nbformat": 4,
 "nbformat_minor": 2
}
