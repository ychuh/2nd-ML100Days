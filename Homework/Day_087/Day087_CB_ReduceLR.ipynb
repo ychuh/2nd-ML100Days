{
 "cells": [
  {
   "cell_type": "markdown",
   "metadata": {},
   "source": [
    "## 範例重點\n",
    "* 學習如何在 keras 中加入 reduce learning rate\n",
    "* 知道如何設定 reduce_lr 的監控目標\n",
    "* 比較使用有無使用 reduce_lr 時的 performance"
   ]
  },
  {
   "cell_type": "code",
   "execution_count": 1,
   "metadata": {},
   "outputs": [
    {
     "name": "stderr",
     "output_type": "stream",
     "text": [
      "Using TensorFlow backend.\n"
     ]
    }
   ],
   "source": [
    "import os\n",
    "import keras\n",
    "\n",
    "# 本範例不需使用 GPU, 將 GPU 設定為 \"無\"\n",
    "os.environ[\"CUDA_VISIBLE_DEVICES\"] = \"\""
   ]
  },
  {
   "cell_type": "code",
   "execution_count": 2,
   "metadata": {},
   "outputs": [],
   "source": [
    "train, test = keras.datasets.cifar10.load_data()"
   ]
  },
  {
   "cell_type": "code",
   "execution_count": 3,
   "metadata": {},
   "outputs": [],
   "source": [
    "## 資料前處理\n",
    "def preproc_x(x, flatten=True):\n",
    "    x = x / 255.\n",
    "    if flatten:\n",
    "        x = x.reshape((len(x), -1))\n",
    "    return x\n",
    "\n",
    "def preproc_y(y, num_classes=10):\n",
    "    if y.shape[-1] == 1:\n",
    "        y = keras.utils.to_categorical(y, num_classes)\n",
    "    return y    "
   ]
  },
  {
   "cell_type": "code",
   "execution_count": 4,
   "metadata": {},
   "outputs": [],
   "source": [
    "x_train, y_train = train\n",
    "x_test, y_test = test\n",
    "\n",
    "# 資料前處理 - X 標準化\n",
    "x_train = preproc_x(x_train)\n",
    "x_test = preproc_x(x_test)\n",
    "\n",
    "# 資料前處理 -Y 轉成 onehot\n",
    "y_train = preproc_y(y_train)\n",
    "y_test = preproc_y(y_test)"
   ]
  },
  {
   "cell_type": "code",
   "execution_count": 5,
   "metadata": {},
   "outputs": [],
   "source": [
    "from keras.layers import BatchNormalization\n",
    "\n",
    "\"\"\"\n",
    "建立神經網路，並加入 BN layer\n",
    "\"\"\"\n",
    "def build_mlp(input_shape, output_units=10, num_neurons=[512, 256, 128]):\n",
    "    input_layer = keras.layers.Input(input_shape)\n",
    "    \n",
    "    for i, n_units in enumerate(num_neurons):\n",
    "        if i == 0:\n",
    "            x = keras.layers.Dense(units=n_units, \n",
    "                                   activation=\"relu\", \n",
    "                                   name=\"hidden_layer\"+str(i+1))(input_layer)\n",
    "            x = BatchNormalization()(x)\n",
    "        else:\n",
    "            x = keras.layers.Dense(units=n_units, \n",
    "                                   activation=\"relu\", \n",
    "                                   name=\"hidden_layer\"+str(i+1))(x)\n",
    "            x = BatchNormalization()(x)\n",
    "    \n",
    "    out = keras.layers.Dense(units=output_units, activation=\"softmax\", name=\"output\")(x)\n",
    "    \n",
    "    model = keras.models.Model(inputs=[input_layer], outputs=[out])\n",
    "    return model"
   ]
  },
  {
   "cell_type": "code",
   "execution_count": 6,
   "metadata": {},
   "outputs": [],
   "source": [
    "## 超參數設定\n",
    "LEARNING_RATE = 1e-3\n",
    "EPOCHS = 50\n",
    "BATCH_SIZE = 1024\n",
    "MOMENTUM = 0.95"
   ]
  },
  {
   "cell_type": "code",
   "execution_count": 7,
   "metadata": {},
   "outputs": [],
   "source": [
    "\"\"\"\n",
    "# 載入 Callbacks, 並設定監控目標為 validation loss\n",
    "\"\"\"\n",
    "from keras.callbacks import ReduceLROnPlateau\n",
    "\n",
    "reduce_lr = ReduceLROnPlateau(factor=0.5, \n",
    "                              min_lr=1e-12, \n",
    "                              monitor='val_loss', \n",
    "                              patience=5, \n",
    "                              verbose=1)"
   ]
  },
  {
   "cell_type": "code",
   "execution_count": 8,
   "metadata": {
    "scrolled": true
   },
   "outputs": [
    {
     "name": "stderr",
     "output_type": "stream",
     "text": [
      "WARNING: Logging before flag parsing goes to stderr.\n",
      "W0727 18:49:18.897847 12888 deprecation_wrapper.py:119] From C:\\Users\\Ychu\\Anaconda3\\lib\\site-packages\\keras\\backend\\tensorflow_backend.py:74: The name tf.get_default_graph is deprecated. Please use tf.compat.v1.get_default_graph instead.\n",
      "\n",
      "W0727 18:49:18.920851 12888 deprecation_wrapper.py:119] From C:\\Users\\Ychu\\Anaconda3\\lib\\site-packages\\keras\\backend\\tensorflow_backend.py:517: The name tf.placeholder is deprecated. Please use tf.compat.v1.placeholder instead.\n",
      "\n",
      "W0727 18:49:18.924852 12888 deprecation_wrapper.py:119] From C:\\Users\\Ychu\\Anaconda3\\lib\\site-packages\\keras\\backend\\tensorflow_backend.py:4138: The name tf.random_uniform is deprecated. Please use tf.random.uniform instead.\n",
      "\n",
      "W0727 18:49:19.003856 12888 deprecation_wrapper.py:119] From C:\\Users\\Ychu\\Anaconda3\\lib\\site-packages\\keras\\backend\\tensorflow_backend.py:133: The name tf.placeholder_with_default is deprecated. Please use tf.compat.v1.placeholder_with_default instead.\n",
      "\n",
      "W0727 18:49:19.250876 12888 deprecation_wrapper.py:119] From C:\\Users\\Ychu\\Anaconda3\\lib\\site-packages\\keras\\optimizers.py:790: The name tf.train.Optimizer is deprecated. Please use tf.compat.v1.train.Optimizer instead.\n",
      "\n",
      "W0727 18:49:19.259878 12888 deprecation_wrapper.py:119] From C:\\Users\\Ychu\\Anaconda3\\lib\\site-packages\\keras\\backend\\tensorflow_backend.py:3295: The name tf.log is deprecated. Please use tf.math.log instead.\n",
      "\n",
      "W0727 18:49:19.347885 12888 deprecation.py:323] From C:\\Users\\Ychu\\Anaconda3\\lib\\site-packages\\tensorflow\\python\\ops\\math_grad.py:1250: add_dispatch_support.<locals>.wrapper (from tensorflow.python.ops.array_ops) is deprecated and will be removed in a future version.\n",
      "Instructions for updating:\n",
      "Use tf.where in 2.0, which has the same broadcast rule as np.where\n"
     ]
    },
    {
     "name": "stdout",
     "output_type": "stream",
     "text": [
      "_________________________________________________________________\n",
      "Layer (type)                 Output Shape              Param #   \n",
      "=================================================================\n",
      "input_1 (InputLayer)         (None, 3072)              0         \n",
      "_________________________________________________________________\n",
      "hidden_layer1 (Dense)        (None, 512)               1573376   \n",
      "_________________________________________________________________\n",
      "batch_normalization_1 (Batch (None, 512)               2048      \n",
      "_________________________________________________________________\n",
      "hidden_layer2 (Dense)        (None, 256)               131328    \n",
      "_________________________________________________________________\n",
      "batch_normalization_2 (Batch (None, 256)               1024      \n",
      "_________________________________________________________________\n",
      "hidden_layer3 (Dense)        (None, 128)               32896     \n",
      "_________________________________________________________________\n",
      "batch_normalization_3 (Batch (None, 128)               512       \n",
      "_________________________________________________________________\n",
      "output (Dense)               (None, 10)                1290      \n",
      "=================================================================\n",
      "Total params: 1,742,474\n",
      "Trainable params: 1,740,682\n",
      "Non-trainable params: 1,792\n",
      "_________________________________________________________________\n",
      "Train on 50000 samples, validate on 10000 samples\n",
      "Epoch 1/50\n",
      "50000/50000 [==============================] - 7s 135us/step - loss: 2.2013 - acc: 0.2697 - val_loss: 2.0868 - val_acc: 0.3286\n",
      "Epoch 2/50\n",
      "50000/50000 [==============================] - 6s 111us/step - loss: 1.7341 - acc: 0.3934 - val_loss: 1.8260 - val_acc: 0.3715\n",
      "Epoch 3/50\n",
      "50000/50000 [==============================] - 6s 111us/step - loss: 1.6111 - acc: 0.4348 - val_loss: 1.6878 - val_acc: 0.4056\n",
      "Epoch 4/50\n",
      "50000/50000 [==============================] - 6s 110us/step - loss: 1.5369 - acc: 0.4601 - val_loss: 1.6287 - val_acc: 0.4320\n",
      "Epoch 5/50\n",
      "50000/50000 [==============================] - 5s 110us/step - loss: 1.4827 - acc: 0.4788 - val_loss: 1.6041 - val_acc: 0.4387\n",
      "Epoch 6/50\n",
      "50000/50000 [==============================] - 5s 110us/step - loss: 1.4370 - acc: 0.4965 - val_loss: 1.5597 - val_acc: 0.4540\n",
      "Epoch 7/50\n",
      "50000/50000 [==============================] - 5s 109us/step - loss: 1.3964 - acc: 0.5107 - val_loss: 1.5410 - val_acc: 0.4526\n",
      "Epoch 8/50\n",
      "50000/50000 [==============================] - 5s 110us/step - loss: 1.3620 - acc: 0.5213 - val_loss: 1.5279 - val_acc: 0.4636\n",
      "Epoch 9/50\n",
      "50000/50000 [==============================] - 5s 110us/step - loss: 1.3291 - acc: 0.5353 - val_loss: 1.5077 - val_acc: 0.4687\n",
      "Epoch 10/50\n",
      "50000/50000 [==============================] - 6s 111us/step - loss: 1.2984 - acc: 0.5463 - val_loss: 1.4954 - val_acc: 0.4707\n",
      "Epoch 11/50\n",
      "50000/50000 [==============================] - 5s 110us/step - loss: 1.2700 - acc: 0.5563 - val_loss: 1.4873 - val_acc: 0.4716\n",
      "Epoch 12/50\n",
      "50000/50000 [==============================] - 6s 111us/step - loss: 1.2437 - acc: 0.5669 - val_loss: 1.4859 - val_acc: 0.4719\n",
      "Epoch 13/50\n",
      "50000/50000 [==============================] - 6s 112us/step - loss: 1.2177 - acc: 0.5778 - val_loss: 1.4786 - val_acc: 0.4784\n",
      "Epoch 14/50\n",
      "50000/50000 [==============================] - 6s 111us/step - loss: 1.1947 - acc: 0.5850 - val_loss: 1.4662 - val_acc: 0.4848\n",
      "Epoch 15/50\n",
      "50000/50000 [==============================] - 6s 110us/step - loss: 1.1702 - acc: 0.5969 - val_loss: 1.4638 - val_acc: 0.4815\n",
      "Epoch 16/50\n",
      "50000/50000 [==============================] - 6s 110us/step - loss: 1.1453 - acc: 0.6054 - val_loss: 1.4578 - val_acc: 0.4858\n",
      "Epoch 17/50\n",
      "50000/50000 [==============================] - 6s 110us/step - loss: 1.1237 - acc: 0.6134 - val_loss: 1.4619 - val_acc: 0.4819\n",
      "Epoch 18/50\n",
      "50000/50000 [==============================] - 6s 112us/step - loss: 1.1008 - acc: 0.6219 - val_loss: 1.4734 - val_acc: 0.4867\n",
      "Epoch 19/50\n",
      "50000/50000 [==============================] - 5s 110us/step - loss: 1.0799 - acc: 0.6297 - val_loss: 1.4490 - val_acc: 0.4930\n",
      "Epoch 20/50\n",
      "50000/50000 [==============================] - 6s 111us/step - loss: 1.0568 - acc: 0.6403 - val_loss: 1.4544 - val_acc: 0.4883\n",
      "Epoch 21/50\n",
      "50000/50000 [==============================] - 6s 111us/step - loss: 1.0341 - acc: 0.6485 - val_loss: 1.4357 - val_acc: 0.4984\n",
      "Epoch 22/50\n",
      "50000/50000 [==============================] - 6s 111us/step - loss: 1.0138 - acc: 0.6551 - val_loss: 1.4481 - val_acc: 0.4943\n",
      "Epoch 23/50\n",
      "50000/50000 [==============================] - 5s 109us/step - loss: 0.9939 - acc: 0.6620 - val_loss: 1.4482 - val_acc: 0.4950\n",
      "Epoch 24/50\n",
      "50000/50000 [==============================] - 6s 110us/step - loss: 0.9724 - acc: 0.6727 - val_loss: 1.4640 - val_acc: 0.4914\n",
      "Epoch 25/50\n",
      "50000/50000 [==============================] - 6s 111us/step - loss: 0.9505 - acc: 0.6817 - val_loss: 1.4601 - val_acc: 0.5017\n",
      "Epoch 26/50\n",
      "50000/50000 [==============================] - 6s 111us/step - loss: 0.9301 - acc: 0.6881 - val_loss: 1.4614 - val_acc: 0.4959\n",
      "\n",
      "Epoch 00026: ReduceLROnPlateau reducing learning rate to 0.0005000000237487257.\n",
      "Epoch 27/50\n",
      "50000/50000 [==============================] - 5s 110us/step - loss: 0.9031 - acc: 0.7009 - val_loss: 1.4563 - val_acc: 0.4972\n",
      "Epoch 28/50\n",
      "50000/50000 [==============================] - 6s 111us/step - loss: 0.8839 - acc: 0.7076 - val_loss: 1.4562 - val_acc: 0.5004\n",
      "Epoch 29/50\n",
      "50000/50000 [==============================] - 6s 111us/step - loss: 0.8712 - acc: 0.7138 - val_loss: 1.4565 - val_acc: 0.5011\n",
      "Epoch 30/50\n",
      "50000/50000 [==============================] - 6s 112us/step - loss: 0.8597 - acc: 0.7202 - val_loss: 1.4541 - val_acc: 0.4978\n",
      "Epoch 31/50\n",
      "50000/50000 [==============================] - 6s 112us/step - loss: 0.8488 - acc: 0.7216 - val_loss: 1.4647 - val_acc: 0.4984\n",
      "\n",
      "Epoch 00031: ReduceLROnPlateau reducing learning rate to 0.0002500000118743628.\n",
      "Epoch 32/50\n",
      "50000/50000 [==============================] - 6s 111us/step - loss: 0.8346 - acc: 0.7303 - val_loss: 1.4581 - val_acc: 0.5015\n",
      "Epoch 33/50\n",
      "50000/50000 [==============================] - 6s 111us/step - loss: 0.8235 - acc: 0.7343 - val_loss: 1.4633 - val_acc: 0.5016\n",
      "Epoch 34/50\n",
      "50000/50000 [==============================] - 6s 111us/step - loss: 0.8176 - acc: 0.7376 - val_loss: 1.4641 - val_acc: 0.5049\n",
      "Epoch 35/50\n",
      "50000/50000 [==============================] - 6s 111us/step - loss: 0.8121 - acc: 0.7393 - val_loss: 1.4687 - val_acc: 0.5030\n",
      "Epoch 36/50\n",
      "50000/50000 [==============================] - 6s 114us/step - loss: 0.8055 - acc: 0.7405 - val_loss: 1.4708 - val_acc: 0.5003\n",
      "\n",
      "Epoch 00036: ReduceLROnPlateau reducing learning rate to 0.0001250000059371814.\n",
      "Epoch 37/50\n",
      "50000/50000 [==============================] - 6s 111us/step - loss: 0.7988 - acc: 0.7428 - val_loss: 1.4646 - val_acc: 0.5038\n",
      "Epoch 38/50\n",
      "50000/50000 [==============================] - 6s 113us/step - loss: 0.7928 - acc: 0.7467 - val_loss: 1.4675 - val_acc: 0.5007\n",
      "Epoch 39/50\n",
      "50000/50000 [==============================] - 6s 112us/step - loss: 0.7900 - acc: 0.7479 - val_loss: 1.4696 - val_acc: 0.5024\n",
      "Epoch 40/50\n",
      "50000/50000 [==============================] - 6s 112us/step - loss: 0.7869 - acc: 0.7495 - val_loss: 1.4697 - val_acc: 0.5027\n",
      "Epoch 41/50\n",
      "50000/50000 [==============================] - 6s 112us/step - loss: 0.7836 - acc: 0.7510 - val_loss: 1.4712 - val_acc: 0.5028\n",
      "\n",
      "Epoch 00041: ReduceLROnPlateau reducing learning rate to 6.25000029685907e-05.\n",
      "Epoch 42/50\n",
      "50000/50000 [==============================] - 6s 112us/step - loss: 0.7796 - acc: 0.7511 - val_loss: 1.4709 - val_acc: 0.5004\n",
      "Epoch 43/50\n",
      "50000/50000 [==============================] - 6s 111us/step - loss: 0.7762 - acc: 0.7541 - val_loss: 1.4707 - val_acc: 0.5017\n",
      "Epoch 44/50\n",
      "50000/50000 [==============================] - 6s 112us/step - loss: 0.7752 - acc: 0.7555 - val_loss: 1.4713 - val_acc: 0.5008\n",
      "Epoch 45/50\n",
      "50000/50000 [==============================] - 6s 112us/step - loss: 0.7735 - acc: 0.7552 - val_loss: 1.4725 - val_acc: 0.5014\n",
      "Epoch 46/50\n",
      "50000/50000 [==============================] - 6s 112us/step - loss: 0.7725 - acc: 0.7557 - val_loss: 1.4728 - val_acc: 0.5016\n",
      "\n",
      "Epoch 00046: ReduceLROnPlateau reducing learning rate to 3.125000148429535e-05.\n",
      "Epoch 47/50\n"
     ]
    },
    {
     "name": "stdout",
     "output_type": "stream",
     "text": [
      "50000/50000 [==============================] - 6s 112us/step - loss: 0.7701 - acc: 0.7563 - val_loss: 1.4723 - val_acc: 0.5014\n",
      "Epoch 48/50\n",
      "50000/50000 [==============================] - 6s 113us/step - loss: 0.7692 - acc: 0.7575 - val_loss: 1.4740 - val_acc: 0.5023\n",
      "Epoch 49/50\n",
      "50000/50000 [==============================] - 6s 113us/step - loss: 0.7681 - acc: 0.7571 - val_loss: 1.4742 - val_acc: 0.5005\n",
      "Epoch 50/50\n",
      "50000/50000 [==============================] - 6s 112us/step - loss: 0.7675 - acc: 0.7571 - val_loss: 1.4746 - val_acc: 0.5025\n"
     ]
    }
   ],
   "source": [
    "model = build_mlp(input_shape=x_train.shape[1:])\n",
    "model.summary()\n",
    "optimizer = keras.optimizers.SGD(lr=LEARNING_RATE, nesterov=True, momentum=MOMENTUM)\n",
    "model.compile(loss=\"categorical_crossentropy\", metrics=[\"accuracy\"], optimizer=optimizer)\n",
    "\n",
    "model.fit(x_train, y_train, \n",
    "          epochs=EPOCHS, \n",
    "          batch_size=BATCH_SIZE, \n",
    "          validation_data=(x_test, y_test), \n",
    "          shuffle=True,\n",
    "          callbacks=[reduce_lr]\n",
    "         )\n",
    "\n",
    "# Collect results\n",
    "train_loss = model.history.history[\"loss\"]\n",
    "valid_loss = model.history.history[\"val_loss\"]\n",
    "train_acc = model.history.history[\"acc\"]\n",
    "valid_acc = model.history.history[\"val_acc\"]"
   ]
  },
  {
   "cell_type": "code",
   "execution_count": 9,
   "metadata": {},
   "outputs": [
    {
     "data": {
      "image/png": "[encoded data removed]",
      "text/plain": [
       "<Figure size 432x288 with 1 Axes>"
      ]
     },
     "metadata": {
      "needs_background": "light"
     },
     "output_type": "display_data"
    },
    {
     "data": {
      "image/png": "[encoded data removed]",
      "text/plain": [
       "<Figure size 432x288 with 1 Axes>"
      ]
     },
     "metadata": {
      "needs_background": "light"
     },
     "output_type": "display_data"
    }
   ],
   "source": [
    "import matplotlib.pyplot as plt\n",
    "%matplotlib inline\n",
    "\n",
    "plt.plot(range(len(train_loss)), train_loss, label=\"train loss\")\n",
    "plt.plot(range(len(valid_loss)), valid_loss, label=\"valid loss\")\n",
    "plt.legend()\n",
    "plt.title(\"Loss\")\n",
    "plt.show()\n",
    "\n",
    "plt.plot(range(len(train_acc)), train_acc, label=\"train accuracy\")\n",
    "plt.plot(range(len(valid_acc)), valid_acc, label=\"valid accuracy\")\n",
    "plt.legend()\n",
    "plt.title(\"Accuracy\")\n",
    "plt.show()"
   ]
  },
  {
   "cell_type": "markdown",
   "metadata": {},
   "source": [
    "## Work\n",
    "1. 請改變 reduce_lr 的 patience 和 factor 並比較不同設定下，對訓練/驗證集的影響\n",
    "2. 請將 optimizer 換成 Adam、RMSprop 搭配 reduce_lr 並比較訓練結果"
   ]
  }
 ],
 "metadata": {
  "kernelspec": {
   "display_name": "Python 3",
   "language": "python",
   "name": "python3"
  },
  "language_info": {
   "codemirror_mode": {
    "name": "ipython",
    "version": 3
   },
   "file_extension": ".py",
   "mimetype": "text/x-python",
   "name": "python",
   "nbconvert_exporter": "python",
   "pygments_lexer": "ipython3",
   "version": "3.7.3"
  }
 },
 "nbformat": 4,
 "nbformat_minor": 2
}
