{
 "cells": [
  {
   "cell_type": "markdown",
   "metadata": {},
   "source": [
    "# DAY 32"
   ]
  },
  {
   "cell_type": "markdown",
   "metadata": {},
   "source": [
    "## 練習時間\n",
    "相信大家目前都能夠初步了解機器學習專案的流程及步驟，今天的作業希望大家能夠看看全球機器學習巨頭們在做的機器學習專案。以 google 為例，下圖是 Google 內部專案使用機器學習的數量，隨著時間進展，現在早已超過 2000 個專案在使用 ML。\n",
    "\n",
    "## 參考資料\n",
    "\n",
    "**The 7 Steps of Machine Learning (AI Adventures):** https://www.youtube.com/watch?v=nKW8Ndu7Mjw"
   ]
  },
  {
   "cell_type": "markdown",
   "metadata": {},
   "source": [
    "![image](https://cdn-images-1.medium.com/max/800/1*U_L8qI8RmYS-MOBrYvXhSA.png)"
   ]
  },
  {
   "cell_type": "markdown",
   "metadata": {},
   "source": [
    "***\n",
    "## Personalized Hey Siri (PHS)\n",
    "\n",
    "Source : https://machinelearning.apple.com/2018/04/16/personalized-hey-siri.html\n",
    "\n",
    "Introduction: ***Hey Siri*** is an Apple's speaker recognition system, which allows users to ***access*** Siri in situations where their hands might be otherwise occupied. \n",
    "\n",
    "Target/Goal: The purpose of the “Hey Siri” feature is to enable users to make Siri requests, solving the 3 most occured scenario of **unintended activations** by personalizing each device to ascertain the identify of the specific users' voice. \n",
    "\n",
    "> The primary user says a similar phrase; other users say “Hey Siri,”; and other users say a similar phrase\n",
    "\n",
    "Challenges of SR: Need to define a decision threshold to balance between FA/IA and FR (higher threshold would reduce FA/IA and increase FR).\n",
    "\n",
    "  - **Imposter Accept (IA)** is observed when other users says \"Hey Siri\" and trigger the system.\n",
    "  - **False Accept (FA)** is observed when the device wakes up to a non-“Hey Siri” phrase. Like \"Are you serious\".\n",
    "  - **False Reject (FR)** is observed when the target user says “Hey Siri” and his or her device **does not wake up**. E.g. Noisy environment.\n",
    "***\n",
    "**Figure 1 Block Diagram of PHS**\n",
    "<img src=https://machinelearning.apple.com/images/journals/personalized-hey-siri/phs_diagram-01_2x.png alt=\"Block Diagram of PHS\" width=\"600\" height=\"200\">\n",
    "\n",
    "**Figure 2 DNN Training Diagram**\n",
    "<img src=https://machinelearning.apple.com/images/journals/personalized-hey-siri/phs_dnn_training_2x.png alt=\"Block Diagram of PHS\" width=\"600\" height=\"200\">\n",
    "***\n",
    "Technique : Speaker Recognition(SR), Deep neural networks, Recurrent Neural Network, Multi-Style Training, Curriculum Learning, Linear Discriminant Analysis (LDA), \n",
    "\n",
    "Data Source : User-selves\n"
   ]
  },
  {
   "cell_type": "markdown",
   "metadata": {},
   "source": [
    "- [Google AI blog](https://ai.googleblog.com/)\n",
    "- [Facebook Research blog](https://research.fb.com/blog/)\n",
    "- [Apple machine learning journal](https://machinelearning.apple.com/)\n",
    "- [機器之心](https://www.jiqizhixin.com/)\n",
    "- [雷鋒網](http://www.leiphone.com/category/ai)"
   ]
  }
 ],
 "metadata": {
  "kernelspec": {
   "display_name": "Python 3",
   "language": "python",
   "name": "python3"
  },
  "language_info": {
   "codemirror_mode": {
    "name": "ipython",
    "version": 3
   },
   "file_extension": ".py",
   "mimetype": "text/x-python",
   "name": "python",
   "nbconvert_exporter": "python",
   "pygments_lexer": "ipython3",
   "version": "3.7.3"
  }
 },
 "nbformat": 4,
 "nbformat_minor": 2
}
