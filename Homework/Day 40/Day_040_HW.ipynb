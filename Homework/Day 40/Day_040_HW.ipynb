{
 "cells": [
  {
   "cell_type": "markdown",
   "metadata": {},
   "source": [
    "# DAY 40"
   ]
  },
  {
   "cell_type": "markdown",
   "metadata": {},
   "source": [
    "## 練習時間\n",
    "試著使用 sklearn datasets 的其他資料集 (boston, ...)，來訓練自己的線性迴歸模型，並加上適當的正規化來觀察訓練情形。\n",
    "\n",
    "## [作業重點]\n",
    "使用 Sklearn 中的 Lasso, Ridge 模型，來訓練各種資料集，務必了解送進去模型訓練的**資料型態**為何，也請了解模型中各項參數的意義。\n",
    "\n",
    "機器學習的模型非常多種，但要訓練的資料多半有固定的格式，確保你了解訓練資料的格式為何，這樣在應用新模型時，就能夠最快的上手開始訓練！"
   ]
  },
  {
   "cell_type": "code",
   "execution_count": 1,
   "metadata": {},
   "outputs": [],
   "source": [
    "import numpy as np\n",
    "import matplotlib.pyplot as plt\n",
    "from sklearn import datasets, linear_model\n",
    "from sklearn.model_selection import train_test_split\n",
    "from sklearn.metrics import mean_squared_error, r2_score"
   ]
  },
  {
   "cell_type": "markdown",
   "metadata": {},
   "source": [
    "### Use original Linear Regression"
   ]
  },
  {
   "cell_type": "code",
   "execution_count": 2,
   "metadata": {
    "scrolled": true
   },
   "outputs": [
    {
     "name": "stdout",
     "output_type": "stream",
     "text": [
      "Coefficients:  [-1.13055924e-01  3.01104641e-02  4.03807204e-02  2.78443820e+00\n",
      " -1.72026334e+01  4.43883520e+00 -6.29636221e-03 -1.44786537e+00\n",
      "  2.62429736e-01 -1.06467863e-02 -9.15456240e-01  1.23513347e-02\n",
      " -5.08571424e-01]\n",
      "Mean squared error: 24.29\n"
     ]
    }
   ],
   "source": [
    "boston = datasets.load_boston()\n",
    "\n",
    "x_train, x_test, y_train, y_test = train_test_split(boston.data, boston.target, test_size=0.2, random_state=42)\n",
    "\n",
    "regr = linear_model.LinearRegression()\n",
    "\n",
    "regr.fit(x_train, y_train)\n",
    "\n",
    "y_pred = regr.predict(x_test)\n",
    "\n",
    "\n",
    "# 可以看回歸模型的參數值\n",
    "print('Coefficients: ', regr.coef_)\n",
    "\n",
    "# 預測值與實際值的差距，使用 MSE\n",
    "print(\"Mean squared error: %.2f\"\n",
    "      % mean_squared_error(y_test, y_pred))"
   ]
  },
  {
   "cell_type": "markdown",
   "metadata": {},
   "source": [
    "### Leverage HW38, use Lasso to predict datasets.load_boston()"
   ]
  },
  {
   "cell_type": "code",
   "execution_count": 3,
   "metadata": {},
   "outputs": [
    {
     "name": "stdout",
     "output_type": "stream",
     "text": [
      "alpha = 0.001\n",
      "Coefficients:  [-1.12881360e-01  3.01954998e-02  3.89490293e-02  2.76307020e+00\n",
      " -1.68662604e+01  4.43878387e+00 -6.51620597e-03 -1.44268060e+00\n",
      "  2.61824758e-01 -1.06817501e-02 -9.11693590e-01  1.23646200e-02\n",
      " -5.09377240e-01]\n",
      "Mean squared error: 24.29\n",
      "\n",
      "alpha = 0.1\n",
      "Coefficients:  [-0.10415691  0.03489335 -0.01678527  0.91995182 -0.          4.31168655\n",
      " -0.01512583 -1.15148729  0.23923695 -0.01296223 -0.73224678  0.01309057\n",
      " -0.56467442]\n",
      "Mean squared error: 25.16\n",
      "\n",
      "alpha = 0.5\n",
      "Coefficients:  [-0.09303407  0.03263992 -0.          0.         -0.          3.12988585\n",
      "  0.         -0.91525478  0.23659632 -0.01303179 -0.72922874  0.01234997\n",
      " -0.64998372]\n",
      "Mean squared error: 24.32\n",
      "\n",
      "alpha = 1\n",
      "Coefficients:  [-0.07660927  0.02850064 -0.          0.         -0.          1.63048892\n",
      "  0.01639478 -0.63085765  0.21965363 -0.01228558 -0.70858233  0.0111811\n",
      " -0.74710661]\n",
      "Mean squared error: 24.41\n"
     ]
    }
   ],
   "source": [
    "x_train, x_test, y_train, y_test = train_test_split(boston.data, boston.target, test_size=0.2, random_state=42)\n",
    "\n",
    "# alpha = 0.001\n",
    "\n",
    "regr = linear_model.Lasso(alpha=0.001)\n",
    "print(\"alpha = 0.001\")\n",
    "\n",
    "regr.fit(x_train, y_train)\n",
    "\n",
    "y_pred = regr.predict(x_test)\n",
    "\n",
    "# 可以看回歸模型的參數值\n",
    "print('Coefficients: ', regr.coef_)\n",
    "\n",
    "# 預測值與實際值的差距，使用 MSE\n",
    "print(\"Mean squared error: %.2f\"\n",
    "      % mean_squared_error(y_test, y_pred))\n",
    "\n",
    "print(\"\")\n",
    "\n",
    "\n",
    "# alpha = 0.1\n",
    "regr = linear_model.Lasso(alpha=0.1)\n",
    "print(\"alpha = 0.1\")\n",
    "\n",
    "regr.fit(x_train, y_train)\n",
    "\n",
    "y_pred = regr.predict(x_test)\n",
    "\n",
    "# 可以看回歸模型的參數值\n",
    "print('Coefficients: ', regr.coef_)\n",
    "\n",
    "# 預測值與實際值的差距，使用 MSE\n",
    "print(\"Mean squared error: %.2f\"\n",
    "      % mean_squared_error(y_test, y_pred))\n",
    "\n",
    "print(\"\")\n",
    "\n",
    "# alpha = 0.5\n",
    "regr = linear_model.Lasso(alpha=0.5)\n",
    "print(\"alpha = 0.5\")\n",
    "\n",
    "regr.fit(x_train, y_train)\n",
    "\n",
    "y_pred = regr.predict(x_test)\n",
    "\n",
    "# 可以看回歸模型的參數值\n",
    "print('Coefficients: ', regr.coef_)\n",
    "\n",
    "# 預測值與實際值的差距，使用 MSE\n",
    "print(\"Mean squared error: %.2f\"\n",
    "      % mean_squared_error(y_test, y_pred))\n",
    "\n",
    "print(\"\")\n",
    "\n",
    "# alpha = 1\n",
    "regr = linear_model.Lasso(alpha=1)\n",
    "print(\"alpha = 1\")\n",
    "\n",
    "regr.fit(x_train, y_train)\n",
    "\n",
    "y_pred = regr.predict(x_test)\n",
    "\n",
    "# 可以看回歸模型的參數值\n",
    "print('Coefficients: ', regr.coef_)\n",
    "\n",
    "# 預測值與實際值的差距，使用 MSE\n",
    "print(\"Mean squared error: %.2f\"\n",
    "      % mean_squared_error(y_test, y_pred))"
   ]
  },
  {
   "cell_type": "markdown",
   "metadata": {},
   "source": [
    "### Leverage HW38, use Ridge to predict datasets.load_boston()"
   ]
  },
  {
   "cell_type": "code",
   "execution_count": 4,
   "metadata": {},
   "outputs": [
    {
     "name": "stdout",
     "output_type": "stream",
     "text": [
      "alpha = 0.001\n",
      "Coefficients:  [-1.13048818e-01  3.01142162e-02  4.03215214e-02  2.78407722e+00\n",
      " -1.71888387e+01  4.43891333e+00 -6.30727570e-03 -1.44766825e+00\n",
      "  2.62403820e-01 -1.06482208e-02 -9.15297505e-01  1.23518659e-02\n",
      " -5.08596323e-01]\n",
      "Mean squared error: 24.29\n",
      "\n",
      "alpha = 0.1\n",
      "Coefficients:  [-1.12399694e-01  3.04593914e-02  3.48958400e-02  2.75033318e+00\n",
      " -1.59244585e+01  4.44577949e+00 -7.30474388e-03 -1.42960751e+00\n",
      "  2.60042840e-01 -1.07802286e-02 -9.00771040e-01  1.24004789e-02\n",
      " -5.10902332e-01]\n",
      "Mean squared error: 24.30\n",
      "\n",
      "alpha = 0.5\n",
      "Coefficients:  [-1.10558458e-01  3.14754936e-02  1.92349682e-02  2.64289199e+00\n",
      " -1.22740970e+01  4.46102913e+00 -1.01408357e-02 -1.37755922e+00\n",
      "  2.53447202e-01 -1.11693299e-02 -8.59180851e-01  1.25397346e-02\n",
      " -5.17928658e-01]\n",
      "Mean squared error: 24.38\n",
      "\n",
      "alpha = 1\n",
      "Coefficients:  [-1.09234061e-01  3.22706863e-02  7.49805942e-03  2.54546998e+00\n",
      " -9.53795159e+00  4.46450537e+00 -1.21910176e-02 -1.33870040e+00\n",
      "  2.48881816e-01 -1.14746211e-02 -8.28604284e-01  1.26421124e-02\n",
      " -5.23833016e-01]\n",
      "Mean squared error: 24.48\n"
     ]
    }
   ],
   "source": [
    "x_train, x_test, y_train, y_test = train_test_split(boston.data, boston.target, test_size=0.2, random_state=42)\n",
    "\n",
    "# alpha = 0.001\n",
    "\n",
    "regr = linear_model.Ridge(alpha=0.001)\n",
    "print(\"alpha = 0.001\")\n",
    "\n",
    "regr.fit(x_train, y_train)\n",
    "\n",
    "y_pred = regr.predict(x_test)\n",
    "\n",
    "# 可以看回歸模型的參數值\n",
    "print('Coefficients: ', regr.coef_)\n",
    "\n",
    "# 預測值與實際值的差距，使用 MSE\n",
    "print(\"Mean squared error: %.2f\"\n",
    "      % mean_squared_error(y_test, y_pred))\n",
    "\n",
    "print(\"\")\n",
    "\n",
    "\n",
    "# alpha = 0.1\n",
    "regr = linear_model.Ridge(alpha=0.1)\n",
    "print(\"alpha = 0.1\")\n",
    "\n",
    "regr.fit(x_train, y_train)\n",
    "\n",
    "y_pred = regr.predict(x_test)\n",
    "\n",
    "# 可以看回歸模型的參數值\n",
    "print('Coefficients: ', regr.coef_)\n",
    "\n",
    "# 預測值與實際值的差距，使用 MSE\n",
    "print(\"Mean squared error: %.2f\"\n",
    "      % mean_squared_error(y_test, y_pred))\n",
    "\n",
    "print(\"\")\n",
    "\n",
    "# alpha = 0.5\n",
    "regr = linear_model.Ridge(alpha=0.5)\n",
    "print(\"alpha = 0.5\")\n",
    "\n",
    "regr.fit(x_train, y_train)\n",
    "\n",
    "y_pred = regr.predict(x_test)\n",
    "\n",
    "# 可以看回歸模型的參數值\n",
    "print('Coefficients: ', regr.coef_)\n",
    "\n",
    "# 預測值與實際值的差距，使用 MSE\n",
    "print(\"Mean squared error: %.2f\"\n",
    "      % mean_squared_error(y_test, y_pred))\n",
    "\n",
    "print(\"\")\n",
    "\n",
    "# alpha = 1\n",
    "regr = linear_model.Ridge(alpha=1)\n",
    "print(\"alpha = 1\")\n",
    "\n",
    "regr.fit(x_train, y_train)\n",
    "\n",
    "y_pred = regr.predict(x_test)\n",
    "\n",
    "# 可以看回歸模型的參數值\n",
    "print('Coefficients: ', regr.coef_)\n",
    "\n",
    "# 預測值與實際值的差距，使用 MSE\n",
    "print(\"Mean squared error: %.2f\"\n",
    "      % mean_squared_error(y_test, y_pred))"
   ]
  },
  {
   "cell_type": "markdown",
   "metadata": {},
   "source": [
    "***\n",
    "### Reference"
   ]
  },
  {
   "cell_type": "code",
   "execution_count": 5,
   "metadata": {},
   "outputs": [
    {
     "data": {
      "image/png": "[encoded data removed]",
      "text/plain": [
       "<Figure size 1440x432 with 2 Axes>"
      ]
     },
     "metadata": {
      "needs_background": "light"
     },
     "output_type": "display_data"
    }
   ],
   "source": [
    "#load the boston dataset\n",
    "boston = datasets.load_boston()\n",
    "\n",
    "#split the train/test dataset\n",
    "train_x,test_x,train_y,test_y = train_test_split(boston.data,boston.target, test_size = 0.2 , random_state = 2019)\n",
    "\n",
    "#alpha array\n",
    "\n",
    "alphas = np.logspace(-3, 0, 100)\n",
    "\n",
    "#build the LASSO model\n",
    "lasso = linear_model.Lasso()\n",
    "coefs = []\n",
    "errors = []\n",
    "for alpha in alphas:\n",
    "        lasso.set_params(alpha = alpha)\n",
    "        lasso.fit(train_x,train_y)\n",
    "        pred = lasso.predict(test_x)\n",
    "        \n",
    "        errors.append(mean_squared_error(test_y,pred))\n",
    "        coefs.append(lasso.coef_)\n",
    "\n",
    "plt.figure(figsize = (20,6))\n",
    "\n",
    "plt.subplot(1,2,1)\n",
    "ax = plt.gca()\n",
    "plt.plot(alphas, errors)\n",
    "ax.set_xscale('log')\n",
    "plt.grid()\n",
    "plt.xlabel('alpha')\n",
    "plt.ylabel('errors')\n",
    "plt.title('Lasso MSEs V.S. alpha')\n",
    "\n",
    "plt.subplot(1,2,2)\n",
    "ax = plt.gca()\n",
    "plt.plot(alphas,coefs)\n",
    "ax.set_xscale('log')\n",
    "plt.grid()\n",
    "plt.xlabel('alpha')\n",
    "plt.ylabel('weights')\n",
    "plt.title('Lasso weights V.S. alpha')\n",
    "plt.show()"
   ]
  },
  {
   "cell_type": "code",
   "execution_count": 6,
   "metadata": {},
   "outputs": [
    {
     "name": "stdout",
     "output_type": "stream",
     "text": [
      "MSE :  24.536151023563836\n",
      " Lasso coefficients : [-0.11503648  0.04752227 -0.02296171  0.         -0.          2.90023797\n",
      "  0.01228307 -0.91220848  0.26863228 -0.01420365 -0.7064748   0.00991153\n",
      " -0.67098921] \n"
     ]
    }
   ],
   "source": [
    "#Select the alpha which makes the smallest error\n",
    "best_alpha = alphas[np.argmin(errors)]\n",
    "lasso.set_params(alpha = best_alpha)\n",
    "lasso.fit(train_x,train_y)\n",
    "pred = lasso.predict(test_x)\n",
    "\n",
    "#Measure the error\n",
    "print('MSE : ', mean_squared_error(pred,test_y))\n",
    "print(f' Lasso coefficients : {lasso.coef_} ')"
   ]
  }
 ],
 "metadata": {
  "kernelspec": {
   "display_name": "Python 3",
   "language": "python",
   "name": "python3"
  },
  "language_info": {
   "codemirror_mode": {
    "name": "ipython",
    "version": 3
   },
   "file_extension": ".py",
   "mimetype": "text/x-python",
   "name": "python",
   "nbconvert_exporter": "python",
   "pygments_lexer": "ipython3",
   "version": "3.7.3"
  }
 },
 "nbformat": 4,
 "nbformat_minor": 2
}
