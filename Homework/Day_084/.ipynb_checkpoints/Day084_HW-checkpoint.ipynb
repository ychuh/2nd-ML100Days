{
 "cells": [
  {
   "cell_type": "markdown",
   "metadata": {
    "colab_type": "text",
    "id": "J4LSd5Tmzi6e"
   },
   "source": [
    "## Work\n",
    "### 請結合前面的知識與程式碼，比較不同的 regularization 的組合對訓練的結果與影響：如 dropout, regularizers, batch-normalization 等"
   ]
  },
  {
   "cell_type": "code",
   "execution_count": 1,
   "metadata": {
    "colab": {},
    "colab_type": "code",
    "id": "szSgew-3zi6f"
   },
   "outputs": [
    {
     "name": "stderr",
     "output_type": "stream",
     "text": [
      "Using TensorFlow backend.\n"
     ]
    }
   ],
   "source": [
    "import os\n",
    "import keras\n",
    "import itertools\n",
    "# Disable GPU\n",
    "os.environ[\"CUDA_VISIBLE_DEVICES\"] = \"\"\n",
    "from keras.regularizers import l1, l2, l1_l2"
   ]
  },
  {
   "cell_type": "code",
   "execution_count": 2,
   "metadata": {
    "colab": {},
    "colab_type": "code",
    "id": "WPB_R1OMzi6h"
   },
   "outputs": [],
   "source": [
    "train, test = keras.datasets.cifar10.load_data()"
   ]
  },
  {
   "cell_type": "code",
   "execution_count": 3,
   "metadata": {
    "colab": {},
    "colab_type": "code",
    "id": "rKxOlpEAzi6j"
   },
   "outputs": [],
   "source": [
    "## 資料前處理\n",
    "def preproc_x(x, flatten=True):\n",
    "    x = x / 255.\n",
    "    if flatten:\n",
    "        x = x.reshape((len(x), -1))\n",
    "    return x\n",
    "\n",
    "def preproc_y(y, num_classes=10):\n",
    "    if y.shape[-1] == 1:\n",
    "        y = keras.utils.to_categorical(y, num_classes)\n",
    "    return y    "
   ]
  },
  {
   "cell_type": "code",
   "execution_count": null,
   "metadata": {
    "colab": {
     "base_uri": "https://localhost:8080/",
     "height": 50
    },
    "colab_type": "code",
    "id": "CvZBxoAfzi6l",
    "outputId": "23de8810-766e-48ca-e670-86fd9924b119"
   },
   "outputs": [
    {
     "name": "stdout",
     "output_type": "stream",
     "text": [
      "(50000, 32, 32, 3)\n",
      "(50000, 10)\n"
     ]
    }
   ],
   "source": [
    "x_train, y_train = train\n",
    "x_test, y_test = test\n",
    "\n",
    "# Preproc the inputs\n",
    "x_train = preproc_x(x_train, flatten=False)\n",
    "x_test = preproc_x(x_test, flatten=False)\n",
    "\n",
    "# Preprc the outputs\n",
    "y_train = preproc_y(y_train)\n",
    "y_test = preproc_y(y_test)\n",
    "\n",
    "print(x_train.shape)\n",
    "print(y_train.shape)"
   ]
  },
  {
   "cell_type": "code",
   "execution_count": null,
   "metadata": {
    "colab": {},
    "colab_type": "code",
    "id": "6TfGeQ27zi6n"
   },
   "outputs": [],
   "source": [
    "def build_mlp(input_shape, drop_rate, regularizer, hidden_layer=2, num_nurons=[512, 256, 128]):\n",
    "       \n",
    "    input_layer = keras.layers.Input(input_shape)\n",
    "    for i in range(hidden_layer+1):\n",
    "      if i==0:\n",
    "        x = keras.layers.Conv2D(filters=64, kernel_size=(3,3), padding='same', activation=\"relu\", name=\"input_layer\")(input_layer)\n",
    "      else:\n",
    "        x = keras.layers.Conv2D(filters=32, kernel_size=(3,3), padding='same', activation=\"relu\", name=\"hidden_layer\"+str(i))(x)\n",
    "        x = keras.layers.MaxPooling2D(pool_size=(2,2))(x)\n",
    "        x = keras.layers.Dropout(drop_rate)(x)\n",
    "    \n",
    "    x = keras.layers.Flatten()(x)\n",
    "    \n",
    "    for i, units in enumerate(num_nurons):\n",
    "        x = keras.layers.Dense(units=units, activation=\"relu\")(x)\n",
    "        x = keras.layers.BatchNormalization()(x)\n",
    "        x = keras.layers.Dropout(drop_rate)(x)\n",
    "    \n",
    "    output_layer = keras.layers.Dense(units=10, activation=\"softmax\", name=\"output_layer\")(x)\n",
    "    \n",
    "    model = keras.models.Model(inputs=[input_layer], outputs=[output_layer])\n",
    "    \n",
    "    adam = keras.optimizers.Adam(lr=1e-3)\n",
    "    \n",
    "    model.compile(optimizer=adam, loss='categorical_crossentropy', metrics=['accuracy'])\n",
    "    \n",
    "    return model"
   ]
  },
  {
   "cell_type": "code",
   "execution_count": null,
   "metadata": {
    "colab": {},
    "colab_type": "code",
    "id": "6GnHg299zi6p"
   },
   "outputs": [],
   "source": [
    "BATCH_SIZE = [512, 256]\n",
    "EPOCHS = 2\n",
    "drp_rate = [1e-1, 1e-2, 1e-4]\n",
    "regularizer = [l2, l1_l2, l1]\n",
    "reg_keys = ['l2', 'l1_l2', 'l1']"
   ]
  },
  {
   "cell_type": "code",
   "execution_count": null,
   "metadata": {
    "colab": {
     "base_uri": "https://localhost:8080/",
     "height": 722
    },
    "colab_type": "code",
    "id": "ZQu5FfxRzi6r",
    "outputId": "3e5ef7ed-2e51-44af-83a3-69fe0fff0411",
    "scrolled": true
   },
   "outputs": [
    {
     "name": "stderr",
     "output_type": "stream",
     "text": [
      "WARNING: Logging before flag parsing goes to stderr.\n",
      "W0727 14:32:21.432453  6548 deprecation_wrapper.py:119] From C:\\Users\\Ychu\\Anaconda3\\lib\\site-packages\\keras\\backend\\tensorflow_backend.py:74: The name tf.get_default_graph is deprecated. Please use tf.compat.v1.get_default_graph instead.\n",
      "\n",
      "W0727 14:32:21.455453  6548 deprecation_wrapper.py:119] From C:\\Users\\Ychu\\Anaconda3\\lib\\site-packages\\keras\\backend\\tensorflow_backend.py:517: The name tf.placeholder is deprecated. Please use tf.compat.v1.placeholder instead.\n",
      "\n",
      "W0727 14:32:21.458454  6548 deprecation_wrapper.py:119] From C:\\Users\\Ychu\\Anaconda3\\lib\\site-packages\\keras\\backend\\tensorflow_backend.py:4138: The name tf.random_uniform is deprecated. Please use tf.random.uniform instead.\n",
      "\n",
      "W0727 14:32:21.483455  6548 deprecation_wrapper.py:119] From C:\\Users\\Ychu\\Anaconda3\\lib\\site-packages\\keras\\backend\\tensorflow_backend.py:3976: The name tf.nn.max_pool is deprecated. Please use tf.nn.max_pool2d instead.\n",
      "\n",
      "W0727 14:32:21.486458  6548 deprecation_wrapper.py:119] From C:\\Users\\Ychu\\Anaconda3\\lib\\site-packages\\keras\\backend\\tensorflow_backend.py:133: The name tf.placeholder_with_default is deprecated. Please use tf.compat.v1.placeholder_with_default instead.\n",
      "\n",
      "W0727 14:32:21.495457  6548 deprecation.py:506] From C:\\Users\\Ychu\\Anaconda3\\lib\\site-packages\\keras\\backend\\tensorflow_backend.py:3445: calling dropout (from tensorflow.python.ops.nn_ops) with keep_prob is deprecated and will be removed in a future version.\n",
      "Instructions for updating:\n",
      "Please use `rate` instead of `keep_prob`. Rate should be set to `rate = 1 - keep_prob`.\n",
      "W0727 14:32:21.875488  6548 deprecation_wrapper.py:119] From C:\\Users\\Ychu\\Anaconda3\\lib\\site-packages\\keras\\optimizers.py:790: The name tf.train.Optimizer is deprecated. Please use tf.compat.v1.train.Optimizer instead.\n",
      "\n",
      "W0727 14:32:21.882490  6548 deprecation_wrapper.py:119] From C:\\Users\\Ychu\\Anaconda3\\lib\\site-packages\\keras\\backend\\tensorflow_backend.py:3295: The name tf.log is deprecated. Please use tf.math.log instead.\n",
      "\n",
      "W0727 14:32:21.984498  6548 deprecation.py:323] From C:\\Users\\Ychu\\Anaconda3\\lib\\site-packages\\tensorflow\\python\\ops\\math_grad.py:1250: add_dispatch_support.<locals>.wrapper (from tensorflow.python.ops.array_ops) is deprecated and will be removed in a future version.\n",
      "Instructions for updating:\n",
      "Use tf.where in 2.0, which has the same broadcast rule as np.where\n"
     ]
    },
    {
     "name": "stdout",
     "output_type": "stream",
     "text": [
      "_________________________________________________________________\n",
      "Layer (type)                 Output Shape              Param #   \n",
      "=================================================================\n",
      "input_1 (InputLayer)         (None, 32, 32, 3)         0         \n",
      "_________________________________________________________________\n",
      "input_layer (Conv2D)         (None, 32, 32, 64)        1792      \n",
      "_________________________________________________________________\n",
      "hidden_layer1 (Conv2D)       (None, 32, 32, 32)        18464     \n",
      "_________________________________________________________________\n",
      "max_pooling2d_1 (MaxPooling2 (None, 16, 16, 32)        0         \n",
      "_________________________________________________________________\n",
      "dropout_1 (Dropout)          (None, 16, 16, 32)        0         \n",
      "_________________________________________________________________\n",
      "hidden_layer2 (Conv2D)       (None, 16, 16, 32)        9248      \n",
      "_________________________________________________________________\n",
      "max_pooling2d_2 (MaxPooling2 (None, 8, 8, 32)          0         \n",
      "_________________________________________________________________\n",
      "dropout_2 (Dropout)          (None, 8, 8, 32)          0         \n",
      "_________________________________________________________________\n",
      "flatten_1 (Flatten)          (None, 2048)              0         \n",
      "_________________________________________________________________\n",
      "dense_1 (Dense)              (None, 512)               1049088   \n",
      "_________________________________________________________________\n",
      "batch_normalization_1 (Batch (None, 512)               2048      \n",
      "_________________________________________________________________\n",
      "dropout_3 (Dropout)          (None, 512)               0         \n",
      "_________________________________________________________________\n",
      "dense_2 (Dense)              (None, 256)               131328    \n",
      "_________________________________________________________________\n",
      "batch_normalization_2 (Batch (None, 256)               1024      \n",
      "_________________________________________________________________\n",
      "dropout_4 (Dropout)          (None, 256)               0         \n",
      "_________________________________________________________________\n",
      "dense_3 (Dense)              (None, 128)               32896     \n",
      "_________________________________________________________________\n",
      "batch_normalization_3 (Batch (None, 128)               512       \n",
      "_________________________________________________________________\n",
      "dropout_5 (Dropout)          (None, 128)               0         \n",
      "_________________________________________________________________\n",
      "output_layer (Dense)         (None, 10)                1290      \n",
      "=================================================================\n",
      "Total params: 1,247,690\n",
      "Trainable params: 1,245,898\n",
      "Non-trainable params: 1,792\n",
      "_________________________________________________________________\n",
      "Train on 50000 samples, validate on 10000 samples\n",
      "Epoch 1/2\n",
      "24064/50000 [=============>................] - ETA: 1:03 - loss: 1.9658 - acc: 0.3304"
     ]
    }
   ],
   "source": [
    "results = {}\n",
    "\n",
    "for i, reg in enumerate(regularizer):\n",
    "    for drp in drp_rate:\n",
    "      for b in BATCH_SIZE:    \n",
    "        model = build_mlp(x_train.shape[1:], drop_rate=drp, regularizer=reg)\n",
    "        model.summary()\n",
    "        history = model.fit(x_train, y_train, batch_size=b, epochs=EPOCHS, verbose=1, shuffle=True, validation_data=(x_test, y_test))\n",
    "        \n",
    "        # Collecting accuracy/loss\n",
    "        train_loss = history.history['loss']\n",
    "        test_loss = history.history['val_loss']\n",
    "        train_acc = history.history['acc']\n",
    "        test_acc = history.history['val_acc']\n",
    "        \n",
    "        tag = \"size: %s -- drp_rate: %s -- reg: %s\" %(str(b), str(drp_rate), str(reg_keys[i]))\n",
    "        results[tag] = {\"train_loss\": train_loss,\n",
    "                        \"test_loss\": test_loss,\n",
    "                        \"train_acc\": train_acc,\n",
    "                        \"test_acc\": test_acc\n",
    "                       }\n",
    "        i += 1"
   ]
  },
  {
   "cell_type": "code",
   "execution_count": null,
   "metadata": {
    "colab": {},
    "colab_type": "code",
    "id": "AmDVunppzi6t"
   },
   "outputs": [],
   "source": [
    "import numpy as np\n",
    "import matplotlib.pyplot as plt\n",
    "%matplotlib inline\n",
    "cmap = plt.get_cmap('gnuplot')\n",
    "colors = [cmap(i) for i in np.linspace(0, 1, len(results))]\n",
    "\n",
    "plt.figure(figsize=(10, 6))\n",
    "for i, cond in enumerate(results.keys()):\n",
    "    plt.plot(results[cond]['train_acc'], '-', label=cond, color=colors[i])\n",
    "    plt.plot(results[cond]['test_acc'], '--', label=cond, color=colors[i])\n",
    "plt.title(\"Accuracy\")\n",
    "plt.legend(loc=\"upper left\")\n",
    "plt.show()\n",
    "\n",
    "plt.figure(figsize=(10, 6))\n",
    "for i, cond in enumerate(results.keys()):\n",
    "    plt.plot(range(len(results[cond]['train_loss'])),results[cond]['train_loss'], '-', label=cond, color=colors[i])\n",
    "    plt.plot(range(len(results[cond]['test_loss'])),results[cond]['test_loss'], '--', label=cond, color=colors[i])\n",
    "plt.title(\"Loss\")\n",
    "plt.legend(loc=\"upper right\")\n",
    "plt.show()"
   ]
  }
 ],
 "metadata": {
  "accelerator": "GPU",
  "colab": {
   "collapsed_sections": [],
   "name": "Day084_HW.ipynb",
   "provenance": [],
   "version": "0.3.2"
  },
  "kernelspec": {
   "display_name": "Python 3",
   "language": "python",
   "name": "python3"
  },
  "language_info": {
   "codemirror_mode": {
    "name": "ipython",
    "version": 3
   },
   "file_extension": ".py",
   "mimetype": "text/x-python",
   "name": "python",
   "nbconvert_exporter": "python",
   "pygments_lexer": "ipython3",
   "version": "3.7.3"
  }
 },
 "nbformat": 4,
 "nbformat_minor": 1
}
