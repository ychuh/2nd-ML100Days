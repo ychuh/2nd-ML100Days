{
 "cells": [
  {
   "cell_type": "markdown",
   "metadata": {
    "collapsed": true
   },
   "source": [
    "# DAY_054"
   ]
  },
  {
   "cell_type": "markdown",
   "metadata": {},
   "source": [
    "### [作業]\n",
    "* 試著想想看, 非監督學習是否有可能使用評價函數 (Metric) 來鑑別好壞呢?  \n",
    "(Hint : 可以分為 \"有目標值\" 與 \"無目標值\" 兩個方向思考)\n",
    "\n",
    "\n",
    "- 有⽬目標值的分群•如果資料有⽬目標值，只是先忽略略⽬目標值做非監督學習，則只要微調後，就可以使⽤用原本監督的測量量函數評估準確性\n",
    "\n",
    "- 無⽬目標值的分群•但通常沒有⽬目標值/⽬目標值非常少才會⽤用非監督模型，這種情況下，只能使⽤用資料本⾝身的分布資訊，來來做模型的評估\n",
    "\n",
    "\n",
    "### [參考資料]\n",
    "- [Unsupervised learning：PCA  ](http://speech.ee.ntu.edu.tw/~tlkagk/courses/ML_2017/Lecture/PCA.mp4)\n",
    "\n",
    "- [Scikit-learn unsupervised learning](https://scikit-learn.org/stable/unsupervised_learning.html)"
   ]
  },
  {
   "cell_type": "code",
   "execution_count": null,
   "metadata": {},
   "outputs": [],
   "source": []
  }
 ],
 "metadata": {
  "kernelspec": {
   "display_name": "Python 3",
   "language": "python",
   "name": "python3"
  },
  "language_info": {
   "codemirror_mode": {
    "name": "ipython",
    "version": 3
   },
   "file_extension": ".py",
   "mimetype": "text/x-python",
   "name": "python",
   "nbconvert_exporter": "python",
   "pygments_lexer": "ipython3",
   "version": "3.7.3"
  }
 },
 "nbformat": 4,
 "nbformat_minor": 1
}
